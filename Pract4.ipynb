{
  "nbformat": 4,
  "nbformat_minor": 0,
  "metadata": {
    "colab": {
      "provenance": [],
      "toc_visible": true,
      "include_colab_link": true
    },
    "kernelspec": {
      "name": "python3",
      "display_name": "Python 3"
    },
    "language_info": {
      "name": "python"
    }
  },
  "cells": [
    {
      "cell_type": "markdown",
      "metadata": {
        "id": "view-in-github",
        "colab_type": "text"
      },
      "source": [
        "<a href=\"https://colab.research.google.com/github/ShiviRaghu/boss/blob/practice/Pract4.ipynb\" target=\"_parent\"><img src=\"https://colab.research.google.com/assets/colab-badge.svg\" alt=\"Open In Colab\"/></a>"
      ]
    },
    {
      "cell_type": "markdown",
      "source": [
        "1.  Iterative Statements\n",
        "2.  Types of Iterative Statements\n",
        "3.  For Loop\n",
        "4.  While Loop\n",
        "5.  Difference Between For Loop and While Loop\n",
        "6.  Nested Loops\n",
        "7.  Transfer Statements\n",
        "8.  Continue\n",
        "8. Break\n",
        "10.Pass\n",
        "11. Loops Control with else\n",
        "\n",
        "\n"
      ],
      "metadata": {
        "id": "X9MS2_T55hbS"
      }
    },
    {
      "cell_type": "markdown",
      "source": [
        "## flow chart,pseudo code"
      ],
      "metadata": {
        "id": "_00edhuRXTg6"
      }
    },
    {
      "cell_type": "markdown",
      "source": [
        "## for loop\n",
        "1. for loop --> a way to repeat multiple times --> n times (optimized action),save time and effort\n",
        "2. range (start,end,step(optional)) start includes ,ends at n-1"
      ],
      "metadata": {
        "id": "M4_RsxxRHaIP"
      }
    },
    {
      "cell_type": "code",
      "source": [
        "for i in range (0,8):\n",
        "  print(i)\n",
        "'abc'"
      ],
      "metadata": {
        "id": "gZdcn487Hcvp",
        "outputId": "8622149e-c4e8-4563-94a8-fc264f58a7eb",
        "colab": {
          "base_uri": "https://localhost:8080/",
          "height": 174
        }
      },
      "execution_count": 7,
      "outputs": [
        {
          "output_type": "stream",
          "name": "stdout",
          "text": [
            "0\n",
            "1\n",
            "2\n",
            "3\n",
            "4\n",
            "5\n",
            "6\n",
            "7\n"
          ]
        },
        {
          "output_type": "execute_result",
          "data": {
            "text/plain": [
              "'abc'"
            ],
            "application/vnd.google.colaboratory.intrinsic+json": {
              "type": "string"
            }
          },
          "metadata": {},
          "execution_count": 7
        }
      ]
    },
    {
      "cell_type": "code",
      "source": [
        "for i in \"apple\":\n",
        "  print(i,end =' ')\n"
      ],
      "metadata": {
        "id": "wRG92gdfZwoD",
        "outputId": "e98c5cb9-16a6-4b2d-8034-09bf94f58728",
        "colab": {
          "base_uri": "https://localhost:8080/"
        }
      },
      "execution_count": 13,
      "outputs": [
        {
          "output_type": "stream",
          "name": "stdout",
          "text": [
            "a p p l e "
          ]
        }
      ]
    },
    {
      "cell_type": "code",
      "source": [
        "for i in '10':\n",
        "  print(i)"
      ],
      "metadata": {
        "id": "lKHKbI6sb7MD",
        "outputId": "ee04c4d3-bb34-43b0-a891-58b2575acbb0",
        "colab": {
          "base_uri": "https://localhost:8080/"
        }
      },
      "execution_count": 20,
      "outputs": [
        {
          "output_type": "stream",
          "name": "stdout",
          "text": [
            "1\n",
            "0\n"
          ]
        }
      ]
    },
    {
      "cell_type": "code",
      "source": [
        "range(0,2)\n",
        "print(range(0,2))"
      ],
      "metadata": {
        "id": "VrfnHXJKbm9P",
        "outputId": "14f5a2ac-09ac-4348-a5d9-143ca56ffc00",
        "colab": {
          "base_uri": "https://localhost:8080/"
        }
      },
      "execution_count": 18,
      "outputs": [
        {
          "output_type": "stream",
          "name": "stdout",
          "text": [
            "range(0, 2)\n"
          ]
        }
      ]
    },
    {
      "cell_type": "code",
      "source": [
        "for i in range(0,10,2):\n",
        "  print(i)"
      ],
      "metadata": {
        "id": "3Gsk186Obadp",
        "outputId": "77c8d74b-da5f-42e4-950b-ea9a5a8a17bf",
        "colab": {
          "base_uri": "https://localhost:8080/"
        }
      },
      "execution_count": 15,
      "outputs": [
        {
          "output_type": "stream",
          "name": "stdout",
          "text": [
            "0\n",
            "2\n",
            "4\n",
            "6\n",
            "8\n"
          ]
        }
      ]
    },
    {
      "cell_type": "code",
      "source": [
        "for i in range(1,10,2):\n",
        "  print(i)"
      ],
      "metadata": {
        "id": "s_9m4O-2ari_",
        "outputId": "cc7f6884-7b68-4431-a67e-0f897f8a7a98",
        "colab": {
          "base_uri": "https://localhost:8080/"
        }
      },
      "execution_count": 3,
      "outputs": [
        {
          "output_type": "stream",
          "name": "stdout",
          "text": [
            "1\n",
            "3\n",
            "5\n",
            "7\n",
            "9\n"
          ]
        }
      ]
    },
    {
      "cell_type": "code",
      "source": [
        "##when start is > than end\n",
        "\n",
        "for i in range(10,2,-1):\n",
        "  print(i)"
      ],
      "metadata": {
        "id": "1GKJMs5xcEy9",
        "outputId": "816e52e0-b70d-4eb8-ee62-b1103ff34d47",
        "colab": {
          "base_uri": "https://localhost:8080/"
        }
      },
      "execution_count": 5,
      "outputs": [
        {
          "output_type": "stream",
          "name": "stdout",
          "text": [
            "10\n",
            "9\n",
            "8\n",
            "7\n",
            "6\n",
            "5\n",
            "4\n",
            "3\n"
          ]
        }
      ]
    },
    {
      "cell_type": "markdown",
      "source": [
        "1. Write a program to print the first 10 multiples of a number entered by the user.\n",
        "2. Write a program to print numbers from 20 to 10 in descending order using a for loop.\n",
        "3. Write a program to calculate the sum of all even numbers between 1 and 50.\n",
        "4. Write a program to count the number of vowels in a string entered by the user.\n"
      ],
      "metadata": {
        "id": "0F9hSocpfWnc"
      }
    },
    {
      "cell_type": "code",
      "source": [
        "numb = int(input(\"enter number \"))\n",
        "for i in range (1,11):\n",
        "  print(numb*i)\n"
      ],
      "metadata": {
        "id": "OLdACQIAfXfR",
        "outputId": "abb9e6ed-942e-4f0d-b134-9db6643e7a5f",
        "colab": {
          "base_uri": "https://localhost:8080/"
        }
      },
      "execution_count": 10,
      "outputs": [
        {
          "output_type": "stream",
          "name": "stdout",
          "text": [
            "enter number 1\n",
            "1\n",
            "2\n",
            "3\n",
            "4\n",
            "5\n",
            "6\n",
            "7\n",
            "8\n",
            "9\n",
            "10\n"
          ]
        }
      ]
    },
    {
      "cell_type": "code",
      "source": [
        "for i in range(20,9,-1):\n",
        "  print(i)"
      ],
      "metadata": {
        "id": "bi-YhnANf8Bp",
        "outputId": "08a8f307-d6e3-477c-cb36-0e03179e6235",
        "colab": {
          "base_uri": "https://localhost:8080/"
        }
      },
      "execution_count": 12,
      "outputs": [
        {
          "output_type": "stream",
          "name": "stdout",
          "text": [
            "20\n",
            "19\n",
            "18\n",
            "17\n",
            "16\n",
            "15\n",
            "14\n",
            "13\n",
            "12\n",
            "11\n",
            "10\n"
          ]
        }
      ]
    },
    {
      "cell_type": "code",
      "source": [
        "##Write a program to calculate the sum of all even numbers between 1 and 50.\n",
        "sum =0\n",
        "for i in range (0,51):\n",
        "  if(i%2==0):\n",
        "    sum += i\n",
        "print(sum)\n",
        "\n",
        "sum =0\n",
        "for i in range(2,51,2):\n",
        "  sum +=i\n",
        "print(sum)"
      ],
      "metadata": {
        "id": "osIuEVuAgE1A",
        "outputId": "988c0e70-1109-4192-92f7-1eed7ceb4379",
        "colab": {
          "base_uri": "https://localhost:8080/"
        }
      },
      "execution_count": 29,
      "outputs": [
        {
          "output_type": "stream",
          "name": "stdout",
          "text": [
            "650\n",
            "650\n"
          ]
        }
      ]
    },
    {
      "cell_type": "code",
      "source": [
        "count =0\n",
        "word = input(\"enter word : \")\n",
        "for i in word.lower():\n",
        "  if i in 'aeiou':\n",
        "    count += 1\n",
        "print(f\"numb of vowels are: {count}\" )"
      ],
      "metadata": {
        "id": "37Idhx1SglOQ",
        "outputId": "dd730fc7-b588-41a6-eb37-f22770d19fe0",
        "colab": {
          "base_uri": "https://localhost:8080/"
        }
      },
      "execution_count": 26,
      "outputs": [
        {
          "output_type": "stream",
          "name": "stdout",
          "text": [
            "enter word : app\n",
            "numb of vowels are: 1\n"
          ]
        }
      ]
    },
    {
      "cell_type": "code",
      "source": [
        "word = input(\"Enter word: \")\n",
        "vowels = \"aeiou\"\n",
        "found_vowels = set()  # Use a set to store found vowels\n",
        "\n",
        "for letter in word.lower():\n",
        "  if letter in vowels:\n",
        "    found_vowels.add(letter)\n",
        "  print(found_vowels)\n",
        "\n",
        "print(f\"Number of unique vowels: {len(found_vowels)}\")"
      ],
      "metadata": {
        "id": "m54sxHC3kKbx",
        "outputId": "d3c479ed-d39b-49ec-db60-04bb95e29d16",
        "colab": {
          "base_uri": "https://localhost:8080/"
        }
      },
      "execution_count": 31,
      "outputs": [
        {
          "output_type": "stream",
          "name": "stdout",
          "text": [
            "Enter word: appleee\n",
            "{'a'}\n",
            "{'a'}\n",
            "{'a'}\n",
            "{'a'}\n",
            "{'a', 'e'}\n",
            "{'a', 'e'}\n",
            "{'a', 'e'}\n",
            "Number of unique vowels: 2\n"
          ]
        }
      ]
    },
    {
      "cell_type": "markdown",
      "source": [
        "5. Write a program to generate and print square numbers from 1 to 10.\n",
        "6. Write a program to print numbers from 1 to 30. For multiples of 3, print \"Fizz\" instead of the number, and for multiples of 5, print \"Buzz.\" For numbers that are multiples of both 3 and 5, print \"FizzBuzz.\"\n",
        "7. Write a program to calculate the factorial of a number entered by the user.\n"
      ],
      "metadata": {
        "id": "83y6omhkpIgn"
      }
    },
    {
      "cell_type": "code",
      "source": [
        "for i in range(1,11):\n",
        "  print(i**2)"
      ],
      "metadata": {
        "id": "1-i2WdKopGV4",
        "outputId": "feec1ede-f438-41d9-c543-63d805205927",
        "colab": {
          "base_uri": "https://localhost:8080/"
        }
      },
      "execution_count": 37,
      "outputs": [
        {
          "output_type": "stream",
          "name": "stdout",
          "text": [
            "1\n",
            "4\n",
            "9\n",
            "16\n",
            "25\n",
            "36\n",
            "49\n",
            "64\n",
            "81\n",
            "100\n"
          ]
        }
      ]
    },
    {
      "cell_type": "code",
      "source": [
        "##Write a program to print numbers from 1 to 30. For multiples of 3, print \"Fizz\"\n",
        "##instead of the number, and for multiples of 5, print \"Buzz.\"\n",
        "##For numbers that are multiples of both 3 and 5, print \"FizzBuzz.\"\n",
        "\n",
        "for i in range(1,31):\n",
        "  if(i%3==0) and (i%5==0):\n",
        "    print(f\"{i} FizzBuzz\")\n",
        "  elif(i%3==0):\n",
        "    print(f\"{i} Fizz\")\n",
        "  elif(i%5==0):\n",
        "    print(f\"{i} Buzz\")\n",
        "  else:\n",
        "    print(f\"{i} not divisble by 5 ,3,15\")\n",
        "\n",
        "\n",
        "\n"
      ],
      "metadata": {
        "id": "kBK-tlt4pmKw",
        "outputId": "2fe76da7-8580-4034-df2c-f8a338eded17",
        "colab": {
          "base_uri": "https://localhost:8080/"
        }
      },
      "execution_count": 42,
      "outputs": [
        {
          "output_type": "stream",
          "name": "stdout",
          "text": [
            "3 Fizz\n",
            "5 Buzz\n",
            "6 Fizz\n",
            "9 Fizz\n",
            "10 Buzz\n",
            "12 Fizz\n",
            "15 FizzBuzz\n",
            "18 Fizz\n",
            "20 Buzz\n",
            "21 Fizz\n",
            "24 Fizz\n",
            "25 Buzz\n",
            "27 Fizz\n",
            "30 FizzBuzz\n"
          ]
        }
      ]
    },
    {
      "cell_type": "code",
      "source": [
        "## Write a program to calculate the factorial of a number entered by the user.\n",
        "\n",
        "num =int(input(\"enter number to find factorial: \"))\n",
        "x =1\n",
        "for i in range (1,num+1):\n",
        "   x *=i\n",
        "print(f\"factorial of number is {x}\")"
      ],
      "metadata": {
        "id": "Aj2bU8-Aqw2C",
        "outputId": "24f49996-cda3-4a39-be42-cd9e4e8e13d1",
        "colab": {
          "base_uri": "https://localhost:8080/"
        }
      },
      "execution_count": 44,
      "outputs": [
        {
          "output_type": "stream",
          "name": "stdout",
          "text": [
            "enter number : 5\n",
            "factorial of number is 120\n"
          ]
        }
      ]
    },
    {
      "cell_type": "markdown",
      "source": [
        "# String methods\n",
        "\n"
      ],
      "metadata": {
        "id": "KwKRqScclZ_C"
      }
    },
    {
      "cell_type": "code",
      "source": [
        "a =12\n",
        "b =13\n",
        "\n",
        "print(a+b)\n",
        "print(a-b)\n",
        "print(a*b)\n",
        "print(a/b)\n",
        "print(a//b)\n",
        "print(a%b)\n",
        "a**(1/2)"
      ],
      "metadata": {
        "colab": {
          "base_uri": "https://localhost:8080/"
        },
        "id": "DHb-OAsY7u3O",
        "outputId": "85f82487-8734-411d-8019-edca25dbde4a"
      },
      "execution_count": null,
      "outputs": [
        {
          "output_type": "stream",
          "name": "stdout",
          "text": [
            "25\n",
            "-1\n",
            "156\n",
            "0.9230769230769231\n",
            "0\n",
            "12\n"
          ]
        },
        {
          "output_type": "execute_result",
          "data": {
            "text/plain": [
              "3.4641016151377544"
            ]
          },
          "metadata": {},
          "execution_count": 3
        }
      ]
    },
    {
      "cell_type": "markdown",
      "source": [
        "### String methods"
      ],
      "metadata": {
        "id": "DpmdbomsD6Kv"
      }
    },
    {
      "cell_type": "markdown",
      "source": [
        "if N characters or elements are there in a string then\n",
        "\n",
        "the index range will vary from 0 to N-1\n",
        "for example is \"Sunny\" N = 5\n",
        "index value is ranging from 0 to 4\n",
        "\n",
        "to index in reverse order the index  ranges from -1 to -N"
      ],
      "metadata": {
        "id": "AsJSiyAJFItT"
      }
    },
    {
      "cell_type": "code",
      "source": [
        "s =\"shivi\"\n",
        "print(s[0])    #index 01234   or      -5-4-3-2-1 from back side\n",
        "print(s[-1])\n",
        "#print (s[5])\n",
        "print(s[-5])"
      ],
      "metadata": {
        "colab": {
          "base_uri": "https://localhost:8080/"
        },
        "id": "KQsHTnzO79J2",
        "outputId": "a92dc5ce-b023-452c-bd0f-962f8014e3ee"
      },
      "execution_count": null,
      "outputs": [
        {
          "output_type": "stream",
          "name": "stdout",
          "text": [
            "s\n",
            "i\n",
            "s\n"
          ]
        }
      ]
    },
    {
      "cell_type": "markdown",
      "source": [
        "### String slicing/reverse string"
      ],
      "metadata": {
        "id": "4UUI16bAkH4t"
      }
    },
    {
      "cell_type": "code",
      "source": [
        "##STRING SLICING\n",
        "\n",
        "s =\"shivi\"\n",
        "   #01234\n",
        "   #-5-4-3-2-1\n",
        "\n",
        "print(s[0:1])\n",
        "print(s[0:-1])\n",
        "print(s[1:3])\n",
        "print(s[1:])\n",
        "print(s[-5:-1])\n",
        "\n",
        "\n",
        "s =\"26/08/2023\"\n",
        "  # 0123456789\n",
        "date = s[0:2]\n",
        "month = s[3:5]\n",
        "year =s[6:10]\n",
        "print(f\"todays month = {date},{month},{year}\")"
      ],
      "metadata": {
        "colab": {
          "base_uri": "https://localhost:8080/"
        },
        "id": "QUI54uxB91WH",
        "outputId": "fd0d0731-e25c-421c-f329-c6561ebd9c1c"
      },
      "execution_count": null,
      "outputs": [
        {
          "output_type": "stream",
          "name": "stdout",
          "text": [
            "s\n",
            "shiv\n",
            "hi\n",
            "hivi\n",
            "shiv\n",
            "todays month = 26,08,2023\n"
          ]
        }
      ]
    },
    {
      "cell_type": "code",
      "source": [
        "##STRING SLICING\n",
        "\n",
        "s =\"shivi\"\n",
        "  # 01234\n",
        "print(s[0:5:2] )   #024 ###start:ending:step taking step of 1\n",
        "print(s[0:5:3]) #036\n",
        "print(s[1: :2]) #135\n",
        "print(s[::1])\n",
        "\n",
        "\n",
        "print(s[:2:-1])   #reverse #including starting\n",
        "print(s[-2::-1])\n"
      ],
      "metadata": {
        "colab": {
          "base_uri": "https://localhost:8080/"
        },
        "id": "EtM5l06O-6sm",
        "outputId": "a778c392-d28d-4773-bed2-3ef58b068de0"
      },
      "execution_count": null,
      "outputs": [
        {
          "output_type": "stream",
          "name": "stdout",
          "text": [
            "sii\n",
            "sv\n",
            "hv\n",
            "shivi\n",
            "iv\n",
            "vihs\n"
          ]
        }
      ]
    },
    {
      "cell_type": "code",
      "source": [
        "s =\"shivani raghuwanshi\"\n",
        "print(s[: :-1])\n",
        "print(s[::-2])\n",
        "print(\"----\")\n",
        "#Reverse the whole string\n",
        "s =\"my name is shivi\"\n",
        "print(s[::-1])\n",
        "print(s[-1::-1]);\n",
        "s[len(s)::-1]"
      ],
      "metadata": {
        "colab": {
          "base_uri": "https://localhost:8080/",
          "height": 122
        },
        "id": "IePQY1-qAorw",
        "outputId": "632471a2-a944-48ba-8414-110e2016779b"
      },
      "execution_count": null,
      "outputs": [
        {
          "output_type": "stream",
          "name": "stdout",
          "text": [
            "ihsnawuhgar inavihs\n",
            "isaugriais\n",
            "----\n",
            "ivihs si eman ym\n",
            "ivihs si eman ym\n"
          ]
        },
        {
          "output_type": "execute_result",
          "data": {
            "text/plain": [
              "'ivihs si eman ym'"
            ],
            "application/vnd.google.colaboratory.intrinsic+json": {
              "type": "string"
            }
          },
          "metadata": {},
          "execution_count": 27
        }
      ]
    },
    {
      "cell_type": "code",
      "source": [
        "###string is palindrome\n",
        "\n",
        "s = input(\"enter name to check ?  \")\n",
        "srev = s[::-1]\n",
        "\n",
        "if srev==s:\n",
        " print(\"name is palindrome\")\n",
        "else:\n",
        "  print(\"not a palindrome\")\n",
        "\n",
        "\n",
        "  str = input(\"enter any string to check whether it is palindrome ? \")\n",
        "  if str == str[-1::-1]:\n",
        "    print(\"palindrome\")\n",
        "  else:\n",
        "    print(\"not palindrome\")"
      ],
      "metadata": {
        "colab": {
          "base_uri": "https://localhost:8080/"
        },
        "id": "gosX3g_shTGL",
        "outputId": "b3189a6f-4695-4aef-8c57-1a256a7fda83"
      },
      "execution_count": null,
      "outputs": [
        {
          "output_type": "stream",
          "name": "stdout",
          "text": [
            "enter name to check ?  abcbca\n",
            "not a palindrome\n",
            "enter any string to check whether it is palindrome ? abccba\n",
            "palindrome\n"
          ]
        }
      ]
    },
    {
      "cell_type": "markdown",
      "source": [
        "### mutable string"
      ],
      "metadata": {
        "id": "_1kbRwP1kDFk"
      }
    },
    {
      "cell_type": "code",
      "source": [
        "#### replace s with h\n",
        "s =\"shivi\"\n",
        "s[0]=\"h\"\n",
        "s"
      ],
      "metadata": {
        "colab": {
          "base_uri": "https://localhost:8080/",
          "height": 193
        },
        "id": "3jnWMnDhj6OG",
        "outputId": "38fb5092-9188-4c11-e491-8ac9dabf3a6f"
      },
      "execution_count": null,
      "outputs": [
        {
          "output_type": "error",
          "ename": "TypeError",
          "evalue": "'str' object does not support item assignment",
          "traceback": [
            "\u001b[0;31m---------------------------------------------------------------------------\u001b[0m",
            "\u001b[0;31mTypeError\u001b[0m                                 Traceback (most recent call last)",
            "\u001b[0;32m<ipython-input-29-5867df3be4d3>\u001b[0m in \u001b[0;36m<cell line: 3>\u001b[0;34m()\u001b[0m\n\u001b[1;32m      1\u001b[0m \u001b[0;31m#### replace s with h\u001b[0m\u001b[0;34m\u001b[0m\u001b[0;34m\u001b[0m\u001b[0m\n\u001b[1;32m      2\u001b[0m \u001b[0ms\u001b[0m \u001b[0;34m=\u001b[0m\u001b[0;34m\"shivi\"\u001b[0m\u001b[0;34m\u001b[0m\u001b[0;34m\u001b[0m\u001b[0m\n\u001b[0;32m----> 3\u001b[0;31m \u001b[0ms\u001b[0m\u001b[0;34m[\u001b[0m\u001b[0;36m0\u001b[0m\u001b[0;34m]\u001b[0m\u001b[0;34m=\u001b[0m\u001b[0;34m\"h\"\u001b[0m\u001b[0;34m\u001b[0m\u001b[0;34m\u001b[0m\u001b[0m\n\u001b[0m\u001b[1;32m      4\u001b[0m \u001b[0ms\u001b[0m\u001b[0;34m\u001b[0m\u001b[0;34m\u001b[0m\u001b[0m\n",
            "\u001b[0;31mTypeError\u001b[0m: 'str' object does not support item assignment"
          ]
        }
      ]
    },
    {
      "cell_type": "code",
      "source": [
        "\"h\"+s[1:] ## concatinating\n",
        "s   ###but not printing\n",
        "s = \"h\" + s[1:]\n",
        "s"
      ],
      "metadata": {
        "colab": {
          "base_uri": "https://localhost:8080/",
          "height": 35
        },
        "id": "26TfzsRNkcUz",
        "outputId": "066065f9-a791-434a-a0cf-65ee92c11b2d"
      },
      "execution_count": null,
      "outputs": [
        {
          "output_type": "execute_result",
          "data": {
            "text/plain": [
              "'hhivi'"
            ],
            "application/vnd.google.colaboratory.intrinsic+json": {
              "type": "string"
            }
          },
          "metadata": {},
          "execution_count": 25
        }
      ]
    },
    {
      "cell_type": "code",
      "source": [
        "s = s.replace(\"s\",\"h\")\n",
        "s\n",
        "s =s.replace(\"h\",\"S\")\n",
        "s\n",
        "s = \"my name is shivi\"\n",
        "s = s.replace(\"name\",\"shivi\")\n",
        "s"
      ],
      "metadata": {
        "colab": {
          "base_uri": "https://localhost:8080/",
          "height": 35
        },
        "id": "k9o6Pj5YksuY",
        "outputId": "1e511883-e7c4-495e-c685-4a1f6e5d90fd"
      },
      "execution_count": null,
      "outputs": [
        {
          "output_type": "execute_result",
          "data": {
            "text/plain": [
              "'my shivi is shivi'"
            ],
            "application/vnd.google.colaboratory.intrinsic+json": {
              "type": "string"
            }
          },
          "metadata": {},
          "execution_count": 30
        }
      ]
    },
    {
      "cell_type": "code",
      "source": [
        "name = \"shivani raghuwanshi is good\"\n",
        "name = name.replace(\" \",\"_\")\n",
        "name"
      ],
      "metadata": {
        "colab": {
          "base_uri": "https://localhost:8080/",
          "height": 35
        },
        "id": "wZFj4zZLleDO",
        "outputId": "f94e4e33-70ab-4106-8170-ed0157799bf8"
      },
      "execution_count": null,
      "outputs": [
        {
          "output_type": "execute_result",
          "data": {
            "text/plain": [
              "'shivani_raghuwanshi_is_good'"
            ],
            "application/vnd.google.colaboratory.intrinsic+json": {
              "type": "string"
            }
          },
          "metadata": {},
          "execution_count": 31
        }
      ]
    },
    {
      "cell_type": "markdown",
      "source": [
        "### length"
      ],
      "metadata": {
        "id": "4Dg9ZtQDlq7g"
      }
    },
    {
      "cell_type": "code",
      "source": [
        "len(name)\n",
        "len(\"shivi\")"
      ],
      "metadata": {
        "colab": {
          "base_uri": "https://localhost:8080/"
        },
        "id": "GMyPfZJ_ltjW",
        "outputId": "a18bbf76-81f5-46ae-d3b3-ee262693a233"
      },
      "execution_count": null,
      "outputs": [
        {
          "output_type": "execute_result",
          "data": {
            "text/plain": [
              "5"
            ]
          },
          "metadata": {},
          "execution_count": 33
        }
      ]
    },
    {
      "cell_type": "code",
      "source": [
        "####count and split\n",
        "\n",
        "s =\"shivi\"\n",
        "print(s.count(\"i\"))\n",
        "print(s.count(\"u\"))\n",
        "\n",
        "name =\"a b c\"\n",
        "first,sec,third = name.split(\" \")\n",
        "print(f\"\"\"{first},{sec},{third}\"\"\")\n",
        "\n",
        "\n",
        "m =\"shivi rahj jkjk\"\n",
        "u =m.split(\" \")\n",
        "print(u)\n",
        "print(u[0])\n",
        "len (u)\n",
        "len(u[0])"
      ],
      "metadata": {
        "colab": {
          "base_uri": "https://localhost:8080/"
        },
        "id": "IxWskczSnJks",
        "outputId": "650d9112-befa-4089-9491-567d172cb507"
      },
      "execution_count": null,
      "outputs": [
        {
          "output_type": "stream",
          "name": "stdout",
          "text": [
            "2\n",
            "0\n",
            "a,b,c\n",
            "['shivi', 'rahj', 'jkjk']\n",
            "shivi\n"
          ]
        },
        {
          "output_type": "execute_result",
          "data": {
            "text/plain": [
              "5"
            ]
          },
          "metadata": {},
          "execution_count": 34
        }
      ]
    },
    {
      "cell_type": "code",
      "source": [
        "#####cases---lower,upper------ ####join\n",
        "\n",
        "name = input(\"enter name \")\n",
        "print(f\"{name.lower()}\")\n",
        "print(f\"{name.upper()}\")\n",
        "print(f\"{name.title()}\")\n",
        "print(f\"{name.capitalize()}\")\n",
        "print(f\"{name.swapcase()}\")"
      ],
      "metadata": {
        "colab": {
          "base_uri": "https://localhost:8080/"
        },
        "id": "h6hIh6LlplKt",
        "outputId": "3d2eb810-7a01-4f56-c94e-124b90ee20aa"
      },
      "execution_count": null,
      "outputs": [
        {
          "output_type": "stream",
          "name": "stdout",
          "text": [
            "enter name My name is Shivani\n",
            "my name is shivani\n",
            "MY NAME IS SHIVANI\n",
            "My Name Is Shivani\n",
            "My name is shivani\n",
            "mY NAME IS sHIVANI\n"
          ]
        }
      ]
    },
    {
      "cell_type": "code",
      "source": [
        "name =\"gjhk jlk;l\"\n",
        "print(\" \".join(name))\n",
        "\"sed\".join(name)"
      ],
      "metadata": {
        "colab": {
          "base_uri": "https://localhost:8080/",
          "height": 52
        },
        "id": "NHmkp8nVrK3p",
        "outputId": "fd8e7333-d4bf-4404-f8d4-1c36d858c3ce"
      },
      "execution_count": null,
      "outputs": [
        {
          "output_type": "stream",
          "name": "stdout",
          "text": [
            "g j h k   j l k ; l\n"
          ]
        },
        {
          "output_type": "execute_result",
          "data": {
            "text/plain": [
              "'gsedjsedhsedksed sedjsedlsedksed;sedl'"
            ],
            "application/vnd.google.colaboratory.intrinsic+json": {
              "type": "string"
            }
          },
          "metadata": {},
          "execution_count": 37
        }
      ]
    },
    {
      "cell_type": "markdown",
      "source": [
        "### strip,join"
      ],
      "metadata": {
        "id": "oTPB1dezryE2"
      }
    },
    {
      "cell_type": "code",
      "source": [
        "name =\"  sjjjk dgggg     abc \"\n",
        "print(name.strip(\" \"))\n",
        "print(name.lstrip(\" \"))\n",
        "print(name.rstrip(\" \"))\n",
        "\n",
        "\n",
        "name =\"@@@@@ jhkl nml @@@\"\n",
        "name.strip(\"@@\")"
      ],
      "metadata": {
        "colab": {
          "base_uri": "https://localhost:8080/",
          "height": 87
        },
        "id": "tQLY6pPkr3Bm",
        "outputId": "73628960-933a-4090-a977-83c1ccfe1190"
      },
      "execution_count": null,
      "outputs": [
        {
          "output_type": "stream",
          "name": "stdout",
          "text": [
            "sjjjk dgggg     abc\n",
            "sjjjk dgggg     abc \n",
            "  sjjjk dgggg     abc\n"
          ]
        },
        {
          "output_type": "execute_result",
          "data": {
            "text/plain": [
              "' jhkl nml '"
            ],
            "application/vnd.google.colaboratory.intrinsic+json": {
              "type": "string"
            }
          },
          "metadata": {},
          "execution_count": 43
        }
      ]
    },
    {
      "cell_type": "markdown",
      "source": [
        "### formatting"
      ],
      "metadata": {
        "id": "4DqJ_1-4sRAc"
      }
    },
    {
      "cell_type": "code",
      "source": [
        "n =\"sguhi\"\n",
        "print (n.center(8,\"a\"))\n",
        "n.center(12,\"#\")   ###not work for less than length"
      ],
      "metadata": {
        "colab": {
          "base_uri": "https://localhost:8080/",
          "height": 52
        },
        "id": "c2MIBnL2slRG",
        "outputId": "e10b1e10-b8d3-4835-d110-805b3e9052c3"
      },
      "execution_count": null,
      "outputs": [
        {
          "output_type": "stream",
          "name": "stdout",
          "text": [
            "asguhiaa\n"
          ]
        },
        {
          "output_type": "execute_result",
          "data": {
            "text/plain": [
              "'###sguhi####'"
            ],
            "application/vnd.google.colaboratory.intrinsic+json": {
              "type": "string"
            }
          },
          "metadata": {},
          "execution_count": 49
        }
      ]
    },
    {
      "cell_type": "markdown",
      "source": [
        "### Checking string cases"
      ],
      "metadata": {
        "id": "pgunv06tttEF"
      }
    },
    {
      "cell_type": "code",
      "source": [
        "name =\"My Name Is Shibji \"\n",
        "print(name.islower())\n",
        "print(name.isupper())\n",
        "print(name.istitle())\n",
        "print(name.isspace())\n",
        "x =\"  \"\n",
        "print(x.isspace())\n",
        "\n",
        "print(name.iscapitalize())\n",
        "\n",
        "\n"
      ],
      "metadata": {
        "colab": {
          "base_uri": "https://localhost:8080/",
          "height": 297
        },
        "id": "sDnXRnk7vOZG",
        "outputId": "7cbb2da1-6687-4dc0-d0ac-dc82dce241e4"
      },
      "execution_count": null,
      "outputs": [
        {
          "output_type": "stream",
          "name": "stdout",
          "text": [
            "False\n",
            "False\n",
            "True\n",
            "False\n",
            "True\n"
          ]
        },
        {
          "output_type": "error",
          "ename": "AttributeError",
          "evalue": "'str' object has no attribute 'iscapitalize'",
          "traceback": [
            "\u001b[0;31m---------------------------------------------------------------------------\u001b[0m",
            "\u001b[0;31mAttributeError\u001b[0m                            Traceback (most recent call last)",
            "\u001b[0;32m<ipython-input-58-34ecf6292e24>\u001b[0m in \u001b[0;36m<cell line: 9>\u001b[0;34m()\u001b[0m\n\u001b[1;32m      7\u001b[0m \u001b[0mprint\u001b[0m\u001b[0;34m(\u001b[0m\u001b[0mx\u001b[0m\u001b[0;34m.\u001b[0m\u001b[0misspace\u001b[0m\u001b[0;34m(\u001b[0m\u001b[0;34m)\u001b[0m\u001b[0;34m)\u001b[0m\u001b[0;34m\u001b[0m\u001b[0;34m\u001b[0m\u001b[0m\n\u001b[1;32m      8\u001b[0m \u001b[0;34m\u001b[0m\u001b[0m\n\u001b[0;32m----> 9\u001b[0;31m \u001b[0mprint\u001b[0m\u001b[0;34m(\u001b[0m\u001b[0mname\u001b[0m\u001b[0;34m.\u001b[0m\u001b[0miscapitalize\u001b[0m\u001b[0;34m(\u001b[0m\u001b[0;34m)\u001b[0m\u001b[0;34m)\u001b[0m\u001b[0;34m\u001b[0m\u001b[0;34m\u001b[0m\u001b[0m\n\u001b[0m\u001b[1;32m     10\u001b[0m \u001b[0;34m\u001b[0m\u001b[0m\n\u001b[1;32m     11\u001b[0m \u001b[0;34m\u001b[0m\u001b[0m\n",
            "\u001b[0;31mAttributeError\u001b[0m: 'str' object has no attribute 'iscapitalize'"
          ]
        }
      ]
    },
    {
      "cell_type": "code",
      "source": [
        "y = input(\"enter any string \")\n",
        "\n",
        "if y.istitle():\n",
        "  print(f\"already in title case {y}\")\n",
        "elif not y:\n",
        "  print(\"wrong input provide correct input\")\n",
        "else :\n",
        " y = y.title()\n",
        " print(f\"converted in title case {y}\")\n"
      ],
      "metadata": {
        "colab": {
          "base_uri": "https://localhost:8080/"
        },
        "id": "kIizS1bbvy7d",
        "outputId": "5406d79a-4636-481d-af23-d4be2aad976c"
      },
      "execution_count": null,
      "outputs": [
        {
          "output_type": "stream",
          "name": "stdout",
          "text": [
            "enter any string \n",
            "wrong input provide correct input\n"
          ]
        }
      ]
    },
    {
      "cell_type": "code",
      "source": [
        "num =\"_798079856769780901233\"\n",
        "print(num.isdigit())\n",
        "print(num.isnumeric())\n",
        "print(num.isdecimal())\n",
        "print(num.isidentifier())\n",
        "print(num.isprintable())\n",
        "\n",
        "\n",
        "\n",
        "al =\"sfsf123\"\n",
        "print(al.isalpha())\n",
        "print(al.isalnum())"
      ],
      "metadata": {
        "id": "xVV9Kc5Ywpzg",
        "colab": {
          "base_uri": "https://localhost:8080/"
        },
        "outputId": "9bac5243-014e-4b34-95c0-b84d5d05e7b6"
      },
      "execution_count": null,
      "outputs": [
        {
          "output_type": "stream",
          "name": "stdout",
          "text": [
            "False\n",
            "False\n",
            "False\n",
            "True\n",
            "True\n",
            "False\n",
            "True\n"
          ]
        }
      ]
    },
    {
      "cell_type": "code",
      "source": [
        "num =input(\"input phone nnum \")\n",
        "\n",
        "if num.isdigit and len(num)==10:\n",
        "  print(\"you have entered correct number\")\n",
        "else:\n",
        "  print(\"please enter correct number\")\n",
        "\n",
        "print(num.startswith(\"0\"))\n",
        "print(num.endswith(\"9\"))\n",
        "\n",
        "num[1:]"
      ],
      "metadata": {
        "colab": {
          "base_uri": "https://localhost:8080/",
          "height": 104
        },
        "id": "VKGwFhMMxAu5",
        "outputId": "9fcca294-a86e-4266-f346-fc82e4d4fa25"
      },
      "execution_count": null,
      "outputs": [
        {
          "output_type": "stream",
          "name": "stdout",
          "text": [
            "input phone nnum 12367890008\n",
            "please enter correct number\n",
            "False\n",
            "False\n"
          ]
        },
        {
          "output_type": "execute_result",
          "data": {
            "text/plain": [
              "'2367890008'"
            ],
            "application/vnd.google.colaboratory.intrinsic+json": {
              "type": "string"
            }
          },
          "metadata": {},
          "execution_count": 84
        }
      ]
    },
    {
      "cell_type": "code",
      "source": [
        "num =\"+913456788999\"\n",
        "\n",
        "if num.isdigit and len(num)==13 and num.startswith(\"+91\"):\n",
        "  print(\"number is indian number\")\n",
        "else:\n",
        "  print(\"please re enter number\")"
      ],
      "metadata": {
        "colab": {
          "base_uri": "https://localhost:8080/"
        },
        "id": "jdS4ABTXx7hS",
        "outputId": "b7f8e04a-fbc9-40c9-fc86-8876a04e0fc6"
      },
      "execution_count": null,
      "outputs": [
        {
          "output_type": "stream",
          "name": "stdout",
          "text": [
            "number is indian number\n"
          ]
        }
      ]
    },
    {
      "cell_type": "code",
      "source": [
        "###alphanumeric\n",
        "\n",
        "a =\"abkjjkl123\"\n",
        "a =\"12234\"\n",
        "a=\"    124lklk\"\n",
        "a =\"afsdg13!@#$\"\n",
        "a.isalnum()    ### aplha or num or both\n"
      ],
      "metadata": {
        "colab": {
          "base_uri": "https://localhost:8080/"
        },
        "id": "mWsE2T1-yYhH",
        "outputId": "e1de3d6a-a672-4ec7-f3e9-66fa090ef6ff"
      },
      "execution_count": null,
      "outputs": [
        {
          "output_type": "execute_result",
          "data": {
            "text/plain": [
              "False"
            ]
          },
          "metadata": {},
          "execution_count": 85
        }
      ]
    }
  ]
}