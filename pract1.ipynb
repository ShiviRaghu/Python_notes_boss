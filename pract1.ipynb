{
  "nbformat": 4,
  "nbformat_minor": 0,
  "metadata": {
    "colab": {
      "provenance": [],
      "include_colab_link": true
    },
    "kernelspec": {
      "name": "python3",
      "display_name": "Python 3"
    },
    "language_info": {
      "name": "python"
    }
  },
  "cells": [
    {
      "cell_type": "markdown",
      "metadata": {
        "id": "view-in-github",
        "colab_type": "text"
      },
      "source": [
        "<a href=\"https://colab.research.google.com/github/ShiviRaghu/boss/blob/practice/pract1.ipynb\" target=\"_parent\"><img src=\"https://colab.research.google.com/assets/colab-badge.svg\" alt=\"Open In Colab\"/></a>"
      ]
    },
    {
      "cell_type": "markdown",
      "source": [
        "# **Printing statement**"
      ],
      "metadata": {
        "id": "BG49uXW8iWPC"
      }
    },
    {
      "cell_type": "markdown",
      "source": [
        "1. print (\" \") or print(' ')\n",
        "2. \" \" or ' ' only 1 can be print,if many then last\n",
        "3. multiLine (\"\"\"\n",
        "\"\"\")\n",
        "4. \" \"\n",
        "print(\" \")  # only print last line with print   / \" \" if its at the last\n",
        "5.####comment"
      ],
      "metadata": {
        "id": "U4xt2NlEioqJ"
      }
    },
    {
      "cell_type": "markdown",
      "source": [],
      "metadata": {
        "id": "7Hi23CxagguI"
      }
    },
    {
      "cell_type": "code",
      "source": [
        "print(\"july 17 2024\")\n",
        "print('july 17 2024')\n",
        "print('''july 17 2024''')\n",
        "print(\"abc\")\n",
        "print('abc')\n",
        "'''abc'''\n",
        "'dgh'\n",
        "print(\"def\")"
      ],
      "metadata": {
        "colab": {
          "base_uri": "https://localhost:8080/"
        },
        "id": "p68lQKJJDYc4",
        "outputId": "56d96441-190f-400f-8baa-aab0207c6057"
      },
      "execution_count": null,
      "outputs": [
        {
          "output_type": "stream",
          "name": "stdout",
          "text": [
            "july 17 2024\n",
            "july 17 2024\n",
            "july 17 2024\n",
            "abc\n",
            "abc\n",
            "def\n"
          ]
        }
      ]
    },
    {
      "cell_type": "code",
      "source": [
        "print('abc')\n",
        "'abcf'\n",
        "print(\"def\")\n",
        "'''ko'''"
      ],
      "metadata": {
        "colab": {
          "base_uri": "https://localhost:8080/",
          "height": 70
        },
        "id": "_waAXuOSGgS2",
        "outputId": "46af2929-05cf-4b2f-95b9-19a190dec18e"
      },
      "execution_count": null,
      "outputs": [
        {
          "output_type": "stream",
          "name": "stdout",
          "text": [
            "abc\n",
            "def\n"
          ]
        },
        {
          "output_type": "execute_result",
          "data": {
            "text/plain": [
              "'ko'"
            ],
            "application/vnd.google.colaboratory.intrinsic+json": {
              "type": "string"
            }
          },
          "metadata": {},
          "execution_count": 18
        }
      ]
    },
    {
      "cell_type": "code",
      "source": [
        "\"abc\"\n",
        "\"def\"\n",
        "\"last line\"\n",
        "'last last line'\n",
        "\"laldkfkvkklkl\"\n",
        "'sdfhjkl'"
      ],
      "metadata": {
        "colab": {
          "base_uri": "https://localhost:8080/",
          "height": 35
        },
        "id": "r17T9Y19XXNL",
        "outputId": "29691bcd-4003-4d30-cfa8-8f42d0edaedd"
      },
      "execution_count": null,
      "outputs": [
        {
          "output_type": "execute_result",
          "data": {
            "text/plain": [
              "'sdfhjkl'"
            ],
            "application/vnd.google.colaboratory.intrinsic+json": {
              "type": "string"
            }
          },
          "metadata": {},
          "execution_count": 13
        }
      ]
    },
    {
      "cell_type": "code",
      "source": [
        "print(\"\"\"abc\n",
        "def\"\"\")\n",
        "\n",
        "print(\"\"\"\n",
        "1st lline\n",
        "2nd line\n",
        "\n",
        "\"\"\")\n",
        "\n",
        "#print(\"\"\n",
        "#abc\n",
        "#def\n",
        "#ghi\n",
        "#\"\")\n",
        "\n",
        "\n",
        "print(\"\"\"\n",
        "xdfcghjkl\n",
        "fcvghjkl;\n",
        "fcghjkl\n",
        "\"\"\")\n",
        "\n",
        "\"\"\"\n",
        "\"adcsc\"\n",
        "\"\"\""
      ],
      "metadata": {
        "colab": {
          "base_uri": "https://localhost:8080/",
          "height": 244
        },
        "id": "L54IS_OsDPGZ",
        "outputId": "8e68ef1e-43e4-48c6-b2c4-65bb3ec2990a"
      },
      "execution_count": null,
      "outputs": [
        {
          "output_type": "stream",
          "name": "stdout",
          "text": [
            "abc\n",
            "def\n",
            "\n",
            "1st lline\n",
            "2nd line\n",
            "\n",
            "\n",
            "\n",
            "xdfcghjkl\n",
            "fcvghjkl;\n",
            "fcghjkl\n",
            "\n"
          ]
        },
        {
          "output_type": "execute_result",
          "data": {
            "text/plain": [
              "'\\n\"adcsc\"\\n'"
            ],
            "application/vnd.google.colaboratory.intrinsic+json": {
              "type": "string"
            }
          },
          "metadata": {},
          "execution_count": 6
        }
      ]
    },
    {
      "cell_type": "code",
      "source": [
        "print(\"\"\"\"abc\"\n",
        "def\n",
        "gh\n",
        "\n",
        "\"\"\")\n",
        "\n",
        "#abc\n",
        "\n",
        "\"\"\"hkikklll;ll;l;\"\"\"\n",
        "print('aff')"
      ],
      "metadata": {
        "colab": {
          "base_uri": "https://localhost:8080/"
        },
        "id": "KYQN9rKGHCNu",
        "outputId": "640bf648-a96b-47a0-ab07-51357fe0dd6f"
      },
      "execution_count": null,
      "outputs": [
        {
          "output_type": "stream",
          "name": "stdout",
          "text": [
            "\"abc\"\n",
            "def\n",
            "gh\n",
            "\n",
            "\n",
            "aff\n"
          ]
        }
      ]
    },
    {
      "cell_type": "code",
      "source": [],
      "metadata": {
        "id": "vAzH0FXDHhb8"
      },
      "execution_count": null,
      "outputs": []
    },
    {
      "cell_type": "code",
      "source": [
        "\"morning\"\n",
        "print(\"xcvbhnm\")\n",
        "print(\"\"\"sdfghjkl\n",
        " zsdfhjkl\n",
        " sdfkl\n",
        " \"\"\")\n",
        "'modfghk'\n",
        "\"asdfghjkl;\""
      ],
      "metadata": {
        "colab": {
          "base_uri": "https://localhost:8080/",
          "height": 122
        },
        "id": "qNS5Um9FXXlx",
        "outputId": "f148dbfd-1778-44d6-944d-939ac22f9c4a"
      },
      "execution_count": null,
      "outputs": [
        {
          "output_type": "stream",
          "name": "stdout",
          "text": [
            "xcvbhnm\n",
            "sdfghjkl\n",
            " zsdfhjkl\n",
            " sdfkl\n",
            " \n"
          ]
        },
        {
          "output_type": "execute_result",
          "data": {
            "text/plain": [
              "'asdfghjkl;'"
            ],
            "application/vnd.google.colaboratory.intrinsic+json": {
              "type": "string"
            }
          },
          "metadata": {},
          "execution_count": 30
        }
      ]
    },
    {
      "cell_type": "code",
      "source": [
        "\"morning\"\n",
        "print(\"good\") ; print('moerninh')\n",
        "\"asdfghjko\""
      ],
      "metadata": {
        "colab": {
          "base_uri": "https://localhost:8080/",
          "height": 70
        },
        "id": "52ewBD94XXue",
        "outputId": "fa2b58dd-ca5a-4814-9d7a-86a7650057e3"
      },
      "execution_count": null,
      "outputs": [
        {
          "output_type": "stream",
          "name": "stdout",
          "text": [
            "good\n",
            "moerninh\n"
          ]
        },
        {
          "output_type": "execute_result",
          "data": {
            "text/plain": [
              "'asdfghjko'"
            ],
            "application/vnd.google.colaboratory.intrinsic+json": {
              "type": "string"
            }
          },
          "metadata": {},
          "execution_count": 31
        }
      ]
    },
    {
      "cell_type": "markdown",
      "source": [
        "# comment line\n",
        "\n",
        "1. #\n",
        "2. multiline comment \"\"\"\n",
        "\"\"\" with **print at last otherwiise this will print**"
      ],
      "metadata": {
        "id": "jjFUCAjYmVKo"
      }
    },
    {
      "cell_type": "code",
      "source": [
        "\"\"\"\n",
        "jij\n",
        "kjkj\n",
        "\"\"\"\n"
      ],
      "metadata": {
        "colab": {
          "base_uri": "https://localhost:8080/",
          "height": 35
        },
        "id": "MJcqhhbwZAj5",
        "outputId": "ec364891-3cb9-4291-e58e-a73a0b8e3cd5"
      },
      "execution_count": null,
      "outputs": [
        {
          "output_type": "execute_result",
          "data": {
            "text/plain": [
              "'\\njij\\nkjkj\\n'"
            ],
            "application/vnd.google.colaboratory.intrinsic+json": {
              "type": "string"
            }
          },
          "metadata": {},
          "execution_count": 32
        }
      ]
    },
    {
      "cell_type": "code",
      "source": [
        "\"\"\"\n",
        "Say Hi\n",
        "To the students\n",
        "\"\"\"\n",
        "print(\"hello\")"
      ],
      "metadata": {
        "colab": {
          "base_uri": "https://localhost:8080/"
        },
        "id": "ViDsBPHfaTBg",
        "outputId": "c92dd957-a251-43b8-837b-876feb67a709"
      },
      "execution_count": null,
      "outputs": [
        {
          "output_type": "stream",
          "name": "stdout",
          "text": [
            "hello\n"
          ]
        }
      ]
    },
    {
      "cell_type": "code",
      "source": [
        "#hii\n",
        "\"\"\"xcfgvhbjkl\n",
        "xdfcghjkl\n",
        "xcvb\n",
        "\"\"\"\n",
        "print(\"szhjkl\")\n"
      ],
      "metadata": {
        "id": "nbCjHdIMbdAY",
        "colab": {
          "base_uri": "https://localhost:8080/"
        },
        "outputId": "f1fdbb13-a8e6-4893-95e0-5b97142c9790"
      },
      "execution_count": null,
      "outputs": [
        {
          "output_type": "stream",
          "name": "stdout",
          "text": [
            "szhjkl\n"
          ]
        }
      ]
    },
    {
      "cell_type": "code",
      "source": [
        "#hiii\n",
        "\"\"\"sgdfg\n",
        "fgfggf\n",
        "gfhgj\n",
        "\"\"\"\n",
        "\"kjk\""
      ],
      "metadata": {
        "colab": {
          "base_uri": "https://localhost:8080/",
          "height": 35
        },
        "id": "e5Oq0F58bjRA",
        "outputId": "5aeb1b62-b47a-4057-b9f4-bbb195f04b16"
      },
      "execution_count": null,
      "outputs": [
        {
          "output_type": "execute_result",
          "data": {
            "text/plain": [
              "'kjk'"
            ],
            "application/vnd.google.colaboratory.intrinsic+json": {
              "type": "string"
            }
          },
          "metadata": {},
          "execution_count": 33
        }
      ]
    },
    {
      "cell_type": "markdown",
      "source": [
        "# Print in double quotes\n",
        "\n",
        "1. (\" 'xyz ' \")\n",
        "2. (' \"xyz\" ')\n",
        "3. (\"\"\" \"xyz\"! \"\"\")\n",
        "4. (\"\"\" \"xyz\" \"\"\")\n",
        "4. (\"\"\" \\\"xyz\\\" \"\"\")\n",
        "\n",
        "\n"
      ],
      "metadata": {
        "id": "cKqBqa-Mmn-W"
      }
    },
    {
      "cell_type": "code",
      "source": [
        "print(\"my name is 'xyz' \")"
      ],
      "metadata": {
        "colab": {
          "base_uri": "https://localhost:8080/"
        },
        "id": "drEuTF4bblo6",
        "outputId": "4380c2f4-51c0-4a04-bdd0-de5123fa8c7d"
      },
      "execution_count": null,
      "outputs": [
        {
          "output_type": "stream",
          "name": "stdout",
          "text": [
            "my name is 'xyz' \n"
          ]
        }
      ]
    },
    {
      "cell_type": "code",
      "source": [
        "print(\" ' i m cool ' \")\n",
        "print(' \" i m cool\" ')\n",
        "print(\"\"\" 'i m ok' \"\"\")\n",
        "print(\"\"\" \"\"i  m ok\"\" \"\"\")"
      ],
      "metadata": {
        "colab": {
          "base_uri": "https://localhost:8080/"
        },
        "id": "wg7xn138lChU",
        "outputId": "5249d8ee-7c78-4414-9ec8-92ce4387b77e"
      },
      "execution_count": null,
      "outputs": [
        {
          "output_type": "stream",
          "name": "stdout",
          "text": [
            " ' i m cool ' \n",
            " \" i m cool\" \n",
            " 'i m ok' \n",
            " \"\"i  m ok\"\" \n"
          ]
        }
      ]
    },
    {
      "cell_type": "code",
      "source": [
        "print('my name is \"shici\" ')"
      ],
      "metadata": {
        "colab": {
          "base_uri": "https://localhost:8080/"
        },
        "outputId": "1e835725-071f-45df-e991-956e2a669167",
        "id": "zxSsZWrmcUq9"
      },
      "execution_count": null,
      "outputs": [
        {
          "output_type": "stream",
          "name": "stdout",
          "text": [
            "my name is \"shici\" \n"
          ]
        }
      ]
    },
    {
      "cell_type": "code",
      "source": [
        "print(\"\"\"my name is 'shici' \"\"\")"
      ],
      "metadata": {
        "colab": {
          "base_uri": "https://localhost:8080/"
        },
        "outputId": "663e121d-c5f6-46f1-e0a9-ed8b0c83dec4",
        "id": "Dmyl0-NDcUHS"
      },
      "execution_count": null,
      "outputs": [
        {
          "output_type": "stream",
          "name": "stdout",
          "text": [
            "my name is 'shici' \n"
          ]
        }
      ]
    },
    {
      "cell_type": "code",
      "source": [
        "print(\"\"\"my name is 'shici'! \"\"\")"
      ],
      "metadata": {
        "colab": {
          "base_uri": "https://localhost:8080/"
        },
        "id": "j8pa1luCccEk",
        "outputId": "add80518-f182-4c34-957a-6e07d9629a69"
      },
      "execution_count": null,
      "outputs": [
        {
          "output_type": "stream",
          "name": "stdout",
          "text": [
            "my name is 'shici'! \n"
          ]
        }
      ]
    },
    {
      "cell_type": "code",
      "source": [
        "print(\"\"\"my name is \"shici\"! \"\"\")"
      ],
      "metadata": {
        "colab": {
          "base_uri": "https://localhost:8080/"
        },
        "outputId": "7e271568-5d0c-432e-a505-554c6010da1a",
        "id": "opVuh49vcwbU"
      },
      "execution_count": null,
      "outputs": [
        {
          "output_type": "stream",
          "name": "stdout",
          "text": [
            "my name is \"shici\"! \n"
          ]
        }
      ]
    },
    {
      "cell_type": "code",
      "source": [
        "print(\"\"\"my name is \"shici\" \"\"\")"
      ],
      "metadata": {
        "colab": {
          "base_uri": "https://localhost:8080/"
        },
        "outputId": "025bb14a-12bf-49c7-ee38-33f2c1e56c0d",
        "id": "OTQrqVyWcdEY"
      },
      "execution_count": null,
      "outputs": [
        {
          "output_type": "stream",
          "name": "stdout",
          "text": [
            "my name is \"shici\" \n"
          ]
        }
      ]
    },
    {
      "cell_type": "code",
      "source": [
        "print(\"\"\"my name is \\'shici\\' \"\"\")\n",
        "print(\" my name is \\\"shivi\\\" \")"
      ],
      "metadata": {
        "colab": {
          "base_uri": "https://localhost:8080/"
        },
        "outputId": "335bab5d-3699-4152-f6e2-a06533377f3b",
        "id": "FU8J5K96c0Z_"
      },
      "execution_count": null,
      "outputs": [
        {
          "output_type": "stream",
          "name": "stdout",
          "text": [
            "my name is 'shici' \n",
            " my name is \"shivi\" \n"
          ]
        }
      ]
    },
    {
      "cell_type": "code",
      "source": [
        "print(\"my name is \\\"shici\\\" \")\n",
        "print(\"my dfghj \\\"xcvbhjk\\\" \")"
      ],
      "metadata": {
        "colab": {
          "base_uri": "https://localhost:8080/"
        },
        "outputId": "09b41b7b-10d5-480a-8858-d29e0067e0e6",
        "id": "od-oo0n3dEZG"
      },
      "execution_count": null,
      "outputs": [
        {
          "output_type": "stream",
          "name": "stdout",
          "text": [
            "my name is \"shici\" \n",
            "my dfghj \"xcvbhjk\" \n"
          ]
        }
      ]
    },
    {
      "cell_type": "markdown",
      "source": [
        "# **calci**\n"
      ],
      "metadata": {
        "id": "v3uwujCYdmpf"
      }
    },
    {
      "cell_type": "code",
      "source": [
        "1+2\n",
        "2.123+23.46\n"
      ],
      "metadata": {
        "colab": {
          "base_uri": "https://localhost:8080/"
        },
        "id": "QYzAgV9jc8D6",
        "outputId": "47f27341-b465-4293-bcdf-e86a2e831d27"
      },
      "execution_count": null,
      "outputs": [
        {
          "output_type": "execute_result",
          "data": {
            "text/plain": [
              "25.583000000000002"
            ]
          },
          "metadata": {},
          "execution_count": 36
        }
      ]
    },
    {
      "cell_type": "code",
      "source": [
        "12*12"
      ],
      "metadata": {
        "colab": {
          "base_uri": "https://localhost:8080/"
        },
        "id": "WUC5lxKadpzv",
        "outputId": "1be8d355-1e13-4862-e4fd-8127368cea1c"
      },
      "execution_count": null,
      "outputs": [
        {
          "output_type": "execute_result",
          "data": {
            "text/plain": [
              "144"
            ]
          },
          "metadata": {},
          "execution_count": 34
        }
      ]
    },
    {
      "cell_type": "code",
      "source": [
        "print (12/2)  #quotinet\n",
        "12%2    #remainder"
      ],
      "metadata": {
        "colab": {
          "base_uri": "https://localhost:8080/"
        },
        "id": "6Ykc6IiHe6LL",
        "outputId": "6972ed27-6da9-4039-cbad-210e8887deb5"
      },
      "execution_count": null,
      "outputs": [
        {
          "output_type": "stream",
          "name": "stdout",
          "text": [
            "6.0\n"
          ]
        },
        {
          "output_type": "execute_result",
          "data": {
            "text/plain": [
              "0"
            ]
          },
          "metadata": {},
          "execution_count": 39
        }
      ]
    },
    {
      "cell_type": "code",
      "source": [
        "print(12**2) ####    ** = power of n\n",
        "print(2**8)\n",
        "\n",
        "print(2**3)\n",
        "2**10"
      ],
      "metadata": {
        "colab": {
          "base_uri": "https://localhost:8080/"
        },
        "id": "d6FylYmue817",
        "outputId": "c12c7db3-68f6-4bdf-eeb4-7cdcba80c4ab"
      },
      "execution_count": null,
      "outputs": [
        {
          "output_type": "stream",
          "name": "stdout",
          "text": [
            "144\n",
            "256\n",
            "8\n"
          ]
        },
        {
          "output_type": "execute_result",
          "data": {
            "text/plain": [
              "1024"
            ]
          },
          "metadata": {},
          "execution_count": 40
        }
      ]
    },
    {
      "cell_type": "code",
      "source": [
        "(-12)**3 ###negative power ##power of 3"
      ],
      "metadata": {
        "colab": {
          "base_uri": "https://localhost:8080/"
        },
        "id": "edc_xOg_fCPj",
        "outputId": "739f44f4-8e76-4a4b-c992-cc630aed48ec"
      },
      "execution_count": null,
      "outputs": [
        {
          "output_type": "execute_result",
          "data": {
            "text/plain": [
              "-1728"
            ]
          },
          "metadata": {},
          "execution_count": 12
        }
      ]
    },
    {
      "cell_type": "code",
      "source": [
        "124%12     #modulus ---remainder"
      ],
      "metadata": {
        "colab": {
          "base_uri": "https://localhost:8080/"
        },
        "id": "hyKz5nSwfE2z",
        "outputId": "9d224b8a-6c58-44dc-971b-02995899dd9f"
      },
      "execution_count": null,
      "outputs": [
        {
          "output_type": "execute_result",
          "data": {
            "text/plain": [
              "4"
            ]
          },
          "metadata": {},
          "execution_count": 39
        }
      ]
    },
    {
      "cell_type": "code",
      "source": [
        "print(1234%12)\n",
        "print(\"result\")"
      ],
      "metadata": {
        "colab": {
          "base_uri": "https://localhost:8080/"
        },
        "id": "1lN1574LfRoH",
        "outputId": "9bb4caae-6a3d-4609-d532-6e1c58828e53"
      },
      "execution_count": null,
      "outputs": [
        {
          "output_type": "stream",
          "name": "stdout",
          "text": [
            "10\n",
            "result\n"
          ]
        }
      ]
    },
    {
      "cell_type": "code",
      "source": [
        "1234%12\n",
        "print(\"result\")"
      ],
      "metadata": {
        "colab": {
          "base_uri": "https://localhost:8080/"
        },
        "id": "pgOMjbvFfYcr",
        "outputId": "7a923ba3-77d4-4983-bd5b-29d869ed62ab"
      },
      "execution_count": null,
      "outputs": [
        {
          "output_type": "stream",
          "name": "stdout",
          "text": [
            "result\n"
          ]
        }
      ]
    },
    {
      "cell_type": "markdown",
      "source": [
        "#variables in python\n",
        "\n"
      ],
      "metadata": {
        "id": "bdwJi2esfnAG"
      }
    },
    {
      "cell_type": "code",
      "source": [
        "x=10\n",
        "y=20\n",
        "print(x)\n",
        "print(x+y)"
      ],
      "metadata": {
        "colab": {
          "base_uri": "https://localhost:8080/"
        },
        "id": "DTHmXS8lfipw",
        "outputId": "6c5a2342-9c5c-464b-ae96-85898c34935a"
      },
      "execution_count": null,
      "outputs": [
        {
          "output_type": "stream",
          "name": "stdout",
          "text": [
            "10\n",
            "30\n"
          ]
        }
      ]
    },
    {
      "cell_type": "markdown",
      "source": [
        "## 1. variable name start with alphabets**\n"
      ],
      "metadata": {
        "id": "Xic1VOzcg8LT"
      }
    },
    {
      "cell_type": "code",
      "source": [
        "ten=10\n",
        "tenn_num=122"
      ],
      "metadata": {
        "id": "cZvX_0cKhCdQ"
      },
      "execution_count": null,
      "outputs": []
    },
    {
      "cell_type": "markdown",
      "source": [
        "### 2. not contain sp chars @#$%^&*()! except_"
      ],
      "metadata": {
        "id": "jMgsmmeWhKOM"
      }
    },
    {
      "cell_type": "code",
      "source": [
        "ten* =10"
      ],
      "metadata": {
        "colab": {
          "base_uri": "https://localhost:8080/",
          "height": 131
        },
        "id": "3of5gZQBhGZh",
        "outputId": "2bb793a1-cce1-42d6-ff55-e45dd01611ce"
      },
      "execution_count": null,
      "outputs": [
        {
          "output_type": "error",
          "ename": "SyntaxError",
          "evalue": "ignored",
          "traceback": [
            "\u001b[0;36m  File \u001b[0;32m\"<ipython-input-47-8e602cc286fc>\"\u001b[0;36m, line \u001b[0;32m1\u001b[0m\n\u001b[0;31m    ten* =10\u001b[0m\n\u001b[0m         ^\u001b[0m\n\u001b[0;31mSyntaxError\u001b[0m\u001b[0;31m:\u001b[0m invalid syntax\n"
          ]
        }
      ]
    },
    {
      "cell_type": "code",
      "source": [
        "ten(% =23)"
      ],
      "metadata": {
        "colab": {
          "base_uri": "https://localhost:8080/",
          "height": 131
        },
        "id": "HEM8tCDqhUa1",
        "outputId": "0e21c781-aa4c-4572-8865-dd1450ed0bf7"
      },
      "execution_count": null,
      "outputs": [
        {
          "output_type": "error",
          "ename": "SyntaxError",
          "evalue": "ignored",
          "traceback": [
            "\u001b[0;36m  File \u001b[0;32m\"<ipython-input-48-248f1d482f0c>\"\u001b[0;36m, line \u001b[0;32m1\u001b[0m\n\u001b[0;31m    ten(% =23)\u001b[0m\n\u001b[0m        ^\u001b[0m\n\u001b[0;31mSyntaxError\u001b[0m\u001b[0;31m:\u001b[0m invalid syntax\n"
          ]
        }
      ]
    },
    {
      "cell_type": "code",
      "source": [
        "ten/nu, =12"
      ],
      "metadata": {
        "colab": {
          "base_uri": "https://localhost:8080/",
          "height": 131
        },
        "id": "pL0PpdTFhX9A",
        "outputId": "6c8ceed6-9f29-4c48-bfb8-ae5fbcf2ff7c"
      },
      "execution_count": null,
      "outputs": [
        {
          "output_type": "error",
          "ename": "SyntaxError",
          "evalue": "ignored",
          "traceback": [
            "\u001b[0;36m  File \u001b[0;32m\"<ipython-input-50-13fad490dd0a>\"\u001b[0;36m, line \u001b[0;32m1\u001b[0m\n\u001b[0;31m    ten/nu, =12\u001b[0m\n\u001b[0m    ^\u001b[0m\n\u001b[0;31mSyntaxError\u001b[0m\u001b[0;31m:\u001b[0m cannot assign to expression\n"
          ]
        }
      ]
    },
    {
      "cell_type": "markdown",
      "source": [
        "### 3.can cotain number but can't start with it\n"
      ],
      "metadata": {
        "id": "AKZD6xJAhq51"
      }
    },
    {
      "cell_type": "code",
      "source": [
        "ten12 =123"
      ],
      "metadata": {
        "id": "C8wUxWq-hmoC"
      },
      "execution_count": null,
      "outputs": []
    },
    {
      "cell_type": "code",
      "source": [
        "12tehnkk =90"
      ],
      "metadata": {
        "colab": {
          "base_uri": "https://localhost:8080/",
          "height": 131
        },
        "id": "Rfkrv8zshxuT",
        "outputId": "ff3c9b57-69c0-4572-de45-aba236606ba9"
      },
      "execution_count": null,
      "outputs": [
        {
          "output_type": "error",
          "ename": "SyntaxError",
          "evalue": "ignored",
          "traceback": [
            "\u001b[0;36m  File \u001b[0;32m\"<ipython-input-52-c692873611e6>\"\u001b[0;36m, line \u001b[0;32m1\u001b[0m\n\u001b[0;31m    12tehnkk =90\u001b[0m\n\u001b[0m     ^\u001b[0m\n\u001b[0;31mSyntaxError\u001b[0m\u001b[0;31m:\u001b[0m invalid decimal literal\n"
          ]
        }
      ]
    },
    {
      "cell_type": "markdown",
      "source": [
        "## 4. not rule but should start with small letter in variable"
      ],
      "metadata": {
        "id": "UlWaDH2Ch6YN"
      }
    },
    {
      "cell_type": "code",
      "source": [
        "Ten = 10"
      ],
      "metadata": {
        "id": "Da3nn95_h0EE"
      },
      "execution_count": null,
      "outputs": []
    },
    {
      "cell_type": "code",
      "source": [
        "ten num =233"
      ],
      "metadata": {
        "colab": {
          "base_uri": "https://localhost:8080/",
          "height": 131
        },
        "id": "oFwD__8liCE5",
        "outputId": "34607cf1-fd66-477d-a875-69aadf1acd46"
      },
      "execution_count": null,
      "outputs": [
        {
          "output_type": "error",
          "ename": "SyntaxError",
          "evalue": "ignored",
          "traceback": [
            "\u001b[0;36m  File \u001b[0;32m\"<ipython-input-54-696a9a8029e7>\"\u001b[0;36m, line \u001b[0;32m1\u001b[0m\n\u001b[0;31m    ten num =233\u001b[0m\n\u001b[0m        ^\u001b[0m\n\u001b[0;31mSyntaxError\u001b[0m\u001b[0;31m:\u001b[0m invalid syntax\n"
          ]
        }
      ]
    },
    {
      "cell_type": "code",
      "source": [
        "ten_num = 123"
      ],
      "metadata": {
        "id": "vAEzSZLLiH-H"
      },
      "execution_count": null,
      "outputs": []
    },
    {
      "cell_type": "code",
      "source": [
        "_num =10 #####hidden  ###not visible to end user (in black box)\n",
        "print(_num)"
      ],
      "metadata": {
        "colab": {
          "base_uri": "https://localhost:8080/"
        },
        "id": "zxr-mRLUiKTY",
        "outputId": "3e706b9f-37ea-4f24-a311-4f7cbbabbc44"
      },
      "execution_count": null,
      "outputs": [
        {
          "output_type": "stream",
          "name": "stdout",
          "text": [
            "10\n"
          ]
        }
      ]
    },
    {
      "cell_type": "code",
      "source": [],
      "metadata": {
        "id": "P633Pq92g8Nt"
      },
      "execution_count": null,
      "outputs": []
    },
    {
      "cell_type": "code",
      "source": [
        "_ = 10 ######dummy variable\n",
        "print(_)"
      ],
      "metadata": {
        "colab": {
          "base_uri": "https://localhost:8080/"
        },
        "id": "mzrZd5qZouX4",
        "outputId": "dee38619-7515-477a-f830-3e26a8b3e696"
      },
      "execution_count": null,
      "outputs": [
        {
          "output_type": "stream",
          "name": "stdout",
          "text": [
            "10\n"
          ]
        }
      ]
    },
    {
      "cell_type": "code",
      "source": [
        "xyz =10;\n",
        "print(xyz)\n",
        "z_o = 1000;\n",
        "z_o"
      ],
      "metadata": {
        "colab": {
          "base_uri": "https://localhost:8080/"
        },
        "id": "sXLKAGKaIGf2",
        "outputId": "e848d39b-f73b-4276-d5d9-dbd1510275c8"
      },
      "execution_count": null,
      "outputs": [
        {
          "output_type": "stream",
          "name": "stdout",
          "text": [
            "10\n"
          ]
        },
        {
          "output_type": "execute_result",
          "data": {
            "text/plain": [
              "1000"
            ]
          },
          "metadata": {},
          "execution_count": 22
        }
      ]
    },
    {
      "cell_type": "markdown",
      "source": [
        "# data types"
      ],
      "metadata": {
        "id": "dglVpMhwtP_y"
      }
    },
    {
      "cell_type": "markdown",
      "source": [
        "## integer"
      ],
      "metadata": {
        "id": "WqpgZdHgt3J0"
      }
    },
    {
      "cell_type": "code",
      "source": [
        "a =123\n",
        "type(a)"
      ],
      "metadata": {
        "colab": {
          "base_uri": "https://localhost:8080/"
        },
        "id": "Ag_LteYXu0jk",
        "outputId": "1ed2fbfe-41fe-469e-9e1e-7c0564acd2a7"
      },
      "execution_count": null,
      "outputs": [
        {
          "output_type": "execute_result",
          "data": {
            "text/plain": [
              "int"
            ]
          },
          "metadata": {},
          "execution_count": 50
        }
      ]
    },
    {
      "cell_type": "code",
      "source": [
        "a =9089009756789\n",
        "type(a)"
      ],
      "metadata": {
        "colab": {
          "base_uri": "https://localhost:8080/"
        },
        "id": "XBi1fCs0t7di",
        "outputId": "236c3abf-ac40-4eeb-82c7-b82c421410ba"
      },
      "execution_count": null,
      "outputs": [
        {
          "output_type": "execute_result",
          "data": {
            "text/plain": [
              "int"
            ]
          },
          "metadata": {},
          "execution_count": 51
        }
      ]
    },
    {
      "cell_type": "markdown",
      "source": [
        "## floats\n"
      ],
      "metadata": {
        "id": "mXk9pk5vvAEN"
      }
    },
    {
      "cell_type": "code",
      "source": [
        "p =12.789\n",
        "type(p)"
      ],
      "metadata": {
        "colab": {
          "base_uri": "https://localhost:8080/"
        },
        "id": "IpTTczx1u6gY",
        "outputId": "3e2b1a77-fad4-466e-ab92-d1c27f573b84"
      },
      "execution_count": null,
      "outputs": [
        {
          "output_type": "execute_result",
          "data": {
            "text/plain": [
              "float"
            ]
          },
          "metadata": {},
          "execution_count": 4
        }
      ]
    },
    {
      "cell_type": "code",
      "source": [
        "p=22/7\n",
        "type(p)"
      ],
      "metadata": {
        "colab": {
          "base_uri": "https://localhost:8080/"
        },
        "id": "OtIP7-p-vIZc",
        "outputId": "fb2e96d6-173c-4c7c-a341-a7fe46a41e01"
      },
      "execution_count": null,
      "outputs": [
        {
          "output_type": "execute_result",
          "data": {
            "text/plain": [
              "float"
            ]
          },
          "metadata": {},
          "execution_count": 5
        }
      ]
    },
    {
      "cell_type": "code",
      "source": [
        "p=2.00\n",
        "type(p)"
      ],
      "metadata": {
        "colab": {
          "base_uri": "https://localhost:8080/"
        },
        "id": "TwGcTIkovLxx",
        "outputId": "16f7c4eb-32f9-470d-f3e1-01ffee00787f"
      },
      "execution_count": null,
      "outputs": [
        {
          "output_type": "execute_result",
          "data": {
            "text/plain": [
              "float"
            ]
          },
          "metadata": {},
          "execution_count": 11
        }
      ]
    },
    {
      "cell_type": "code",
      "source": [
        "p =12/2\n",
        "print(p)\n",
        "type(p)"
      ],
      "metadata": {
        "colab": {
          "base_uri": "https://localhost:8080/"
        },
        "id": "cN1nGa0dv0LZ",
        "outputId": "8b55caa5-59e1-44b0-dc61-067e5de477d3"
      },
      "execution_count": null,
      "outputs": [
        {
          "output_type": "stream",
          "name": "stdout",
          "text": [
            "6.0\n"
          ]
        },
        {
          "output_type": "execute_result",
          "data": {
            "text/plain": [
              "float"
            ]
          },
          "metadata": {},
          "execution_count": 52
        }
      ]
    },
    {
      "cell_type": "markdown",
      "source": [
        "## Complex number"
      ],
      "metadata": {
        "id": "I1hYfulGwCzx"
      }
    },
    {
      "cell_type": "code",
      "source": [
        "a =1+2j\n",
        "print(a)\n",
        "b = 3.123+3j\n",
        "b"
      ],
      "metadata": {
        "colab": {
          "base_uri": "https://localhost:8080/"
        },
        "id": "qC9x9Zf2wHxt",
        "outputId": "69baf8ce-d56c-4b65-873a-e2d4655115a6"
      },
      "execution_count": null,
      "outputs": [
        {
          "output_type": "stream",
          "name": "stdout",
          "text": [
            "(1+2j)\n"
          ]
        },
        {
          "output_type": "execute_result",
          "data": {
            "text/plain": [
              "(3.123+3j)"
            ]
          },
          "metadata": {},
          "execution_count": 29
        }
      ]
    },
    {
      "cell_type": "code",
      "source": [
        "type(a)"
      ],
      "metadata": {
        "colab": {
          "base_uri": "https://localhost:8080/"
        },
        "id": "aQzSOPxrwa0M",
        "outputId": "ab3ded34-c9f4-4934-cd43-5a5c4a0cd3ee"
      },
      "execution_count": null,
      "outputs": [
        {
          "output_type": "execute_result",
          "data": {
            "text/plain": [
              "complex"
            ]
          },
          "metadata": {},
          "execution_count": 30
        }
      ]
    },
    {
      "cell_type": "code",
      "source": [
        "print(a.real)\n",
        "b.real"
      ],
      "metadata": {
        "colab": {
          "base_uri": "https://localhost:8080/"
        },
        "id": "sPum-OzXweZJ",
        "outputId": "99146240-ccce-4751-ca50-253f831f7830"
      },
      "execution_count": null,
      "outputs": [
        {
          "output_type": "stream",
          "name": "stdout",
          "text": [
            "1.0\n"
          ]
        },
        {
          "output_type": "execute_result",
          "data": {
            "text/plain": [
              "3.123"
            ]
          },
          "metadata": {},
          "execution_count": 32
        }
      ]
    },
    {
      "cell_type": "code",
      "source": [
        "a.imag\n",
        "b.imag"
      ],
      "metadata": {
        "colab": {
          "base_uri": "https://localhost:8080/"
        },
        "id": "La6ILWU1wftt",
        "outputId": "f214de95-e2e0-4d2e-f7d3-a463ec739368"
      },
      "execution_count": null,
      "outputs": [
        {
          "output_type": "execute_result",
          "data": {
            "text/plain": [
              "3.0"
            ]
          },
          "metadata": {},
          "execution_count": 57
        }
      ]
    },
    {
      "cell_type": "code",
      "source": [
        "\"\"\"\n",
        "a =\"sfdfd\"\n",
        "type(a)\n",
        "\"\"\"\n",
        "\n",
        "a ='sdfghjk'\n",
        "print(type(a))\n",
        "\n",
        "b='a'\n",
        "print(type(b))\n",
        "\n",
        "b1=\"sdfgvhbjn\"\n",
        "print(type(b1))"
      ],
      "metadata": {
        "colab": {
          "base_uri": "https://localhost:8080/"
        },
        "id": "xtF6eyqHJr-D",
        "outputId": "e1b896b6-9679-49c1-8bf8-e798f80dd7e6"
      },
      "execution_count": null,
      "outputs": [
        {
          "output_type": "stream",
          "name": "stdout",
          "text": [
            "<class 'str'>\n",
            "<class 'str'>\n",
            "<class 'str'>\n"
          ]
        }
      ]
    },
    {
      "cell_type": "markdown",
      "source": [
        "## dynamic typing  ---override value as well as data type"
      ],
      "metadata": {
        "id": "obhjbDrux9lG"
      }
    },
    {
      "cell_type": "code",
      "source": [
        "a =12\n",
        "print(type(a))\n",
        "a =12.2\n",
        "print(type(a))\n",
        "a =\"shici\"\n",
        "type(a)\n",
        "a"
      ],
      "metadata": {
        "colab": {
          "base_uri": "https://localhost:8080/",
          "height": 70
        },
        "id": "xiqT-u-7wh4t",
        "outputId": "b5072680-57db-4cd0-c419-31194957052d"
      },
      "execution_count": null,
      "outputs": [
        {
          "output_type": "stream",
          "name": "stdout",
          "text": [
            "<class 'int'>\n",
            "<class 'float'>\n"
          ]
        },
        {
          "output_type": "execute_result",
          "data": {
            "text/plain": [
              "'shici'"
            ],
            "application/vnd.google.colaboratory.intrinsic+json": {
              "type": "string"
            }
          },
          "metadata": {},
          "execution_count": 64
        }
      ]
    },
    {
      "cell_type": "code",
      "source": [
        "a =1.234\n",
        "print(type(a))\n",
        "a =1234\n",
        "print(type(a))\n",
        "a =\"1.234\"\n",
        "print(type(a))\n",
        "a ='1.234'\n",
        "print(type(a))\n",
        "a"
      ],
      "metadata": {
        "id": "pe0tsQzYyD_k",
        "colab": {
          "base_uri": "https://localhost:8080/",
          "height": 104
        },
        "outputId": "1df99072-c9a0-4e2c-9d3b-41457386b0c0"
      },
      "execution_count": null,
      "outputs": [
        {
          "output_type": "stream",
          "name": "stdout",
          "text": [
            "<class 'float'>\n",
            "<class 'int'>\n",
            "<class 'str'>\n",
            "<class 'str'>\n"
          ]
        },
        {
          "output_type": "execute_result",
          "data": {
            "text/plain": [
              "'1.234'"
            ],
            "application/vnd.google.colaboratory.intrinsic+json": {
              "type": "string"
            }
          },
          "metadata": {},
          "execution_count": 46
        }
      ]
    },
    {
      "cell_type": "markdown",
      "source": [
        "## Strong Typing -- concat same data type or use   \" \" or ' '"
      ],
      "metadata": {
        "id": "8GMpv9yDyrSt"
      }
    },
    {
      "cell_type": "code",
      "source": [
        "\"shivi\"+01"
      ],
      "metadata": {
        "colab": {
          "base_uri": "https://localhost:8080/",
          "height": 131
        },
        "id": "5bE1GtiuyuHJ",
        "outputId": "0b5cd4f5-9aa6-42b3-b380-20afab9ec705"
      },
      "execution_count": null,
      "outputs": [
        {
          "output_type": "error",
          "ename": "SyntaxError",
          "evalue": "ignored",
          "traceback": [
            "\u001b[0;36m  File \u001b[0;32m\"<ipython-input-24-542bbb28e8f6>\"\u001b[0;36m, line \u001b[0;32m1\u001b[0m\n\u001b[0;31m    \"shivi\"+01\u001b[0m\n\u001b[0m            ^\u001b[0m\n\u001b[0;31mSyntaxError\u001b[0m\u001b[0;31m:\u001b[0m leading zeros in decimal integer literals are not permitted; use an 0o prefix for octal integers\n"
          ]
        }
      ]
    },
    {
      "cell_type": "code",
      "source": [
        "\"shivi\"+\"01\""
      ],
      "metadata": {
        "colab": {
          "base_uri": "https://localhost:8080/",
          "height": 35
        },
        "id": "nbI39RE9y4w5",
        "outputId": "f19754cc-5da8-4140-a2c0-c28109412086"
      },
      "execution_count": null,
      "outputs": [
        {
          "output_type": "execute_result",
          "data": {
            "text/plain": [
              "'shivi01'"
            ],
            "application/vnd.google.colaboratory.intrinsic+json": {
              "type": "string"
            }
          },
          "metadata": {},
          "execution_count": 25
        }
      ]
    },
    {
      "cell_type": "code",
      "source": [
        "'shivi' +'01'"
      ],
      "metadata": {
        "colab": {
          "base_uri": "https://localhost:8080/",
          "height": 35
        },
        "id": "c0QcCDGmy8XR",
        "outputId": "3e439718-1ac7-46a1-e978-1351546358bd"
      },
      "execution_count": null,
      "outputs": [
        {
          "output_type": "execute_result",
          "data": {
            "text/plain": [
              "'shivi01'"
            ],
            "application/vnd.google.colaboratory.intrinsic+json": {
              "type": "string"
            }
          },
          "metadata": {},
          "execution_count": 26
        }
      ]
    },
    {
      "cell_type": "code",
      "source": [
        "'11233'+'23232'"
      ],
      "metadata": {
        "colab": {
          "base_uri": "https://localhost:8080/",
          "height": 35
        },
        "id": "HVpOO7Uqy_Ve",
        "outputId": "d26f030f-fdf4-4e1e-8099-dd8a3f12fbbc"
      },
      "execution_count": null,
      "outputs": [
        {
          "output_type": "execute_result",
          "data": {
            "text/plain": [
              "'1123323232'"
            ],
            "application/vnd.google.colaboratory.intrinsic+json": {
              "type": "string"
            }
          },
          "metadata": {},
          "execution_count": 27
        }
      ]
    },
    {
      "cell_type": "code",
      "source": [
        "'123242' +\"0.132432\""
      ],
      "metadata": {
        "colab": {
          "base_uri": "https://localhost:8080/",
          "height": 35
        },
        "id": "yGAKEi0dzC7H",
        "outputId": "53840f1f-ae2e-43fe-ecf2-eec05867f01f"
      },
      "execution_count": null,
      "outputs": [
        {
          "output_type": "execute_result",
          "data": {
            "text/plain": [
              "'1232420.132432'"
            ],
            "application/vnd.google.colaboratory.intrinsic+json": {
              "type": "string"
            }
          },
          "metadata": {},
          "execution_count": 28
        }
      ]
    },
    {
      "cell_type": "code",
      "source": [
        "name =\"abha\"\n",
        "print(\"my name is \" + name ) ##rarely used\n",
        "zy =  10\n",
        "print(\"number \" + zy)"
      ],
      "metadata": {
        "colab": {
          "base_uri": "https://localhost:8080/"
        },
        "id": "v5hcsZ_5zHuk",
        "outputId": "b9d39d6f-7c35-4451-f9ee-e1779e11f857"
      },
      "execution_count": null,
      "outputs": [
        {
          "output_type": "stream",
          "name": "stdout",
          "text": [
            "my name is abha\n",
            "number 10\n"
          ]
        }
      ]
    },
    {
      "cell_type": "markdown",
      "source": [
        "fromatted string method"
      ],
      "metadata": {
        "id": "P4ZZWWibOVRx"
      }
    },
    {
      "cell_type": "code",
      "source": [
        "name =\"abjjkbha\"\n",
        "age = 123\n",
        "print(f\"my name is {name} and age is {age} \") ##mostly used ##f---fromatted string method\n",
        "##print(\"my name is \" + name  + \"and age is \" + age)\n",
        "print ()"
      ],
      "metadata": {
        "colab": {
          "base_uri": "https://localhost:8080/"
        },
        "id": "f3aHru8x1jsS",
        "outputId": "25fc5a2a-d4d7-472f-bac9-44e3d265b544"
      },
      "execution_count": null,
      "outputs": [
        {
          "output_type": "stream",
          "name": "stdout",
          "text": [
            "my name is abjjkbha and age is 123 \n",
            "\n"
          ]
        }
      ]
    },
    {
      "cell_type": "code",
      "source": [
        "name =\"shivani\",\"babha\"\n",
        "number = 879890,1235\n",
        "print(f\"my name is {name} and number is {number}\")\n",
        "name =\"babha\"\n",
        "number =1235\n",
        "print(f\"my name is {name} and number is {number}\")"
      ],
      "metadata": {
        "colab": {
          "base_uri": "https://localhost:8080/"
        },
        "id": "Egv1qn2dOj5-",
        "outputId": "c34ced2c-ae8a-4526-cfe9-2b8dd5acc282"
      },
      "execution_count": null,
      "outputs": [
        {
          "output_type": "stream",
          "name": "stdout",
          "text": [
            "my name is ('shivani', 'babha') and number is (879890, 1235)\n",
            "my name is babha and number is 1235\n"
          ]
        }
      ]
    },
    {
      "cell_type": "code",
      "source": [
        "name =\"abha\"\n",
        "age =789\n",
        "print(\"my name is {} and age is {}\".format(name,age)) ##old way"
      ],
      "metadata": {
        "colab": {
          "base_uri": "https://localhost:8080/"
        },
        "id": "3XjLoMEF1yuj",
        "outputId": "53245094-44bb-4d55-bab7-c543e50439dc"
      },
      "execution_count": null,
      "outputs": [
        {
          "output_type": "stream",
          "name": "stdout",
          "text": [
            "my name is abha and age is 789\n"
          ]
        }
      ]
    },
    {
      "cell_type": "code",
      "source": [
        "a=121\n",
        "b=1323\n",
        "c=a+b\n",
        "f\"sum of a= {a} and b={b} is equal to {c}\""
      ],
      "metadata": {
        "colab": {
          "base_uri": "https://localhost:8080/",
          "height": 35
        },
        "id": "AmNM8a6R2d5h",
        "outputId": "9670ce84-6878-460b-d8c6-df7440f54e9d"
      },
      "execution_count": null,
      "outputs": [
        {
          "output_type": "execute_result",
          "data": {
            "text/plain": [
              "'sum of a= 121 and b=1323 is equal to 1444'"
            ],
            "application/vnd.google.colaboratory.intrinsic+json": {
              "type": "string"
            }
          },
          "metadata": {},
          "execution_count": 40
        }
      ]
    },
    {
      "cell_type": "code",
      "source": [
        "a=123\n",
        "b=145\n",
        "c =a/b\n",
        "print(f\" division of {a} / {b} = {c}\")"
      ],
      "metadata": {
        "id": "Aa7wZJjn4Ecx",
        "colab": {
          "base_uri": "https://localhost:8080/"
        },
        "outputId": "fd33a349-f4da-4342-ada3-f4c136b1af35"
      },
      "execution_count": null,
      "outputs": [
        {
          "output_type": "stream",
          "name": "stdout",
          "text": [
            " division of 123 / 145 = 0.8482758620689655\n"
          ]
        }
      ]
    },
    {
      "cell_type": "code",
      "source": [
        "a =123;\n",
        "b =1324;\n",
        "c =a+b;\n",
        "print(f\"sum of {a} + {b} = {c}\")"
      ],
      "metadata": {
        "colab": {
          "base_uri": "https://localhost:8080/"
        },
        "id": "QP82m7THJggj",
        "outputId": "973a9487-0d80-4567-ca79-d4b335047991"
      },
      "execution_count": null,
      "outputs": [
        {
          "output_type": "stream",
          "name": "stdout",
          "text": [
            "sum of 123 + 1324 = 1447\n"
          ]
        }
      ]
    },
    {
      "cell_type": "code",
      "source": [
        "name = input(\"enter your name\")\n",
        "age = input(\"enter your age\")\n",
        "print(\"my name is \" + name + \" and my age is \" + age)\n",
        "print(f\"my name is {name} and my age is {age}\")"
      ],
      "metadata": {
        "id": "2v3C-31SWC5m",
        "outputId": "cb8b6bf0-f8f1-46da-ee3c-3ea79c2b247f",
        "colab": {
          "base_uri": "https://localhost:8080/"
        }
      },
      "execution_count": null,
      "outputs": [
        {
          "output_type": "stream",
          "name": "stdout",
          "text": [
            "enter your nameiop\n",
            "enter your age90\n",
            "my name is iop and my age is 90\n",
            "my name is iop and my age is 90\n"
          ]
        }
      ]
    },
    {
      "cell_type": "markdown",
      "source": [
        "## boolean"
      ],
      "metadata": {
        "id": "A5JrPaNw4Mzg"
      }
    },
    {
      "cell_type": "code",
      "source": [
        "x=113\n",
        "b=678\n",
        "c=x>b\n",
        "type(c)\n",
        "print(type(c))"
      ],
      "metadata": {
        "colab": {
          "base_uri": "https://localhost:8080/"
        },
        "id": "j4YJmJC24SOL",
        "outputId": "365b480d-b554-4a6b-ddc2-1ef37be5e863"
      },
      "execution_count": null,
      "outputs": [
        {
          "output_type": "stream",
          "name": "stdout",
          "text": [
            "<class 'bool'>\n"
          ]
        }
      ]
    },
    {
      "cell_type": "code",
      "source": [
        "result = int('10.5')\n",
        "result"
      ],
      "metadata": {
        "colab": {
          "base_uri": "https://localhost:8080/",
          "height": 158
        },
        "id": "RXfnTdEVRYwI",
        "outputId": "b459d710-222f-49f6-9f7b-43c59027ddf2"
      },
      "execution_count": null,
      "outputs": [
        {
          "output_type": "error",
          "ename": "ValueError",
          "evalue": "invalid literal for int() with base 10: '10.5'",
          "traceback": [
            "\u001b[0;31m---------------------------------------------------------------------------\u001b[0m",
            "\u001b[0;31mValueError\u001b[0m                                Traceback (most recent call last)",
            "\u001b[0;32m<ipython-input-5-4c9a5a5a6ae3>\u001b[0m in \u001b[0;36m<cell line: 1>\u001b[0;34m()\u001b[0m\n\u001b[0;32m----> 1\u001b[0;31m \u001b[0mresult\u001b[0m \u001b[0;34m=\u001b[0m \u001b[0mint\u001b[0m\u001b[0;34m(\u001b[0m\u001b[0;34m'10.5'\u001b[0m\u001b[0;34m)\u001b[0m\u001b[0;34m\u001b[0m\u001b[0;34m\u001b[0m\u001b[0m\n\u001b[0m\u001b[1;32m      2\u001b[0m \u001b[0mresult\u001b[0m\u001b[0;34m\u001b[0m\u001b[0;34m\u001b[0m\u001b[0m\n",
            "\u001b[0;31mValueError\u001b[0m: invalid literal for int() with base 10: '10.5'"
          ]
        }
      ]
    },
    {
      "cell_type": "code",
      "source": [
        "result = float('10.5')\n",
        "result\n",
        "\n",
        "x =10\n",
        "x+= 5\n",
        "x\n",
        "\n",
        "\n",
        "True and False or True"
      ],
      "metadata": {
        "colab": {
          "base_uri": "https://localhost:8080/"
        },
        "id": "RtFr3GTXRYqh",
        "outputId": "40e4f9db-90c0-47eb-f60b-d3c9c2df4cf8"
      },
      "execution_count": null,
      "outputs": [
        {
          "output_type": "execute_result",
          "data": {
            "text/plain": [
              "True"
            ]
          },
          "metadata": {},
          "execution_count": 11
        }
      ]
    },
    {
      "cell_type": "markdown",
      "source": [
        "### 1. Write a program that:\n",
        "\n",
        "#### Prompts the user to enter any value.\n",
        "#### Prints the value and its data type.\n",
        "#### Tries converting the value into an integer, float, and boolean,\n",
        "#### then prints the converted values and their types."
      ],
      "metadata": {
        "id": "58rPughETU7h"
      }
    },
    {
      "cell_type": "code",
      "source": [
        "user_input = input(\"Enter any value: \")\n",
        "print(user_input)\n",
        "print(type(user_input))\n",
        "\n",
        "\n",
        "user_input_i = int(input(\"Enter any value: \"))\n",
        "print(user_input_i)\n",
        "print(type(user_input_i))\n",
        "\n",
        "\n",
        "user_input_f = float(input(\"Enter any value: \"))\n",
        "print(user_input_f)\n",
        "print(type(user_input_f))\n",
        "\n",
        "\n",
        "user_input_b = bool(input(\"Enter any value: \"))\n",
        "print(user_input_b)\n",
        "print(type(user_input_b))"
      ],
      "metadata": {
        "id": "EF2BsaryTho3",
        "outputId": "b542206f-a7d9-498c-ca9f-dd726aaae6cc",
        "colab": {
          "base_uri": "https://localhost:8080/"
        }
      },
      "execution_count": null,
      "outputs": [
        {
          "output_type": "stream",
          "name": "stdout",
          "text": [
            "Enter any value: str\n",
            "str\n",
            "<class 'str'>\n",
            "Enter any value: 78\n",
            "78\n",
            "<class 'int'>\n",
            "Enter any value: 78.0\n",
            "78.0\n",
            "<class 'float'>\n",
            "Enter any value: 89\n",
            "True\n",
            "<class 'bool'>\n"
          ]
        }
      ]
    },
    {
      "cell_type": "markdown",
      "source": [
        "### 2. Write a program that:\n",
        "####  Asks the user to enter the names of three items they want to\n",
        "####  buy (one at a time).\n",
        "####  Stores the items in variables.\n",
        "####  Prints a formatted list of the items the user entered.\n"
      ],
      "metadata": {
        "id": "Y2X0O4KdUhEQ"
      }
    },
    {
      "cell_type": "code",
      "source": [
        "enter_names1 = input(\"enter the name of 1st item u want to buy : \")\n",
        "enter_names2 = input(\"enter the name of 2nd item u want to buy : \")\n",
        "enter_names3 = input(\"enter the name of 3rd item u want to buy : \")\n",
        "print(f\"names of 3 items u want to buy {enter_names1},{enter_names2},{enter_names3}\")\n"
      ],
      "metadata": {
        "id": "0KE92LH2T0NV",
        "outputId": "be15483c-2bd1-449d-b060-da4555f28c7e",
        "colab": {
          "base_uri": "https://localhost:8080/"
        }
      },
      "execution_count": null,
      "outputs": [
        {
          "output_type": "stream",
          "name": "stdout",
          "text": [
            "enter the name of 1st item u want to buy : 1\n",
            "enter the name of 2nd item u want to buy : 2\n",
            "enter the name of 3rd item u want to buy : 3\n",
            "names of 3 items u want to buy 1,2,3\n"
          ]
        }
      ]
    },
    {
      "cell_type": "markdown",
      "source": [
        "### 3. Write a program that swaps the values of two variables"
      ],
      "metadata": {
        "id": "6zmKklUmUwGE"
      }
    },
    {
      "cell_type": "code",
      "source": [
        "a =10\n",
        "b= 20\n",
        "c =a+b\n",
        "a = c -a\n",
        "print(a)\n",
        "b = c -b\n",
        "print(b)\n"
      ],
      "metadata": {
        "id": "blTNWDICXPa6",
        "outputId": "f6f5432d-521b-4768-b660-9f4f96ba20b5",
        "colab": {
          "base_uri": "https://localhost:8080/"
        }
      },
      "execution_count": null,
      "outputs": [
        {
          "output_type": "stream",
          "name": "stdout",
          "text": [
            "20\n",
            "10\n"
          ]
        }
      ]
    },
    {
      "cell_type": "code",
      "source": [
        "a =10\n",
        "b= 20\n",
        "c =a\n",
        "a =b\n",
        "print(a)\n",
        "b = c\n",
        "b"
      ],
      "metadata": {
        "id": "Mi7AY5i8YgBG",
        "outputId": "b57ee114-c6d5-4e13-8e99-b7200a66d511",
        "colab": {
          "base_uri": "https://localhost:8080/"
        }
      },
      "execution_count": null,
      "outputs": [
        {
          "output_type": "stream",
          "name": "stdout",
          "text": [
            "20\n"
          ]
        },
        {
          "output_type": "execute_result",
          "data": {
            "text/plain": [
              "10"
            ]
          },
          "metadata": {},
          "execution_count": 30
        }
      ]
    },
    {
      "cell_type": "markdown",
      "source": [
        "1. Take base and height from user input. Write a Python function that calculates the area of a triangle\n",
        "2. Write a Python program to calculate the total cost of n items where the cost of each item is p. Apply a 10% discount on the total cost and display the discounted amount.(take n,p as user_input)\n",
        "3. Write a program to swap two without using a third variable or without using (a,b = b,a)\n"
      ],
      "metadata": {
        "id": "5DLZRurgYeAS"
      }
    },
    {
      "cell_type": "code",
      "source": [
        "height = float(input(\"enter height of traingle : \"))\n",
        "base = float(input(\"enter base of traingle : \"))\n",
        "area = .5*base*height\n",
        "print(f\"area of traingle is {area}\")"
      ],
      "metadata": {
        "colab": {
          "base_uri": "https://localhost:8080/"
        },
        "id": "HKKnYxodqnS7",
        "outputId": "b966d210-9978-4f95-e24e-1982b7f8f799"
      },
      "execution_count": 1,
      "outputs": [
        {
          "output_type": "stream",
          "name": "stdout",
          "text": [
            "enter height of traingle : 12\n",
            "enter base of traingle : .90\n",
            "area of traingle is 5.4\n"
          ]
        }
      ]
    },
    {
      "cell_type": "code",
      "source": [
        "number_of_items = int(input(\"enter number of items : \"))\n",
        "price_of_each_item = float(input(\"enter price of each item : \"))\n",
        "total_cost = number_of_items*price_of_each_item\n",
        "discounted_price = total_cost - (total_cost *.1)\n",
        "print(f\"total cost is {total_cost} and discounted price is {discounted_price}\")"
      ],
      "metadata": {
        "colab": {
          "base_uri": "https://localhost:8080/"
        },
        "id": "1aXx-vmoq37N",
        "outputId": "7802d7ca-f1c8-459a-b389-a8333ffb0dfd"
      },
      "execution_count": 9,
      "outputs": [
        {
          "output_type": "stream",
          "name": "stdout",
          "text": [
            "enter number of items : 5\n",
            "enter price of each item : 10\n",
            "total cost is 50.0 and discounted price is 45.0\n"
          ]
        }
      ]
    },
    {
      "cell_type": "code",
      "source": [
        "a =20\n",
        "b =10\n",
        "a =a+b\n",
        "b = a-b\n",
        "a = a-b\n",
        "print(f\"a = {a} and b = {b}\")"
      ],
      "metadata": {
        "colab": {
          "base_uri": "https://localhost:8080/"
        },
        "id": "l3_O4-NzrBip",
        "outputId": "72789b9c-5cb9-4b21-a375-36e43359c8c9"
      },
      "execution_count": 8,
      "outputs": [
        {
          "output_type": "stream",
          "name": "stdout",
          "text": [
            "a = 10 and b = 20\n"
          ]
        }
      ]
    },
    {
      "cell_type": "markdown",
      "source": [
        "### print"
      ],
      "metadata": {
        "id": "aq9yF-CAuWa_"
      }
    },
    {
      "cell_type": "code",
      "source": [
        "name = \"shivani\"\n",
        "age = 23\n",
        "print(\"my name is\",name,\"and age is\",age)\n",
        "print(\"my name is {} and age is {}\".format(name,age))\n",
        "print(f\"my name is {name} and age is {age}\")"
      ],
      "metadata": {
        "id": "7u91kH4auZu5",
        "outputId": "8340dca3-f4b9-4deb-a9a2-792cc5b5249f",
        "colab": {
          "base_uri": "https://localhost:8080/"
        }
      },
      "execution_count": 13,
      "outputs": [
        {
          "output_type": "stream",
          "name": "stdout",
          "text": [
            "my name is shivani and age is 23\n",
            "my name is shivani and age is 23\n",
            "my name is shivani and age is 23\n"
          ]
        }
      ]
    },
    {
      "cell_type": "markdown",
      "source": [
        "## print - end --\\n\n",
        "### , seperated strings\n",
        "### by default print ---- prints seperated by space\n",
        "### sep"
      ],
      "metadata": {
        "id": "F0Ox4wj0wF-S"
      }
    },
    {
      "cell_type": "code",
      "source": [
        "## print by default print in next line -- to print in same line\n",
        "## can use end to print in one line\n",
        "print(\"my name is {} and age is {}\".format(name,age) ,end = \",\")\n",
        "print(f\"my name is {name} and age is {age}\")\n",
        "\n",
        "print(\"my name is {} and age is {}\".format(name,age) ,end = \"****\")\n",
        "print(f\"my name is {name} and age is {age}\")\n",
        "\n",
        "\n",
        "print(\"my name is {} and age is {}\".format(name,age) ,end = \"             \")\n",
        "print(f\"my name is {name} and age is {age}\")\n",
        "\n",
        "print(f\"my name is {name} and \\nage is {age}\")"
      ],
      "metadata": {
        "id": "pJq57m_fvE2D",
        "outputId": "e4f3645b-4e44-45a3-b220-b6f98462780f",
        "colab": {
          "base_uri": "https://localhost:8080/"
        }
      },
      "execution_count": 21,
      "outputs": [
        {
          "output_type": "stream",
          "name": "stdout",
          "text": [
            "my name is shivani and age is 23,my name is shivani and age is 23\n",
            "my name is shivani and age is 23****my name is shivani and age is 23\n",
            "my name is shivani and age is 23             my name is shivani and age is 23\n",
            "my name is shivani and \n",
            "age is 23\n"
          ]
        }
      ]
    },
    {
      "cell_type": "code",
      "source": [
        "print(f\"my name is {name} and age is {age}\", sep =\",\")\n",
        "print(\"my name is\",name,\"and age is\",age , sep =',')\n",
        "print(\"my name is\",name,\"and age is\",age , sep ='   ')"
      ],
      "metadata": {
        "id": "5aBxlHhpur-s",
        "outputId": "e9d4ac38-91bf-4595-a0b2-78200f2be6e3",
        "colab": {
          "base_uri": "https://localhost:8080/"
        }
      },
      "execution_count": 25,
      "outputs": [
        {
          "output_type": "stream",
          "name": "stdout",
          "text": [
            "my name is shivani and age is 23\n",
            "my name is,shivani,and age is,23\n",
            "my name is   shivani   and age is   23\n"
          ]
        }
      ]
    },
    {
      "cell_type": "markdown",
      "source": [
        "## special chars with \\\n"
      ],
      "metadata": {
        "id": "XJNnhsTByPkQ"
      }
    },
    {
      "cell_type": "code",
      "source": [
        "print(\"1hello \\nworld\")\n",
        "print(\"2hello \\tworld\")\n",
        "print(\"3hello \\\\world\")\n",
        "print(\"4hello\\bworld jkl\")\n",
        "print(\"5hello\\rworld jlp\")\n",
        "print(\"6hello\\'s world\")\n",
        "print(\"7hello \\\"s world\")\n",
        "print(\"8hello \\\\'s world\")\n",
        "print(\"9hello \\\\\\\"s world\")\n"
      ],
      "metadata": {
        "id": "v6WkYU0QxfLF",
        "outputId": "033a5c92-1743-4b0c-ba19-1042530ca54b",
        "colab": {
          "base_uri": "https://localhost:8080/"
        }
      },
      "execution_count": 38,
      "outputs": [
        {
          "output_type": "stream",
          "name": "stdout",
          "text": [
            "1hello \n",
            "world\n",
            "2hello \tworld\n",
            "3hello \\world\n",
            "4hello\bworld jkl\n",
            "5hello\rworld jlp\n",
            "6hello's world\n",
            "7hello \"s world\n",
            "8hello \\'s world\n",
            "9hello \"s world\n"
          ]
        }
      ]
    },
    {
      "cell_type": "code",
      "source": [],
      "metadata": {
        "id": "ZwBDitjLyVvW"
      },
      "execution_count": null,
      "outputs": []
    }
  ]
}