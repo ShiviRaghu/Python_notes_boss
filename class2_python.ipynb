{
  "cells": [
    {
      "cell_type": "markdown",
      "metadata": {
        "id": "view-in-github",
        "colab_type": "text"
      },
      "source": [
        "<a href=\"https://colab.research.google.com/github/ShiviRaghu/boss/blob/practice/class2_python.ipynb\" target=\"_parent\"><img src=\"https://colab.research.google.com/assets/colab-badge.svg\" alt=\"Open In Colab\"/></a>"
      ]
    },
    {
      "cell_type": "markdown",
      "metadata": {
        "id": "DVmVcM1LIXDE"
      },
      "source": [
        "# AGENDA\n",
        "1. Variable Case senstivity [clear]\n",
        "2. Reserved words in Python [clear]\n",
        "3. Multi assignment of variables [clear]\n",
        "4. User input [clear]\n",
        "5. type casting | type conversion [Doubt at the end]\n",
        "6. Memory block []\n",
        "7. Operators\n",
        "  - Logical\n",
        "  - Equality\n",
        "  - Comparision\n",
        "  - Arthimatic\n",
        "  - Bitwise [Advance classes]\n",
        "  - Operators for sets and dictionary [Advance classes]\n",
        "\n",
        "8. String methods"
      ]
    },
    {
      "cell_type": "markdown",
      "metadata": {
        "id": "oU8UKhoMJjWG"
      },
      "source": [
        "## Variable Case senstivite\n",
        "case sensitive ten and Ten are different"
      ]
    },
    {
      "cell_type": "code",
      "execution_count": 1,
      "metadata": {
        "colab": {
          "base_uri": "https://localhost:8080/"
        },
        "id": "F5UAg8_XnsrX",
        "outputId": "a519fd07-9930-4e9e-c970-f21af237b0d4"
      },
      "outputs": [
        {
          "output_type": "stream",
          "name": "stdout",
          "text": [
            "20\n",
            "10\n"
          ]
        }
      ],
      "source": [
        "Ten =10\n",
        "ten=20\n",
        "print(ten)\n",
        "print(Ten)"
      ]
    },
    {
      "cell_type": "code",
      "source": [
        "import keyword\n",
        "reserved_words = keyword.kwlist\n",
        "print(reserved_words)"
      ],
      "metadata": {
        "id": "swHOG7EAT8Us",
        "outputId": "31ff828c-2fb6-436a-a9b8-b2f2346d2eff",
        "colab": {
          "base_uri": "https://localhost:8080/"
        }
      },
      "execution_count": 5,
      "outputs": [
        {
          "output_type": "stream",
          "name": "stdout",
          "text": [
            "['False', 'None', 'True', 'and', 'as', 'assert', 'async', 'await', 'break', 'class', 'continue', 'def', 'del', 'elif', 'else', 'except', 'finally', 'for', 'from', 'global', 'if', 'import', 'in', 'is', 'lambda', 'nonlocal', 'not', 'or', 'pass', 'raise', 'return', 'try', 'while', 'with', 'yield']\n"
          ]
        }
      ]
    },
    {
      "cell_type": "markdown",
      "metadata": {
        "id": "AB4pfW1HoReZ"
      },
      "source": [
        "## Reserved words in Python\n",
        "\n",
        "https://docs.python.org/2.5/ref/keywords.html\n",
        "\n",
        "1. We should not use reserved words as variable names\n",
        "2. Also python doesn't restrict the user to use reserved keywords as variable names\n",
        "\n",
        "and       del       from      not       while    \n",
        "as        elif      global    or        with     \n",
        "assert    else      if        pass      yield    \n",
        "break     except    import    print              \n",
        "class     exec      in        raise              \n",
        "continue  finally   is        return             \n",
        " def       for       lambda    try"
      ]
    },
    {
      "cell_type": "code",
      "execution_count": null,
      "metadata": {
        "colab": {
          "base_uri": "https://localhost:8080/"
        },
        "id": "qDOWZ_AzoTzr",
        "outputId": "cbdcf039-5d1e-4466-9617-d10d39a1ebd9"
      },
      "outputs": [
        {
          "data": {
            "text/plain": [
              "str"
            ]
          },
          "execution_count": 5,
          "metadata": {},
          "output_type": "execute_result"
        }
      ],
      "source": [
        "print = \"hi\"\n",
        "type(print)\n",
        "##print(print)\n",
        "\n",
        "#print(\"hi\")"
      ]
    },
    {
      "cell_type": "code",
      "execution_count": null,
      "metadata": {
        "id": "ePoJNznGpk-C"
      },
      "outputs": [],
      "source": [
        "del print  ##del --to retrieve print or use restart"
      ]
    },
    {
      "cell_type": "markdown",
      "metadata": {
        "id": "FysUNLavp1gN"
      },
      "source": [
        "## Multi assignment of variables"
      ]
    },
    {
      "cell_type": "code",
      "execution_count": 7,
      "metadata": {
        "colab": {
          "base_uri": "https://localhost:8080/",
          "height": 176
        },
        "id": "tH7bMF0Zp92X",
        "outputId": "5c626452-819b-4dab-928e-45bc95e2a62a"
      },
      "outputs": [
        {
          "output_type": "error",
          "ename": "ValueError",
          "evalue": "not enough values to unpack (expected 4, got 3)",
          "traceback": [
            "\u001b[0;31m---------------------------------------------------------------------------\u001b[0m",
            "\u001b[0;31mValueError\u001b[0m                                Traceback (most recent call last)",
            "\u001b[0;32m<ipython-input-7-cac805f59a5a>\u001b[0m in \u001b[0;36m<cell line: 1>\u001b[0;34m()\u001b[0m\n\u001b[0;32m----> 1\u001b[0;31m \u001b[0ma\u001b[0m\u001b[0;34m,\u001b[0m\u001b[0mb\u001b[0m\u001b[0;34m,\u001b[0m\u001b[0mc\u001b[0m\u001b[0;34m,\u001b[0m\u001b[0md\u001b[0m \u001b[0;34m=\u001b[0m \u001b[0;34m's'\u001b[0m\u001b[0;34m,\u001b[0m\u001b[0;36m12.3\u001b[0m\u001b[0;34m,\u001b[0m\u001b[0;34m\"adsd\"\u001b[0m\u001b[0;34m\u001b[0m\u001b[0;34m\u001b[0m\u001b[0m\n\u001b[0m\u001b[1;32m      2\u001b[0m \u001b[0mprint\u001b[0m\u001b[0;34m(\u001b[0m\u001b[0mtype\u001b[0m \u001b[0;34m(\u001b[0m\u001b[0ma\u001b[0m\u001b[0;34m)\u001b[0m\u001b[0;34m)\u001b[0m\u001b[0;34m\u001b[0m\u001b[0;34m\u001b[0m\u001b[0m\n\u001b[1;32m      3\u001b[0m \u001b[0mprint\u001b[0m\u001b[0;34m(\u001b[0m\u001b[0mtype\u001b[0m\u001b[0;34m(\u001b[0m\u001b[0md\u001b[0m\u001b[0;34m)\u001b[0m\u001b[0;34m)\u001b[0m\u001b[0;34m\u001b[0m\u001b[0;34m\u001b[0m\u001b[0m\n",
            "\u001b[0;31mValueError\u001b[0m: not enough values to unpack (expected 4, got 3)"
          ]
        }
      ],
      "source": [
        "a,b,c,d = 's',12.3,\"adsd\"\n",
        "print(type (a))\n",
        "print(type(d))"
      ]
    },
    {
      "cell_type": "code",
      "source": [
        "a,b,c,d = 's',12.3,\"adsd\",-233\n",
        "print(type (a))\n",
        "print(type(d))"
      ],
      "metadata": {
        "id": "2FZI3oW8UZ17",
        "outputId": "2e324fbd-d73a-478d-f7e3-2346b750ac57",
        "colab": {
          "base_uri": "https://localhost:8080/"
        }
      },
      "execution_count": 8,
      "outputs": [
        {
          "output_type": "stream",
          "name": "stdout",
          "text": [
            "<class 'str'>\n",
            "<class 'int'>\n"
          ]
        }
      ]
    },
    {
      "cell_type": "code",
      "execution_count": null,
      "metadata": {
        "colab": {
          "base_uri": "https://localhost:8080/"
        },
        "id": "Jt-oLqYcqWbA",
        "outputId": "fa7268e3-db55-450a-ee0e-98586a1746f7"
      },
      "outputs": [
        {
          "data": {
            "text/plain": [
              "float"
            ]
          },
          "execution_count": 22,
          "metadata": {},
          "output_type": "execute_result"
        }
      ],
      "source": [
        "type(b)"
      ]
    },
    {
      "cell_type": "code",
      "execution_count": null,
      "metadata": {
        "colab": {
          "base_uri": "https://localhost:8080/"
        },
        "id": "Bo5ZVc4Gqweh",
        "outputId": "8650a8a0-9cab-44cd-bdbb-803de1f84874"
      },
      "outputs": [
        {
          "data": {
            "text/plain": [
              "str"
            ]
          },
          "execution_count": 23,
          "metadata": {},
          "output_type": "execute_result"
        }
      ],
      "source": [
        "type(c)"
      ]
    },
    {
      "cell_type": "code",
      "execution_count": null,
      "metadata": {
        "colab": {
          "base_uri": "https://localhost:8080/"
        },
        "id": "cFWrH-iTqy1t",
        "outputId": "a8b05f34-2005-40e6-9af5-9af319cc5285"
      },
      "outputs": [
        {
          "name": "stdout",
          "output_type": "stream",
          "text": [
            "10 12.3 adsd True\n"
          ]
        }
      ],
      "source": [
        "print(a,b,c,d)"
      ]
    },
    {
      "cell_type": "code",
      "execution_count": null,
      "metadata": {
        "colab": {
          "base_uri": "https://localhost:8080/"
        },
        "id": "QRiQ5KWGrAf8",
        "outputId": "ad7e9643-9803-455e-d317-e9a8f6d2eada"
      },
      "outputs": [
        {
          "data": {
            "text/plain": [
              "(1312, 1312, 1312)"
            ]
          },
          "execution_count": 25,
          "metadata": {},
          "output_type": "execute_result"
        }
      ],
      "source": [
        "a=b=c=1312\n",
        "a,b,c"
      ]
    },
    {
      "cell_type": "code",
      "source": [
        "name,age,sex = 'shibi',23,'f'\n",
        "print(f\"\"\"my name is {name} and\n",
        "my age is {age} and\n",
        "my gender is {sex}\"\"\")"
      ],
      "metadata": {
        "id": "9h7w3-EYUhlA",
        "outputId": "3ddd1663-2443-4f47-d41d-dab25b58b271",
        "colab": {
          "base_uri": "https://localhost:8080/"
        }
      },
      "execution_count": 12,
      "outputs": [
        {
          "output_type": "stream",
          "name": "stdout",
          "text": [
            "my name is shibi and\n",
            "my age is 23 and\n",
            "my gender is f\n"
          ]
        }
      ]
    },
    {
      "cell_type": "code",
      "execution_count": 10,
      "metadata": {
        "colab": {
          "base_uri": "https://localhost:8080/"
        },
        "id": "zxqYQX4l91kB",
        "outputId": "e7047bc3-801c-45f6-a914-839483c7be71"
      },
      "outputs": [
        {
          "output_type": "stream",
          "name": "stdout",
          "text": [
            "my name is abha\n",
            "my age is 12\n",
            "my city is agra\n"
          ]
        }
      ],
      "source": [
        "name,city,age =\"abha\",\"agra\",12\n",
        "print(f\"\"\"my name is {name}\n",
        "my age is {age}\n",
        "my city is {city}\"\"\")"
      ]
    },
    {
      "cell_type": "code",
      "execution_count": null,
      "metadata": {
        "colab": {
          "base_uri": "https://localhost:8080/"
        },
        "id": "tMINwo4_SmG3",
        "outputId": "673f5973-fd60-462d-d141-adb91e827641"
      },
      "outputs": [
        {
          "output_type": "stream",
          "name": "stdout",
          "text": [
            "class name is python\n",
            "and date is 23\n"
          ]
        }
      ],
      "source": [
        "class_name,date = \"python\",23\n",
        "print(f\"\"\"class name is {class_name}\n",
        "and date is {date}\"\"\")"
      ]
    },
    {
      "cell_type": "code",
      "execution_count": 13,
      "metadata": {
        "colab": {
          "base_uri": "https://localhost:8080/"
        },
        "id": "YQyfVX68wcx4",
        "outputId": "b086b93c-987e-47c3-a47d-8285b7642193"
      },
      "outputs": [
        {
          "output_type": "stream",
          "name": "stdout",
          "text": [
            "\n",
            "today's date is 23\n",
            "today's  month is 12\n",
            "today's  year is 2023\n",
            "\n"
          ]
        }
      ],
      "source": [
        "date,month,year = 23,12,2023\n",
        "print(f\"\"\"\n",
        "today's date is {date}\n",
        "today's  month is {month}\n",
        "today's  year is {year}\n",
        "\"\"\")"
      ]
    },
    {
      "cell_type": "code",
      "execution_count": null,
      "metadata": {
        "colab": {
          "base_uri": "https://localhost:8080/"
        },
        "id": "UK78xAXs-w9N",
        "outputId": "afd6571d-6920-4ce6-81bc-4797463ce6d7"
      },
      "outputs": [
        {
          "name": "stdout",
          "output_type": "stream",
          "text": [
            "name : 124\n",
            "my name is 124\n",
            "my age is 12\n",
            "my city is agra\n"
          ]
        }
      ],
      "source": [
        "name,city,age =input(\"name : \"),\"agra\",12\n",
        "print(f\"\"\"my name is {name}\n",
        "my age is {age}\n",
        "my city is {city}\"\"\")"
      ]
    },
    {
      "cell_type": "code",
      "execution_count": 14,
      "metadata": {
        "colab": {
          "base_uri": "https://localhost:8080/"
        },
        "id": "WzOMXCwZ_c8N",
        "outputId": "b0fdc44b-3d5e-4378-cc1b-62c492ad694f"
      },
      "outputs": [
        {
          "output_type": "stream",
          "name": "stdout",
          "text": [
            "12\n",
            "12\n"
          ]
        }
      ],
      "source": [
        "a,a =10,12\n",
        "print(a)\n",
        "print(a)"
      ]
    },
    {
      "cell_type": "markdown",
      "metadata": {
        "id": "hTQU39nbrXdS"
      },
      "source": [
        "## User input\n",
        "\n",
        "user takes in form of string therefore we need to convert to int etc"
      ]
    },
    {
      "cell_type": "code",
      "execution_count": 15,
      "metadata": {
        "id": "HpETUdhWrcNk",
        "colab": {
          "base_uri": "https://localhost:8080/"
        },
        "outputId": "1dce6529-73a9-43b6-bced-a1bdc850ec4c"
      },
      "outputs": [
        {
          "output_type": "stream",
          "name": "stdout",
          "text": [
            "enter today's date : 2024-12-11\n",
            "todays day : wed\n",
            "today's date is 2024-12-11 and day is wed\n"
          ]
        }
      ],
      "source": [
        "date = input(\"enter today's date : \")\n",
        "day = input(\"todays day : \")\n",
        "print(f\"today's date is {date} and day is {day}\")"
      ]
    },
    {
      "cell_type": "code",
      "execution_count": null,
      "metadata": {
        "id": "EtWNoDvYT_ne",
        "colab": {
          "base_uri": "https://localhost:8080/"
        },
        "outputId": "19b3bfff-0528-4c62-8b70-7df3835b780c"
      },
      "outputs": [
        {
          "output_type": "stream",
          "name": "stdout",
          "text": [
            " value of a = 233\n",
            "value of b = shj\n",
            "sum of a + b = 233shj\n",
            "<class 'str'> <class 'str'>\n"
          ]
        }
      ],
      "source": [
        "a ,b = input(\" value of a = \") , input(\"value of b = \")\n",
        "print(f\"sum of a + b = {a + b}\")\n",
        "print(type(a),type(b))\n"
      ]
    },
    {
      "cell_type": "code",
      "source": [
        "name,offc,age = input(\"enter ur name : \"),input(\"enter ur ofc address : \"),input(\"enter ur age : \")\n",
        "print (f\"\"\"my name is {name}\n",
        "my ofc address is {offc}\n",
        "my age is {age}\"\"\")\n"
      ],
      "metadata": {
        "id": "cA12EBH9Y1VU",
        "outputId": "4221614b-a3b9-4a25-bfd7-db877d16a8b7",
        "colab": {
          "base_uri": "https://localhost:8080/"
        }
      },
      "execution_count": 19,
      "outputs": [
        {
          "output_type": "stream",
          "name": "stdout",
          "text": [
            "enter ur name : iok90\n",
            "enter ur ofc address : 98^&(\n",
            "enter ur age : 90opl;[]\n",
            "my name is iok90\n",
            "my ofc address is 98^&(\n",
            "my age is 90opl;[]\n"
          ]
        }
      ]
    },
    {
      "cell_type": "markdown",
      "metadata": {
        "id": "5KhikjTOsvoz"
      },
      "source": [
        "## Explicit casting |type casting | type conversion"
      ]
    },
    {
      "cell_type": "code",
      "execution_count": 23,
      "metadata": {
        "id": "b4VPkXcgs0MP",
        "colab": {
          "base_uri": "https://localhost:8080/",
          "height": 228
        },
        "outputId": "bd32a1af-ef64-4fc1-fcbb-3922f38709aa"
      },
      "outputs": [
        {
          "name": "stdout",
          "output_type": "stream",
          "text": [
            "enter num a 10\n",
            "enter num b 10.00\n"
          ]
        },
        {
          "output_type": "error",
          "ename": "ValueError",
          "evalue": "invalid literal for int() with base 10: '10.00'",
          "traceback": [
            "\u001b[0;31m---------------------------------------------------------------------------\u001b[0m",
            "\u001b[0;31mValueError\u001b[0m                                Traceback (most recent call last)",
            "\u001b[0;32m<ipython-input-23-009b8aa85c7c>\u001b[0m in \u001b[0;36m<cell line: 2>\u001b[0;34m()\u001b[0m\n\u001b[1;32m      1\u001b[0m \u001b[0ma\u001b[0m \u001b[0;34m=\u001b[0m \u001b[0mint\u001b[0m\u001b[0;34m(\u001b[0m\u001b[0minput\u001b[0m \u001b[0;34m(\u001b[0m\u001b[0;34m\"enter num a \"\u001b[0m\u001b[0;34m)\u001b[0m\u001b[0;34m)\u001b[0m\u001b[0;34m\u001b[0m\u001b[0;34m\u001b[0m\u001b[0m\n\u001b[0;32m----> 2\u001b[0;31m \u001b[0mb\u001b[0m \u001b[0;34m=\u001b[0m \u001b[0mint\u001b[0m\u001b[0;34m(\u001b[0m\u001b[0minput\u001b[0m\u001b[0;34m(\u001b[0m\u001b[0;34m\"enter num b \"\u001b[0m\u001b[0;34m)\u001b[0m\u001b[0;34m)\u001b[0m\u001b[0;34m\u001b[0m\u001b[0;34m\u001b[0m\u001b[0m\n\u001b[0m\u001b[1;32m      3\u001b[0m \u001b[0mprint\u001b[0m\u001b[0;34m(\u001b[0m\u001b[0mtype\u001b[0m\u001b[0;34m(\u001b[0m\u001b[0ma\u001b[0m\u001b[0;34m)\u001b[0m\u001b[0;34m,\u001b[0m\u001b[0mtype\u001b[0m\u001b[0;34m(\u001b[0m\u001b[0mb\u001b[0m\u001b[0;34m)\u001b[0m\u001b[0;34m)\u001b[0m\u001b[0;34m\u001b[0m\u001b[0;34m\u001b[0m\u001b[0m\n\u001b[1;32m      4\u001b[0m \u001b[0mprint\u001b[0m \u001b[0;34m(\u001b[0m\u001b[0;34mf\"sum of num is {a+b}\"\u001b[0m\u001b[0;34m)\u001b[0m\u001b[0;34m\u001b[0m\u001b[0;34m\u001b[0m\u001b[0m\n",
            "\u001b[0;31mValueError\u001b[0m: invalid literal for int() with base 10: '10.00'"
          ]
        }
      ],
      "source": [
        "a = int(input (\"enter num a \"))\n",
        "b = int(input(\"enter num b \"))\n",
        "print(type(a),type(b))\n",
        "print (f\"sum of num is {a+b}\")"
      ]
    },
    {
      "cell_type": "code",
      "source": [
        "a = int(input(\"enter value of \"))\n",
        "type(a)"
      ],
      "metadata": {
        "colab": {
          "base_uri": "https://localhost:8080/"
        },
        "id": "cbWgOwgvTKsk",
        "outputId": "484bd53d-f1f0-46bc-ba62-6dbaf47fd2e6"
      },
      "execution_count": 27,
      "outputs": [
        {
          "name": "stdout",
          "output_type": "stream",
          "text": [
            "enter value of 00\n"
          ]
        },
        {
          "output_type": "execute_result",
          "data": {
            "text/plain": [
              "int"
            ]
          },
          "metadata": {},
          "execution_count": 27
        }
      ]
    },
    {
      "cell_type": "code",
      "execution_count": 28,
      "metadata": {
        "colab": {
          "base_uri": "https://localhost:8080/"
        },
        "id": "I5DmBcOQtKRo",
        "outputId": "1ef9e164-a3e8-472a-c724-2d23070f30ef"
      },
      "outputs": [
        {
          "output_type": "stream",
          "name": "stdout",
          "text": [
            "enter num a 10.00\n",
            "enter num b 90\n",
            "<class 'float'> <class 'int'>\n",
            "sum of num is 100.0\n"
          ]
        }
      ],
      "source": [
        "a = float(input (\"enter num a \"))\n",
        "b = int(input(\"enter num b \"))\n",
        "print(type(a),type(b))\n",
        "print (f\"sum of num is {a+b}\")"
      ]
    },
    {
      "cell_type": "code",
      "execution_count": 30,
      "metadata": {
        "colab": {
          "base_uri": "https://localhost:8080/"
        },
        "id": "zvxgGhs4WUm8",
        "outputId": "6a19f45a-ca0a-4620-9f37-21a667d65151"
      },
      "outputs": [
        {
          "output_type": "stream",
          "name": "stdout",
          "text": [
            "enter value of a = 1\n",
            "enter value of b = 2\n",
            "sum of a + b = 3\n"
          ]
        }
      ],
      "source": [
        "a = int(input(\"enter value of a = \"))\n",
        "b = int(input (\"enter value of b = \"))\n",
        "print(f\"sum of a + b = {a+b}\")"
      ]
    },
    {
      "cell_type": "markdown",
      "source": [
        "### String ----> to integer, float====only numbers\n"
      ],
      "metadata": {
        "id": "-gZF6am4d62J"
      }
    },
    {
      "cell_type": "code",
      "execution_count": null,
      "metadata": {
        "colab": {
          "base_uri": "https://localhost:8080/"
        },
        "id": "yTf9nMTXtSH4",
        "outputId": "51d6e6c8-7fc6-45cb-ea1f-d0a4ad9c1a7c"
      },
      "outputs": [
        {
          "name": "stdout",
          "output_type": "stream",
          "text": [
            "data type before: <class 'str'>, value of A: 100\n",
            "data type after: <class 'int'>, value of A: 100\n"
          ]
        }
      ],
      "source": [
        "### String ----> to integer====only numbers\n",
        "A = \"100\"\n",
        "print(f\"data type before: {type(A)}, value of A: {A}\")\n",
        "A = int(A)\n",
        "print(f\"data type after: {type(A)}, value of A: {A}\")"
      ]
    },
    {
      "cell_type": "code",
      "execution_count": null,
      "metadata": {
        "colab": {
          "base_uri": "https://localhost:8080/",
          "height": 245
        },
        "id": "Eg7hhy4_w5lc",
        "outputId": "de65e2c3-c077-472b-ba56-fa0b90c0da2c"
      },
      "outputs": [
        {
          "name": "stdout",
          "output_type": "stream",
          "text": [
            "data type before: <class 'str'>, value of A: abc\n"
          ]
        },
        {
          "ename": "ValueError",
          "evalue": "ignored",
          "output_type": "error",
          "traceback": [
            "\u001b[0;31m---------------------------------------------------------------------------\u001b[0m",
            "\u001b[0;31mValueError\u001b[0m                                Traceback (most recent call last)",
            "\u001b[0;32m<ipython-input-13-f935f93588e0>\u001b[0m in \u001b[0;36m<cell line: 4>\u001b[0;34m()\u001b[0m\n\u001b[1;32m      2\u001b[0m \u001b[0mA\u001b[0m \u001b[0;34m=\u001b[0m \u001b[0;34m\"abc\"\u001b[0m\u001b[0;34m\u001b[0m\u001b[0;34m\u001b[0m\u001b[0m\n\u001b[1;32m      3\u001b[0m \u001b[0mprint\u001b[0m\u001b[0;34m(\u001b[0m\u001b[0;34mf\"data type before: {type(A)}, value of A: {A}\"\u001b[0m\u001b[0;34m)\u001b[0m\u001b[0;34m\u001b[0m\u001b[0;34m\u001b[0m\u001b[0m\n\u001b[0;32m----> 4\u001b[0;31m \u001b[0mA\u001b[0m \u001b[0;34m=\u001b[0m \u001b[0mint\u001b[0m\u001b[0;34m(\u001b[0m\u001b[0mA\u001b[0m\u001b[0;34m)\u001b[0m\u001b[0;34m\u001b[0m\u001b[0;34m\u001b[0m\u001b[0m\n\u001b[0m\u001b[1;32m      5\u001b[0m \u001b[0mprint\u001b[0m\u001b[0;34m(\u001b[0m\u001b[0;34mf\"data type after: {type(A)}, value of A: {A}\"\u001b[0m\u001b[0;34m)\u001b[0m\u001b[0;34m\u001b[0m\u001b[0;34m\u001b[0m\u001b[0m\n",
            "\u001b[0;31mValueError\u001b[0m: invalid literal for int() with base 10: 'abc'"
          ]
        }
      ],
      "source": [
        "### String ----> to integer\n",
        "A = \"abc\"\n",
        "print(f\"data type before: {type(A)}, value of A: {A}\")\n",
        "A = int(A)\n",
        "print(f\"data type after: {type(A)}, value of A: {A}\")"
      ]
    },
    {
      "cell_type": "code",
      "execution_count": 33,
      "metadata": {
        "colab": {
          "base_uri": "https://localhost:8080/",
          "height": 211
        },
        "id": "uLle7wwbuhKo",
        "outputId": "8c3b8a94-174f-4a98-ac07-24635be04220"
      },
      "outputs": [
        {
          "output_type": "stream",
          "name": "stdout",
          "text": [
            "data type before: <class 'str'>, value of A: 50.23\n"
          ]
        },
        {
          "output_type": "error",
          "ename": "ValueError",
          "evalue": "invalid literal for int() with base 10: '50.23'",
          "traceback": [
            "\u001b[0;31m---------------------------------------------------------------------------\u001b[0m",
            "\u001b[0;31mValueError\u001b[0m                                Traceback (most recent call last)",
            "\u001b[0;32m<ipython-input-33-c09e096ae3ee>\u001b[0m in \u001b[0;36m<cell line: 4>\u001b[0;34m()\u001b[0m\n\u001b[1;32m      2\u001b[0m \u001b[0mA\u001b[0m \u001b[0;34m=\u001b[0m \u001b[0;34m\"50.23\"\u001b[0m\u001b[0;34m\u001b[0m\u001b[0;34m\u001b[0m\u001b[0m\n\u001b[1;32m      3\u001b[0m \u001b[0mprint\u001b[0m\u001b[0;34m(\u001b[0m\u001b[0;34mf\"data type before: {type(A)}, value of A: {A}\"\u001b[0m\u001b[0;34m)\u001b[0m\u001b[0;34m\u001b[0m\u001b[0;34m\u001b[0m\u001b[0m\n\u001b[0;32m----> 4\u001b[0;31m \u001b[0mA\u001b[0m \u001b[0;34m=\u001b[0m \u001b[0mint\u001b[0m\u001b[0;34m(\u001b[0m\u001b[0mA\u001b[0m\u001b[0;34m)\u001b[0m\u001b[0;34m\u001b[0m\u001b[0;34m\u001b[0m\u001b[0m\n\u001b[0m\u001b[1;32m      5\u001b[0m \u001b[0mprint\u001b[0m\u001b[0;34m(\u001b[0m\u001b[0;34mf\"data type after: {type(A)}, value of A: {A}\"\u001b[0m\u001b[0;34m)\u001b[0m\u001b[0;34m\u001b[0m\u001b[0;34m\u001b[0m\u001b[0m\n",
            "\u001b[0;31mValueError\u001b[0m: invalid literal for int() with base 10: '50.23'"
          ]
        }
      ],
      "source": [
        "# String==in form of float to integer=====not possible\n",
        "A = \"50.23\"\n",
        "print(f\"data type before: {type(A)}, value of A: {A}\")\n",
        "A = int(A)\n",
        "print(f\"data type after: {type(A)}, value of A: {A}\")"
      ]
    },
    {
      "cell_type": "markdown",
      "source": [
        "### Float to integer\n",
        "### integer to float\n",
        "### integer/float to boolean\n",
        "###integer to boolean===for zero value will give you false\n",
        "###empty String to boolean=====false value"
      ],
      "metadata": {
        "id": "NfYxDt7WeLxQ"
      }
    },
    {
      "cell_type": "code",
      "execution_count": 34,
      "metadata": {
        "colab": {
          "base_uri": "https://localhost:8080/"
        },
        "id": "nY3gj1fJuqAD",
        "outputId": "3e1c20e4-2c26-4afc-97d7-7041beb543d0"
      },
      "outputs": [
        {
          "output_type": "stream",
          "name": "stdout",
          "text": [
            "data type before <class 'float'>, value of a : 13.34234 \n",
            "data type after: <class 'int'>, value of A: 13\n"
          ]
        }
      ],
      "source": [
        "# Float to integer\n",
        "A = 13.34234\n",
        "print(f\"data type before {type(A)}, value of a : {A} \")\n",
        "A = int(A)\n",
        "print(f\"data type after: {type(A)}, value of A: {A}\")"
      ]
    },
    {
      "cell_type": "code",
      "execution_count": 35,
      "metadata": {
        "colab": {
          "base_uri": "https://localhost:8080/"
        },
        "id": "Wou0sGKpu8KU",
        "outputId": "e250e0a1-c857-4a3d-e9ce-b4d7477507af"
      },
      "outputs": [
        {
          "output_type": "stream",
          "name": "stdout",
          "text": [
            "data type before: <class 'int'>, value of A: 50\n",
            "data type after: <class 'float'>, value of A: 50.0\n"
          ]
        }
      ],
      "source": [
        "# integer to float\n",
        "A = 50\n",
        "print(f\"data type before: {type(A)}, value of A: {A}\")\n",
        "A = float(A)\n",
        "print(f\"data type after: {type(A)}, value of A: {A}\")"
      ]
    },
    {
      "cell_type": "code",
      "execution_count": 37,
      "metadata": {
        "colab": {
          "base_uri": "https://localhost:8080/"
        },
        "id": "voAv0utevX24",
        "outputId": "af524b66-bbcd-4f31-f6e2-5654c236baec"
      },
      "outputs": [
        {
          "output_type": "stream",
          "name": "stdout",
          "text": [
            "data type before: <class 'float'>, value of A: 50.9\n",
            "data type after: <class 'bool'>, value of A: True\n"
          ]
        }
      ],
      "source": [
        "# integer to boolean\n",
        "A = 50.90\n",
        "print(f\"data type before: {type(A)}, value of A: {A}\")\n",
        "A = bool(A)\n",
        "print(f\"data type after: {type(A)}, value of A: {A}\")"
      ]
    },
    {
      "cell_type": "code",
      "execution_count": 38,
      "metadata": {
        "colab": {
          "base_uri": "https://localhost:8080/"
        },
        "id": "fNLtZ5Savh3t",
        "outputId": "293a6a75-4266-4a96-d460-a189022e134f"
      },
      "outputs": [
        {
          "output_type": "stream",
          "name": "stdout",
          "text": [
            "data type before: <class 'float'>, value of A: 0.0\n",
            "data type after: <class 'bool'>, value of A: False\n"
          ]
        }
      ],
      "source": [
        "##integer to boolean===for zero value will give you false\n",
        "A = 0.00\n",
        "print(f\"data type before: {type(A)}, value of A: {A}\")\n",
        "A = bool(A)\n",
        "print(f\"data type after: {type(A)}, value of A: {A}\")"
      ]
    },
    {
      "cell_type": "code",
      "execution_count": 39,
      "metadata": {
        "colab": {
          "base_uri": "https://localhost:8080/"
        },
        "id": "XFA_qGhAvqR3",
        "outputId": "855883ff-6cdd-4436-e134-88d8cb102869"
      },
      "outputs": [
        {
          "output_type": "stream",
          "name": "stdout",
          "text": [
            "data type before: <class 'int'>, value of A: -7890\n",
            "data type after: <class 'bool'>, value of A: True\n"
          ]
        }
      ],
      "source": [
        "##integer to boolean\n",
        "A = -7890\n",
        "print(f\"data type before: {type(A)}, value of A: {A}\")\n",
        "A = bool(A)\n",
        "print(f\"data type after: {type(A)}, value of A: {A}\")"
      ]
    },
    {
      "cell_type": "code",
      "execution_count": 40,
      "metadata": {
        "colab": {
          "base_uri": "https://localhost:8080/"
        },
        "id": "y9NlAcgnvzCK",
        "outputId": "5eba095a-5d42-4317-9820-3b2d0348e660"
      },
      "outputs": [
        {
          "output_type": "stream",
          "name": "stdout",
          "text": [
            "data type before: <class 'str'>, value of A: ada\n",
            "data type after: <class 'bool'>, value of A: True\n"
          ]
        }
      ],
      "source": [
        "##String to boolean\n",
        "A = \"ada\"\n",
        "print(f\"data type before: {type(A)}, value of A: {A}\")\n",
        "A = bool(A)\n",
        "print(f\"data type after: {type(A)}, value of A: {A}\")"
      ]
    },
    {
      "cell_type": "code",
      "execution_count": 41,
      "metadata": {
        "colab": {
          "base_uri": "https://localhost:8080/"
        },
        "id": "ZgLACavlv5_I",
        "outputId": "a2120281-1a8e-4a42-9703-e1d75256fd05"
      },
      "outputs": [
        {
          "output_type": "stream",
          "name": "stdout",
          "text": [
            "data type before: <class 'str'>, value of A: True\n",
            "data type after: <class 'bool'>, value of A: True\n"
          ]
        }
      ],
      "source": [
        "##String to boolean\n",
        "A = \"True\"\n",
        "print(f\"data type before: {type(A)}, value of A: {A}\")\n",
        "A = bool(A)\n",
        "print(f\"data type after: {type(A)}, value of A: {A}\")"
      ]
    },
    {
      "cell_type": "code",
      "execution_count": 42,
      "metadata": {
        "colab": {
          "base_uri": "https://localhost:8080/"
        },
        "id": "pggZzrQOv-6S",
        "outputId": "aadb1dae-2540-472e-85d1-de4e509237fd"
      },
      "outputs": [
        {
          "output_type": "stream",
          "name": "stdout",
          "text": [
            "data type before: <class 'str'>, value of A: 123\n",
            "data type after: <class 'bool'>, value of A: True\n"
          ]
        }
      ],
      "source": [
        "##String to boolean\n",
        "A = \"123\"\n",
        "print(f\"data type before: {type(A)}, value of A: {A}\")\n",
        "A = bool(A)\n",
        "print(f\"data type after: {type(A)}, value of A: {A}\")"
      ]
    },
    {
      "cell_type": "code",
      "execution_count": 44,
      "metadata": {
        "colab": {
          "base_uri": "https://localhost:8080/"
        },
        "id": "5j-LRcqgwHlY",
        "outputId": "78aa8f0f-3c91-46d2-cc6b-82104e8ef040"
      },
      "outputs": [
        {
          "output_type": "stream",
          "name": "stdout",
          "text": [
            "data type before: <class 'str'>, value of A: \n",
            "data type after: <class 'bool'>, value of A: False\n"
          ]
        }
      ],
      "source": [
        "##empty String to boolean=====false value\n",
        "A = \"\"\n",
        "print(f\"data type before: {type(A)}, value of A: {A}\")\n",
        "A = bool(A)\n",
        "print(f\"data type after: {type(A)}, value of A: {A}\")"
      ]
    },
    {
      "cell_type": "code",
      "source": [
        "##empty String to int=====false value\n",
        "A = \"\"\n",
        "print(f\"data type before: {type(A)}, value of A: {A}\")\n",
        "A = int(A)\n",
        "print(f\"data type after: {type(A)}, value of A: {A}\")"
      ],
      "metadata": {
        "id": "k9W1FIR5U7KO"
      },
      "execution_count": null,
      "outputs": []
    },
    {
      "cell_type": "markdown",
      "metadata": {
        "id": "xrqTS6HZwhKe"
      },
      "source": [
        "NOTE: Converting any non zero number and string values into boolean will give True as an answer\n",
        "\n",
        "NOTE: Empty string \"\" and 00 int will give False as an answer after converting from string to boolean"
      ]
    },
    {
      "cell_type": "markdown",
      "source": [
        "# ##float to int"
      ],
      "metadata": {
        "id": "DeCyf32yfpTc"
      }
    },
    {
      "cell_type": "code",
      "execution_count": 45,
      "metadata": {
        "colab": {
          "base_uri": "https://localhost:8080/"
        },
        "id": "RL1pjQHCwo--",
        "outputId": "0de1435f-e932-4f3b-c799-9d9057238487"
      },
      "outputs": [
        {
          "output_type": "stream",
          "name": "stdout",
          "text": [
            "data type before: <class 'float'>, value of A: 1.234\n",
            "data type after: <class 'int'>, value of A: 1\n"
          ]
        }
      ],
      "source": [
        "##float to int\n",
        "A = 1.234\n",
        "print(f\"data type before: {type(A)}, value of A: {A}\")\n",
        "A = int(A)\n",
        "print(f\"data type after: {type(A)}, value of A: {A}\")"
      ]
    },
    {
      "cell_type": "code",
      "execution_count": null,
      "metadata": {
        "colab": {
          "base_uri": "https://localhost:8080/"
        },
        "id": "zp-IaNohwyvv",
        "outputId": "24ca432b-2287-4653-e6ba-651cdae5fdaa"
      },
      "outputs": [
        {
          "name": "stdout",
          "output_type": "stream",
          "text": [
            "name : shi\n",
            "city: sfsd\n",
            "dob: 1997\n",
            "my name is shi\n",
            "my city is 26\n",
            "my age is sfsd\n",
            "my current age is : 26 \n"
          ]
        }
      ],
      "source": [
        "name,city,dob =input(\"name : \"),input(\"city: \"),input(\"dob: \")\n",
        "age = 2023 - int(dob)\n",
        "print(f\"\"\"my name is {name}\n",
        "my city is {age}\n",
        "my age is {city}\n",
        "my current age is : {age} \"\"\")"
      ]
    },
    {
      "cell_type": "code",
      "execution_count": null,
      "metadata": {
        "colab": {
          "base_uri": "https://localhost:8080/"
        },
        "id": "daZcrSxmXTR6",
        "outputId": "0afe224a-0a3d-4626-a5f7-eec6431dd969"
      },
      "outputs": [
        {
          "name": "stdout",
          "output_type": "stream",
          "text": [
            "value of a = 12\n",
            "value of b = 123\n",
            "sum a + b =  135\n"
          ]
        }
      ],
      "source": [
        "a = input(\"value of a = \")\n",
        "b = input (\"value of b = \")\n",
        "print(f\"sum a + b =  {int(a) + int (b)}\" )"
      ]
    },
    {
      "cell_type": "markdown",
      "metadata": {
        "id": "-YjiSkuFpRGN"
      },
      "source": [
        "## memory block"
      ]
    },
    {
      "cell_type": "code",
      "execution_count": null,
      "metadata": {
        "colab": {
          "base_uri": "https://localhost:8080/"
        },
        "id": "4DH_aab0BMUU",
        "outputId": "5aa381df-0615-4d95-f4f0-6a40e0db4083"
      },
      "outputs": [
        {
          "name": "stdout",
          "output_type": "stream",
          "text": [
            "140209328309168\n",
            "140208900116400\n",
            "140209328309168\n"
          ]
        }
      ],
      "source": [
        "a =23\n",
        "b =1324\n",
        "c = 23\n",
        "print(id(a))\n",
        "print(id(b))\n",
        "print(id(c))"
      ]
    },
    {
      "cell_type": "markdown",
      "metadata": {
        "id": "QMH4BvoVqKhI"
      },
      "source": []
    }
  ],
  "metadata": {
    "colab": {
      "provenance": [],
      "include_colab_link": true
    },
    "kernelspec": {
      "display_name": "Python 3",
      "name": "python3"
    },
    "language_info": {
      "name": "python"
    }
  },
  "nbformat": 4,
  "nbformat_minor": 0
}