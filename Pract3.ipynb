{
  "nbformat": 4,
  "nbformat_minor": 0,
  "metadata": {
    "colab": {
      "provenance": [],
      "include_colab_link": true
    },
    "kernelspec": {
      "name": "python3",
      "display_name": "Python 3"
    },
    "language_info": {
      "name": "python"
    }
  },
  "cells": [
    {
      "cell_type": "markdown",
      "metadata": {
        "id": "view-in-github",
        "colab_type": "text"
      },
      "source": [
        "<a href=\"https://colab.research.google.com/github/ShiviRaghu/boss/blob/practice/Pract3.ipynb\" target=\"_parent\"><img src=\"https://colab.research.google.com/assets/colab-badge.svg\" alt=\"Open In Colab\"/></a>"
      ]
    },
    {
      "cell_type": "markdown",
      "source": [
        "# AGENDA\n",
        "0. Glimpse of conditional statements -\n",
        "  - if-else condtions\n",
        "1. Operators\n",
        "  - Logical\n",
        "  - Equality\n",
        "  - Comparision\n",
        "  - Arthimatic\n",
        "  - Bitwise [Advance topics - covering in future classes]\n",
        "  - Operators for sets and dictionary [Advance classes]\n",
        "\n",
        "2. String methods\n",
        "3. Control flow statement [if time permits]"
      ],
      "metadata": {
        "id": "nuwLRdZlDfeA"
      }
    },
    {
      "cell_type": "markdown",
      "source": [
        "## Logical Operators\n",
        "### and,not,or\n",
        "### if else"
      ],
      "metadata": {
        "id": "4KnZ60ISUsmb"
      }
    },
    {
      "cell_type": "code",
      "execution_count": null,
      "metadata": {
        "colab": {
          "base_uri": "https://localhost:8080/"
        },
        "id": "n1Kl_Q0zCpOs",
        "outputId": "8c6cc6b6-6262-4bb5-b8fc-e3391d9efd49"
      },
      "outputs": [
        {
          "output_type": "stream",
          "name": "stdout",
          "text": [
            "home\n",
            "zc\n",
            "always\n"
          ]
        }
      ],
      "source": [
        "##indenation error --allingnment not proper --select then use shift+tab\n",
        "raining = True\n",
        "if raining:\n",
        "  print(\"home\")\n",
        "  print(\"zc\")  ### space = indenatation refers to same as{} ##  that determines the grouping and structure of code blocks,the lines inside the if block are indented, indicating that they are part of the block. The line outside the if block is not indented, showing that it is not part of the block.\n",
        "else:\n",
        "   print(\"office\")\n",
        "print(\"always\") ##outside the if block"
      ]
    },
    {
      "cell_type": "code",
      "execution_count": null,
      "metadata": {
        "colab": {
          "base_uri": "https://localhost:8080/"
        },
        "outputId": "54cd09b1-eced-458f-8b61-16813852e4d9",
        "id": "ij4Yi8x0NLtt"
      },
      "outputs": [
        {
          "output_type": "stream",
          "name": "stdout",
          "text": [
            "office\n",
            "always\n"
          ]
        }
      ],
      "source": [
        "raining = False\n",
        "if not raining:\n",
        "   print(\"office\")    ### space = indenatation refers to same as{} ##  that determines the grouping and structure of code blocks,the lines inside the if block are indented, indicating that they are part of the block. The line outside the if block is not indented, showing that it is not part of the block.\n",
        "else:\n",
        "   print(\"homme\")\n",
        "print(\"always\") ##outside the if block"
      ]
    },
    {
      "cell_type": "code",
      "source": [
        "class_start = True\n",
        "if class_start:\n",
        "  print(\"started\")\n",
        "else:\n",
        "    print(\"revise\")"
      ],
      "metadata": {
        "colab": {
          "base_uri": "https://localhost:8080/"
        },
        "id": "jS4OyXAyNcDD",
        "outputId": "a7535a72-e5b8-4692-ab4c-3cf78696d728"
      },
      "execution_count": null,
      "outputs": [
        {
          "output_type": "stream",
          "name": "stdout",
          "text": [
            "started\n"
          ]
        }
      ]
    },
    {
      "cell_type": "code",
      "source": [
        "a = int(input(\"enter value of a = \"))\n",
        "if a>=0:\n",
        "  print(\"+ve num\")\n",
        "else:\n",
        " print(\"-ve num\")"
      ],
      "metadata": {
        "colab": {
          "base_uri": "https://localhost:8080/"
        },
        "id": "gJWbqxPzxAwU",
        "outputId": "0a35ea3d-8dbc-48d3-9095-810403c64023"
      },
      "execution_count": null,
      "outputs": [
        {
          "output_type": "stream",
          "name": "stdout",
          "text": [
            "enter value of a = 0\n",
            "-ve num\n"
          ]
        }
      ]
    },
    {
      "cell_type": "code",
      "source": [
        "class_started = bool(input(\"hey class is started ? = \"))\n",
        "if class_started:     ##if you dont provide input it will be empty string and o/p will be false\n",
        "  print(\"started\")\n",
        "else:\n",
        "    print(\"revise\")"
      ],
      "metadata": {
        "colab": {
          "base_uri": "https://localhost:8080/"
        },
        "id": "D0XCV_MJQBHD",
        "outputId": "09918f3b-8b50-47e8-ff85-b273d5ff9c44"
      },
      "execution_count": null,
      "outputs": [
        {
          "output_type": "stream",
          "name": "stdout",
          "text": [
            "hey class is started ? = \n",
            "revise\n"
          ]
        }
      ]
    },
    {
      "cell_type": "code",
      "source": [
        "a =int(input(\"value of a \"))\n",
        "b = int(input(\"value of b \"))\n",
        "if a>=0 and b>=0:\n",
        "  print(f\"multiply of {a*b} will be +ve\")\n",
        "else:\n",
        "  print(\"multipl of{a*b} will be -ve\")"
      ],
      "metadata": {
        "colab": {
          "base_uri": "https://localhost:8080/"
        },
        "id": "ZP6QfqZfRPP0",
        "outputId": "12696028-6a29-4339-f78d-c9a4aa935be3"
      },
      "execution_count": null,
      "outputs": [
        {
          "output_type": "stream",
          "name": "stdout",
          "text": [
            "value of a 10\n",
            "value of b 20\n",
            "multiply of 200 will be +ve\n"
          ]
        }
      ]
    },
    {
      "cell_type": "code",
      "source": [
        "a =int(input(\"value of a \"))\n",
        "b = int(input(\"value of b \"))\n",
        "if a<0 or b<0:\n",
        "  print(f\"multiply of {a*b} will be -ve\")\n",
        "else:\n",
        "  print(\"multipl of{a*b} will be +ve\")"
      ],
      "metadata": {
        "id": "Wvl2YatDR8Hc"
      },
      "execution_count": null,
      "outputs": []
    },
    {
      "cell_type": "markdown",
      "source": [
        "### using and or together"
      ],
      "metadata": {
        "id": "lsUvUcxOU09L"
      }
    },
    {
      "cell_type": "code",
      "source": [
        "attendance = 90\n",
        "assignment =70\n",
        "sports = True\n",
        "if attendance>=75 and assignment>=70:\n",
        " if sports:\n",
        "  print(\"exam eligible and grace+10\")\n",
        " else:\n",
        "  print(\"exam  eligible no grace\")\n",
        "else :\n",
        "  print(\"not eligible for exam\")\n"
      ],
      "metadata": {
        "id": "Gdcx_bYET6mD",
        "colab": {
          "base_uri": "https://localhost:8080/"
        },
        "outputId": "ad72ec81-088b-4029-8967-88d5763bd353"
      },
      "execution_count": null,
      "outputs": [
        {
          "output_type": "stream",
          "name": "stdout",
          "text": [
            "exam eligible and grace+10\n"
          ]
        }
      ]
    },
    {
      "cell_type": "code",
      "source": [
        "marks = 30\n",
        "attend=80\n",
        "\n",
        "if marks>55:\n",
        "  if attend >75:\n",
        "    print(\"pass and 1st div\")\n",
        "  else:\n",
        "      print(\"pass but not 1st division\")\n",
        "else:\n",
        "  print(\"fail\")\n",
        "print(\"result not declared\")"
      ],
      "metadata": {
        "colab": {
          "base_uri": "https://localhost:8080/"
        },
        "id": "9Yf5eXz8ykXE",
        "outputId": "2379d851-1df8-47db-a1d1-fdfd552545d2"
      },
      "execution_count": null,
      "outputs": [
        {
          "output_type": "stream",
          "name": "stdout",
          "text": [
            "fail\n",
            "result not declared\n"
          ]
        }
      ]
    },
    {
      "cell_type": "code",
      "source": [
        "attendance = 90\n",
        "assignment =40\n",
        "sports = False\n",
        "if attendance>=75 and assignment>=70:\n",
        " if sports:\n",
        "  print(\"exam eligible and grace+10\")\n",
        " else:\n",
        "  print(\"exam  eligible no grace\")\n",
        "else :\n",
        "  print(\"not eligible for exam\")"
      ],
      "metadata": {
        "colab": {
          "base_uri": "https://localhost:8080/"
        },
        "id": "CwzkD_mAa-oG",
        "outputId": "092d9e56-ae58-4f99-da52-eb5585e15fc4"
      },
      "execution_count": null,
      "outputs": [
        {
          "output_type": "stream",
          "name": "stdout",
          "text": [
            "not eligible for exam\n"
          ]
        }
      ]
    },
    {
      "cell_type": "markdown",
      "source": [
        "## Equality operators\n",
        "\n",
        "Operator | uses | Meaning\n",
        "- | - | -\n",
        "is | A is B=> | return True if A and B points to the same object== same memory\n",
        "is not | A is not B | returns True if A and B do not points to the same object\n",
        "== | A == B | A is equal to B\n",
        "!= | A != B | A is not equal to B\n",
        "\n",
        "When using `is` then we are also comparing memory location\n",
        "When using `is not` then we are also comparing memory location\n",
        "\n",
        "== and != is only checking value of the variables [Used more offently or frequently]\n"
      ],
      "metadata": {
        "id": "rZ8qiUphbefq"
      }
    },
    {
      "cell_type": "code",
      "source": [
        "a =1\n",
        "b = 1\n",
        "print(id(a),id(b))\n",
        "if a is b:\n",
        "  print(\"points to same location\")\n",
        "else:\n",
        "  print(\"points to diff location\")"
      ],
      "metadata": {
        "colab": {
          "base_uri": "https://localhost:8080/"
        },
        "id": "ol8RRpXMbdUX",
        "outputId": "4d3fc16d-fe7d-400c-becb-d8ea3e5f2400"
      },
      "execution_count": null,
      "outputs": [
        {
          "output_type": "stream",
          "name": "stdout",
          "text": [
            "134067314999536 134067314999536\n",
            "points to same location\n"
          ]
        }
      ]
    },
    {
      "cell_type": "code",
      "source": [
        "a =1\n",
        "b =input(\"value of b = \")\n",
        "print(type(b))\n",
        "print(a is b)\n",
        "b =int(input(\"value of b = \"))\n",
        "print(type(a),type(b))\n",
        "print (id(a),id(b))\n",
        "a is b"
      ],
      "metadata": {
        "colab": {
          "base_uri": "https://localhost:8080/"
        },
        "id": "m9xSVFocdtyi",
        "outputId": "074c9392-72b5-4fe2-f7be-c2f4adff97fd"
      },
      "execution_count": null,
      "outputs": [
        {
          "output_type": "stream",
          "name": "stdout",
          "text": [
            "value of b = 1\n",
            "<class 'str'>\n",
            "False\n",
            "value of b = 2\n",
            "<class 'int'> <class 'int'>\n",
            "134067314999536 134067314999568\n"
          ]
        },
        {
          "output_type": "execute_result",
          "data": {
            "text/plain": [
              "False"
            ]
          },
          "metadata": {},
          "execution_count": 28
        }
      ]
    },
    {
      "cell_type": "code",
      "source": [
        "a =1\n",
        "b =1\n",
        "if a == b:\n",
        "  print(\"points to same value\")\n",
        "else:\n",
        "  print(\"points to diff value\")"
      ],
      "metadata": {
        "colab": {
          "base_uri": "https://localhost:8080/"
        },
        "id": "_CSku7SxcuBh",
        "outputId": "91c9f41a-937b-4341-fcb2-5c14c640826b"
      },
      "execution_count": null,
      "outputs": [
        {
          "output_type": "stream",
          "name": "stdout",
          "text": [
            "points to same value\n"
          ]
        }
      ]
    },
    {
      "cell_type": "code",
      "source": [
        "a =[1,2,34]   ###python array is known as list  ##and they have diff location in python\n",
        "b =[1,2,34]\n",
        "print(id(a))\n",
        "print(id(b))\n",
        "print(a is b)\n",
        "a==b"
      ],
      "metadata": {
        "colab": {
          "base_uri": "https://localhost:8080/"
        },
        "id": "4HqGE0iQdKPk",
        "outputId": "811a2da8-5769-45da-8293-586777f215e3"
      },
      "execution_count": null,
      "outputs": [
        {
          "output_type": "stream",
          "name": "stdout",
          "text": [
            "134066030935040\n",
            "134066030913408\n",
            "False\n"
          ]
        },
        {
          "output_type": "execute_result",
          "data": {
            "text/plain": [
              "True"
            ]
          },
          "metadata": {},
          "execution_count": 20
        }
      ]
    },
    {
      "cell_type": "markdown",
      "source": [
        "### Try to understand the following examples and answer the question based on it -\n",
        "    \n",
        "**Arithmatic Operators**\n",
        "\n",
        "|Operation|Meaning|\n",
        "|:-:|:-:|\n",
        "| **+** |addition|\n",
        "| **-** |subtraction|\n",
        "| **\\*** |multiplication|\n",
        "| **/** |true division|\n",
        "| **//** |integer division|\n",
        "| **%** |the modulo operator|\n",
        "\n",
        "\n",
        "Here `+`, `-`, `*`, `/` are regular arithmatic operators. Lets look at the `//` and `%` operators\n",
        "\n",
        "Usecase or examples -\n",
        "    \n",
        "```python\n",
        "var_a = 5\n",
        "var_b = 25\n",
        "integer_division = var_b // var_a\n",
        "print(f\"integer division: {var_b}/{var_a}={integer_division}\")\n",
        "```\n",
        "\n",
        "OUTPUT: integer division: 25/5=5\n",
        "\n",
        "```python\n",
        "var_a = 3\n",
        "var_b = 25\n",
        "integer_division = var_b // var_a\n",
        "print(f\"integer division: {var_b}/{var_a}={integer_division}\")\n",
        "```\n",
        "\n",
        "OUTPUT: integer division: 25/3=8\n",
        "\n",
        "```python\n",
        "var_a = 5\n",
        "var_b = 25\n",
        "remainder = var_b % var_a\n",
        "print(f\"remainder: {var_b}/{var_a} is {remainder}\")\n",
        "```\n",
        "\n",
        "OUTPUT: remainder: 25/5 is 0\n",
        "\n",
        "```python\n",
        "var_a = 3\n",
        "var_b = 25\n",
        "remainder = var_b % var_a\n",
        "print(f\"remainder: {var_b}/{var_a} is {remainder}\")\n",
        "```\n",
        "\n",
        "OUTPUT: remainder: 25/3 is 1\n",
        "\n"
      ],
      "metadata": {
        "id": "a_4kbBVWNY-4"
      }
    },
    {
      "cell_type": "code",
      "source": [
        "var_a = 5\n",
        "var_b = 23\n",
        "integer_division = var_b // var_a\n",
        "float_devision = var_b / var_a\n",
        "remainder = var_b % var_a\n",
        "print(f\"integer division: {var_b}//{var_a}={integer_division}\")\n",
        "print(f\"float division: {var_b}/{var_a}={float_devision}\")\n",
        "print(f\"remainder division: {var_b}%{var_a}={remainder}\")\n",
        "print (type(integer_division))\n",
        "print (type(float_devision))\n",
        "print (type(remainder))"
      ],
      "metadata": {
        "colab": {
          "base_uri": "https://localhost:8080/"
        },
        "id": "pSFC-IxTMpny",
        "outputId": "df3c2968-dd3a-4dfe-dcb7-2e71dd14dbdb"
      },
      "execution_count": null,
      "outputs": [
        {
          "output_type": "stream",
          "name": "stdout",
          "text": [
            "integer division: 23//5=4\n",
            "float division: 23/5=4.6\n",
            "remainder division: 23%5=3\n",
            "<class 'int'>\n",
            "<class 'float'>\n",
            "<class 'int'>\n"
          ]
        }
      ]
    },
    {
      "cell_type": "markdown",
      "source": [
        "### Comparision\n",
        "\n",
        "Operation | Meaning\n",
        "- | -\n",
        "< | A < B\n",
        "<= | A <= B\n",
        "> | A > B\n",
        ">= | A >= B"
      ],
      "metadata": {
        "id": "7snhIpNfadam"
      }
    },
    {
      "cell_type": "code",
      "source": [
        "a =5\n",
        "b =10/2\n",
        "print(type(a),type(b))\n",
        "print(a==b)\n",
        "print(a is b)\n",
        "print(\"--------\")\n",
        "a =5\n",
        "b =int(10/2)\n",
        "print(type(a),type(b))\n",
        "print(a==b)\n",
        "print(a is b)"
      ],
      "metadata": {
        "colab": {
          "base_uri": "https://localhost:8080/"
        },
        "id": "64tCiR4F6F6U",
        "outputId": "994e4cfb-522c-467f-9800-0bf4f2158116"
      },
      "execution_count": null,
      "outputs": [
        {
          "output_type": "stream",
          "name": "stdout",
          "text": [
            "<class 'int'> <class 'float'>\n",
            "True\n",
            "False\n",
            "--------\n",
            "<class 'int'> <class 'int'>\n",
            "True\n",
            "True\n"
          ]
        }
      ]
    },
    {
      "cell_type": "code",
      "source": [],
      "metadata": {
        "id": "FI3W6PadNRAo"
      },
      "execution_count": null,
      "outputs": []
    }
  ]
}