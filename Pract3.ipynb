{
  "nbformat": 4,
  "nbformat_minor": 0,
  "metadata": {
    "colab": {
      "provenance": [],
      "include_colab_link": true
    },
    "kernelspec": {
      "name": "python3",
      "display_name": "Python 3"
    },
    "language_info": {
      "name": "python"
    }
  },
  "cells": [
    {
      "cell_type": "markdown",
      "metadata": {
        "id": "view-in-github",
        "colab_type": "text"
      },
      "source": [
        "<a href=\"https://colab.research.google.com/github/ShiviRaghu/boss/blob/practice/Pract3.ipynb\" target=\"_parent\"><img src=\"https://colab.research.google.com/assets/colab-badge.svg\" alt=\"Open In Colab\"/></a>"
      ]
    },
    {
      "cell_type": "markdown",
      "source": [
        "**Conditional Statements**\n",
        "if Statement\n",
        "elif Statement\n",
        "else Statement\n"
      ],
      "metadata": {
        "id": "nuwLRdZlDfeA"
      }
    },
    {
      "cell_type": "code",
      "source": [
        "a = [1, 2, 3]\n",
        "b = a\n",
        "print(id (a),id(b))\n",
        "print(a is b)"
      ],
      "metadata": {
        "id": "idO93JrSmAUk",
        "outputId": "7f9685cc-23c9-4a8b-9cff-bfd874b1cca6",
        "colab": {
          "base_uri": "https://localhost:8080/"
        }
      },
      "execution_count": 2,
      "outputs": [
        {
          "output_type": "stream",
          "name": "stdout",
          "text": [
            "138665690643456 138665690643456\n",
            "True\n"
          ]
        }
      ]
    },
    {
      "cell_type": "markdown",
      "source": [
        "### if else"
      ],
      "metadata": {
        "id": "4KnZ60ISUsmb"
      }
    },
    {
      "cell_type": "code",
      "execution_count": null,
      "metadata": {
        "colab": {
          "base_uri": "https://localhost:8080/"
        },
        "id": "n1Kl_Q0zCpOs",
        "outputId": "125b4ed9-892a-4a35-af96-1f1759cce5ed"
      },
      "outputs": [
        {
          "output_type": "stream",
          "name": "stdout",
          "text": [
            "home\n",
            "zc\n",
            "always\n"
          ]
        }
      ],
      "source": [
        "##indenation error --allingnment not proper --select then use shift+tab\n",
        "raining = True\n",
        "if raining:\n",
        "  print(\"home\")\n",
        "  print(\"zc\")  ### space = indenatation refers to same as{} ##  that determines the grouping and structure of code blocks,the lines inside the if block are indented, indicating that they are part of the block. The line outside the if block is not indented, showing that it is not part of the block.\n",
        "else:\n",
        "   print(\"office\")\n",
        "print(\"always\") ##outside the if block"
      ]
    },
    {
      "cell_type": "code",
      "source": [
        "a =float(input(\"enter number = \"))\n",
        "if a>=0:\n",
        "  print(\"positive\")\n",
        "else:\n",
        "  print(\"negative\")"
      ],
      "metadata": {
        "colab": {
          "base_uri": "https://localhost:8080/"
        },
        "id": "eFRy3ZTN0saQ",
        "outputId": "741f36fa-d7cc-4219-d093-1060865ea6da"
      },
      "execution_count": null,
      "outputs": [
        {
          "output_type": "stream",
          "name": "stdout",
          "text": [
            "enter number = 89.900\n",
            "positive\n"
          ]
        }
      ]
    },
    {
      "cell_type": "code",
      "source": [
        "a =19\n",
        "if a>=70:\n",
        "  print(\"a is greater than 70\")\n",
        "print(f\"a is {a}\")"
      ],
      "metadata": {
        "colab": {
          "base_uri": "https://localhost:8080/"
        },
        "id": "lyo3BSqM3RNb",
        "outputId": "0b342faf-0acd-4f4c-cab8-9696b0f0e9ea"
      },
      "execution_count": null,
      "outputs": [
        {
          "output_type": "stream",
          "name": "stdout",
          "text": [
            "a is 19\n"
          ]
        }
      ]
    },
    {
      "cell_type": "code",
      "execution_count": null,
      "metadata": {
        "colab": {
          "base_uri": "https://localhost:8080/"
        },
        "outputId": "54cd09b1-eced-458f-8b61-16813852e4d9",
        "id": "ij4Yi8x0NLtt"
      },
      "outputs": [
        {
          "output_type": "stream",
          "name": "stdout",
          "text": [
            "office\n",
            "always\n"
          ]
        }
      ],
      "source": [
        "raining = False\n",
        "if not raining:\n",
        "   print(\"office\")    ### space = indenatation refers to same as{} ##  that determines the grouping and structure of code blocks,the lines inside the if block are indented, indicating that they are part of the block. The line outside the if block is not indented, showing that it is not part of the block.\n",
        "else:\n",
        "   print(\"homme\")\n",
        "print(\"always\") ##outside the if block"
      ]
    },
    {
      "cell_type": "code",
      "source": [
        "class_start = True\n",
        "if class_start:\n",
        "  print(\"started\")\n",
        "else:\n",
        "    print(\"revise\")"
      ],
      "metadata": {
        "colab": {
          "base_uri": "https://localhost:8080/"
        },
        "id": "jS4OyXAyNcDD",
        "outputId": "a7535a72-e5b8-4692-ab4c-3cf78696d728"
      },
      "execution_count": null,
      "outputs": [
        {
          "output_type": "stream",
          "name": "stdout",
          "text": [
            "started\n"
          ]
        }
      ]
    },
    {
      "cell_type": "code",
      "source": [
        "a = int(input(\"enter value of a = \"))\n",
        "if a>=0:\n",
        "  print(\"+ve num\")\n",
        "else:\n",
        " print(\"-ve num\")"
      ],
      "metadata": {
        "colab": {
          "base_uri": "https://localhost:8080/"
        },
        "id": "gJWbqxPzxAwU",
        "outputId": "0a35ea3d-8dbc-48d3-9095-810403c64023"
      },
      "execution_count": null,
      "outputs": [
        {
          "output_type": "stream",
          "name": "stdout",
          "text": [
            "enter value of a = 0\n",
            "-ve num\n"
          ]
        }
      ]
    },
    {
      "cell_type": "code",
      "source": [
        "class_started = bool(input(\"hey class is started ? = \"))\n",
        "if class_started:     ##if you dont provide input it will be empty string and o/p will be false\n",
        "  print(\"started\")\n",
        "else:\n",
        "    print(\"revise\")"
      ],
      "metadata": {
        "colab": {
          "base_uri": "https://localhost:8080/"
        },
        "id": "D0XCV_MJQBHD",
        "outputId": "09918f3b-8b50-47e8-ff85-b273d5ff9c44"
      },
      "execution_count": null,
      "outputs": [
        {
          "output_type": "stream",
          "name": "stdout",
          "text": [
            "hey class is started ? = \n",
            "revise\n"
          ]
        }
      ]
    },
    {
      "cell_type": "code",
      "source": [
        "a =int(input(\"value of a \"))\n",
        "b = int(input(\"value of b \"))\n",
        "if a>=0 and b>=0:\n",
        "  print(f\"multiply of {a*b} will be +ve\")\n",
        "else:\n",
        "  print(\"multipl of{a*b} will be -ve\")"
      ],
      "metadata": {
        "colab": {
          "base_uri": "https://localhost:8080/"
        },
        "id": "ZP6QfqZfRPP0",
        "outputId": "12696028-6a29-4339-f78d-c9a4aa935be3"
      },
      "execution_count": null,
      "outputs": [
        {
          "output_type": "stream",
          "name": "stdout",
          "text": [
            "value of a 10\n",
            "value of b 20\n",
            "multiply of 200 will be +ve\n"
          ]
        }
      ]
    },
    {
      "cell_type": "code",
      "source": [
        "a =int(input(\"value of a \"))\n",
        "b = int(input(\"value of b \"))\n",
        "if a<0 or b<0:\n",
        "  print(f\"multiply of {a*b} will be -ve\")\n",
        "else:\n",
        "  print(\"multipl of{a*b} will be +ve\")"
      ],
      "metadata": {
        "id": "Wvl2YatDR8Hc"
      },
      "execution_count": null,
      "outputs": []
    },
    {
      "cell_type": "markdown",
      "source": [
        "### elif"
      ],
      "metadata": {
        "id": "m4eXh7Mk35wO"
      }
    },
    {
      "cell_type": "code",
      "source": [
        "a =int(input(\"value of a \"))\n",
        "if a>100:\n",
        "  print(\"greater thab 100\")\n",
        "elif a>0:\n",
        "  print(\"positive\")\n",
        "elif a==0:\n",
        "  print(\"zero\")\n",
        "else:\n",
        "  print(\"negative\")"
      ],
      "metadata": {
        "colab": {
          "base_uri": "https://localhost:8080/"
        },
        "id": "aD1gOW3m39dI",
        "outputId": "15187f1d-6822-4989-ea71-413e7ddb73d9"
      },
      "execution_count": null,
      "outputs": [
        {
          "output_type": "stream",
          "name": "stdout",
          "text": [
            "value of a 90000\n",
            "90000\n",
            "greater thab 100\n"
          ]
        }
      ]
    },
    {
      "cell_type": "markdown",
      "source": [
        "1. take 2 numbers are find which is the greater one\n",
        "2. Check if a person is eligible to donate blood. A person must be older than 18 and weigh more than 50 kg to be eligible.\n",
        "3. Write a program to check if a number is positive, negative, or zero. Additionally, if the number is positive, check if it is even or odd.\n",
        "4. Write a program to check if a number x = 45 lies within these ranges:\n",
        "0 to 20: Print \"Low range\"\n",
        "21 to 50: Print \"Medium range\"\n",
        "Above 50: Print \"High range\"\n",
        "5. Write a program to categorize a person’s BMI (Body Mass Index) based on the following:\n",
        "BMI < 18.5: \"Underweight\"\n"
      ],
      "metadata": {
        "id": "jtITzsj26Bz0"
      }
    },
    {
      "cell_type": "code",
      "source": [
        "a = int(input(\"enter value of a = \"))\n",
        "b = int(input(\"enter value of b = \"))\n",
        "if a>b:\n",
        "  print(f\"value of a is greater than b {a} > {b}\")\n",
        "elif b>a:\n",
        "  print(f\"value of a is greater than b {a} < {b}\")\n",
        "elif b==a:\n",
        "  print(f\"value of a is equals to b\")\n",
        "else:\n",
        "  print(\"enter valid number\")\n",
        "\n"
      ],
      "metadata": {
        "colab": {
          "base_uri": "https://localhost:8080/"
        },
        "id": "1lxt6pJF6Fb7",
        "outputId": "cf9cca60-40ca-4d80-c750-8756e9eef27b"
      },
      "execution_count": null,
      "outputs": [
        {
          "output_type": "stream",
          "name": "stdout",
          "text": [
            "enter value of a = 10\n",
            "enter value of b = 10\n",
            "value of a is equals to b\n"
          ]
        }
      ]
    },
    {
      "cell_type": "code",
      "source": [
        "age = float(input(\"enter value of age = \"))\n",
        "weight = float(input(\"enter value of wt = \"))\n",
        "if (age > 18) and (weight > 50):\n",
        "  print(\"eligible to donate blood\")\n",
        "else:\n",
        "  print(\"not eligible to donate blood\")"
      ],
      "metadata": {
        "colab": {
          "base_uri": "https://localhost:8080/"
        },
        "id": "CWHtgJAF62An",
        "outputId": "a82aafbd-495c-4162-dd72-b37c73a0b0af"
      },
      "execution_count": null,
      "outputs": [
        {
          "output_type": "stream",
          "name": "stdout",
          "text": [
            "enter value of age = 19.9\n",
            "enter value of wt = 80\n",
            "eligible to donate blood\n"
          ]
        }
      ]
    },
    {
      "cell_type": "code",
      "source": [
        "a =int(input(\"value of a \"))\n",
        "if a>0:\n",
        "  print(\"positive\")\n",
        "  if a%2==0:\n",
        "    print(\"even\")\n",
        "  else :\n",
        "    print(\"odd\")\n",
        "elif a==0:\n",
        "  print(\"zero\")\n",
        "else:\n",
        "  print(\"negative\")"
      ],
      "metadata": {
        "colab": {
          "base_uri": "https://localhost:8080/"
        },
        "id": "axn9tsdB7EBs",
        "outputId": "f3909af6-1eba-49d8-e7a0-2a4653fa1f0d"
      },
      "execution_count": null,
      "outputs": [
        {
          "output_type": "stream",
          "name": "stdout",
          "text": [
            "value of a -90\n",
            "negative\n"
          ]
        }
      ]
    },
    {
      "cell_type": "code",
      "source": [
        "\"\"\"Write a program to check if a number x = 45\n",
        "lies within these ranges: 0 to 20: Print \"Low range\" 21 to 50: Print \"Medium range\" Above 50: Print \"High range\"\"\"\n",
        "\n",
        "x =45\n",
        "if x>=0 and x<=20:\n",
        "  print(\"low range\")\n",
        "elif x>=21 and x<=50:\n",
        "  print(\"medium range\")\n",
        "else:\n",
        "  print(\"high range\")\n"
      ],
      "metadata": {
        "colab": {
          "base_uri": "https://localhost:8080/"
        },
        "id": "dZ3yr3557dMt",
        "outputId": "633332aa-265b-4ab5-d680-e06d631113c9"
      },
      "execution_count": null,
      "outputs": [
        {
          "output_type": "stream",
          "name": "stdout",
          "text": [
            "medium range\n"
          ]
        }
      ]
    },
    {
      "cell_type": "code",
      "source": [
        "## Write a program to categorize a person’s BMI (Body Mass Index) based on the following: BMI < 18.5: \"Underweight\"\n",
        "''' BMI < 18.5: \"Underweight\"\n",
        "18.5 <= BMI < 25: \"Normal weight\"\n",
        "25 <= BMI < 30: \"Overweight\"\n",
        "BMI >= 30: \"Obesity\" '''\n",
        "\n",
        "BMI_input =float(input(\"value of bmi \"))\n",
        "if BMI_input<18.5:\n",
        "  print(\"Underweight\")\n",
        "elif 18.5 <= BMI_input < 25:\n",
        "  print(\"Normal weight\")\n",
        "elif 25 <= BMI_input < 30:\n",
        "  print(\"Overweight\")\n",
        "elif BMI_input >=30 :\n",
        "  print(\"Obesity\")\n",
        "\n"
      ],
      "metadata": {
        "colab": {
          "base_uri": "https://localhost:8080/"
        },
        "id": "4UCXHZxc76go",
        "outputId": "54320f68-39b0-47e0-ead0-4cb2d78d0dab"
      },
      "execution_count": null,
      "outputs": [
        {
          "output_type": "stream",
          "name": "stdout",
          "text": [
            "value of bmi -90\n",
            "Underweight\n"
          ]
        }
      ]
    },
    {
      "cell_type": "markdown",
      "source": [
        "### using and or together"
      ],
      "metadata": {
        "id": "lsUvUcxOU09L"
      }
    },
    {
      "cell_type": "code",
      "source": [
        "attendance = 90\n",
        "assignment =70\n",
        "sports = True\n",
        "if attendance>=75 and assignment>=70:\n",
        " if sports:\n",
        "  print(\"exam eligible and grace+10\")\n",
        " else:\n",
        "  print(\"exam  eligible no grace\")\n",
        "else :\n",
        "  print(\"not eligible for exam\")\n",
        "print('outside if')"
      ],
      "metadata": {
        "id": "Gdcx_bYET6mD",
        "colab": {
          "base_uri": "https://localhost:8080/"
        },
        "outputId": "c4d6bb9e-df3d-4638-ad6a-762726f948be"
      },
      "execution_count": null,
      "outputs": [
        {
          "output_type": "stream",
          "name": "stdout",
          "text": [
            "exam eligible and grace+10\n",
            "outside if\n"
          ]
        }
      ]
    },
    {
      "cell_type": "code",
      "source": [
        "marks = 30\n",
        "attend=80\n",
        "\n",
        "if marks>55:\n",
        "  if attend >75:\n",
        "    print(\"pass and 1st div\")\n",
        "  else:\n",
        "      print(\"pass but not 1st division\")\n",
        "else:\n",
        "  print(\"fail\")\n",
        "print(\"result not declared\")"
      ],
      "metadata": {
        "colab": {
          "base_uri": "https://localhost:8080/"
        },
        "id": "9Yf5eXz8ykXE",
        "outputId": "2379d851-1df8-47db-a1d1-fdfd552545d2"
      },
      "execution_count": null,
      "outputs": [
        {
          "output_type": "stream",
          "name": "stdout",
          "text": [
            "fail\n",
            "result not declared\n"
          ]
        }
      ]
    },
    {
      "cell_type": "code",
      "source": [
        "attendance = 90\n",
        "assignment =40\n",
        "sports = False\n",
        "if attendance>=75 and assignment>=70:\n",
        " if sports:\n",
        "  print(\"exam eligible and grace+10\")\n",
        " else:\n",
        "  print(\"exam  eligible no grace\")\n",
        "else :\n",
        "  print(\"not eligible for exam\")"
      ],
      "metadata": {
        "colab": {
          "base_uri": "https://localhost:8080/"
        },
        "id": "CwzkD_mAa-oG",
        "outputId": "092d9e56-ae58-4f99-da52-eb5585e15fc4"
      },
      "execution_count": null,
      "outputs": [
        {
          "output_type": "stream",
          "name": "stdout",
          "text": [
            "not eligible for exam\n"
          ]
        }
      ]
    },
    {
      "cell_type": "markdown",
      "source": [
        "## class question\n",
        "\n",
        "\n"
      ],
      "metadata": {
        "id": "fo_qxKqT4SiN"
      }
    },
    {
      "cell_type": "markdown",
      "source": [
        "### 1.Write a program to calculate the average of three subjects' marks entered by the user. Print \"Pass\" if the average is >= 40, otherwise print \"Fail.\"\n"
      ],
      "metadata": {
        "id": "5Momt5pE4_hA"
      }
    },
    {
      "cell_type": "code",
      "source": [],
      "metadata": {
        "id": "2aNurRhS5Q6S"
      },
      "execution_count": null,
      "outputs": []
    },
    {
      "cell_type": "markdown",
      "source": [
        "### 2. Write a program to take two numbers as input and print whether they are equal, the first is greater, or the second is greater.\n"
      ],
      "metadata": {
        "id": "55XxCb4C5ROR"
      }
    },
    {
      "cell_type": "code",
      "source": [],
      "metadata": {
        "id": "xms6INQ15TZ_"
      },
      "execution_count": null,
      "outputs": []
    },
    {
      "cell_type": "markdown",
      "source": [
        "### 3.Ask the user to input a number. Print \"Divisible by both 3 and 5\" if true, otherwise print \"Not divisible by both.\"\n"
      ],
      "metadata": {
        "id": "SdVx_lae5Vsv"
      }
    },
    {
      "cell_type": "code",
      "source": [],
      "metadata": {
        "id": "daWEDoTA5XxP"
      },
      "execution_count": null,
      "outputs": []
    },
    {
      "cell_type": "markdown",
      "source": [
        "### 4.Take three angles of a triangle as input. Print \"Valid triangle\" if the sum is 180, otherwise print \"Invalid triangle.\"\n"
      ],
      "metadata": {
        "id": "Q4A0aF2F5YNl"
      }
    },
    {
      "cell_type": "code",
      "source": [],
      "metadata": {
        "id": "rokL2mXm5aN6"
      },
      "execution_count": null,
      "outputs": []
    },
    {
      "cell_type": "markdown",
      "source": [
        "### 5.Take a number (1-7) as input and print the corresponding day of the week.\n"
      ],
      "metadata": {
        "id": "9wODQJN15alU"
      }
    },
    {
      "cell_type": "code",
      "source": [],
      "metadata": {
        "id": "XiBGr_Rk5c0_"
      },
      "execution_count": null,
      "outputs": []
    },
    {
      "cell_type": "markdown",
      "source": [
        "### 6.Calculate the electricity bill based on:\n",
        "₹5/unit for the first 50 units\n",
        "₹7/unit for the next 100 units (51-150)\n",
        "₹10/unit beyond 150 units\n",
        "\n"
      ],
      "metadata": {
        "id": "V2sjPw5F5dKz"
      }
    },
    {
      "cell_type": "code",
      "source": [],
      "metadata": {
        "id": "_d8viTHl5fq4"
      },
      "execution_count": null,
      "outputs": []
    },
    {
      "cell_type": "markdown",
      "source": [
        "### Take units input from user\n",
        "### take 3 numbers input from user and print the greatest one,\n",
        "### check if all of them are equal or if any two are equal**"
      ],
      "metadata": {
        "id": "WaRUkpP-5gAe"
      }
    },
    {
      "cell_type": "code",
      "source": [],
      "metadata": {
        "id": "FlHci1Zl5jTf"
      },
      "execution_count": null,
      "outputs": []
    }
  ]
}