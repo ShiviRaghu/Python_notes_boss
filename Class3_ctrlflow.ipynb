{
  "nbformat": 4,
  "nbformat_minor": 0,
  "metadata": {
    "colab": {
      "provenance": [],
      "include_colab_link": true
    },
    "kernelspec": {
      "name": "python3",
      "display_name": "Python 3"
    },
    "language_info": {
      "name": "python"
    }
  },
  "cells": [
    {
      "cell_type": "markdown",
      "metadata": {
        "id": "view-in-github",
        "colab_type": "text"
      },
      "source": [
        "<a href=\"https://colab.research.google.com/github/ShiviRaghu/Python_notes_boss/blob/notes/Class3_ctrlflow.ipynb\" target=\"_parent\"><img src=\"https://colab.research.google.com/assets/colab-badge.svg\" alt=\"Open In Colab\"/></a>"
      ]
    },
    {
      "cell_type": "markdown",
      "source": [
        "# Python Fundamentals 1"
      ],
      "metadata": {
        "id": "Kwo2RNa3604q"
      }
    },
    {
      "cell_type": "markdown",
      "source": [
        "**Agenda**\n",
        "\n",
        "**Flow Control**\n",
        "- **Conditional Statements**\n",
        "  - if Statement\n",
        "  - elif Statement\n",
        "  - else Statement\n",
        "- Examples Based on Conditional Statements"
      ],
      "metadata": {
        "id": "ehXoJ4awYVGI"
      }
    },
    {
      "cell_type": "markdown",
      "source": [
        "##**Flow Control**"
      ],
      "metadata": {
        "id": "acziQ1vuZFfd"
      }
    },
    {
      "cell_type": "markdown",
      "source": [
        "Flow control in Python is an essential concept that governs the order in which statements are executed. It allows you to manage the flow of your program's execution, making decisions, iterating over data, and handling exceptions."
      ],
      "metadata": {
        "id": "e6dZqzrXZfk5"
      }
    },
    {
      "cell_type": "markdown",
      "source": [
        "- Flow control in Python refers to the sequence in which statements are executed or controlled within a program.\n",
        "\n",
        "- It allows programmers to dictate the order of execution based on certain conditions or loops.\n",
        "\n",
        "\n",
        "\n"
      ],
      "metadata": {
        "id": "JqHuBc4Lhcrb"
      }
    },
    {
      "cell_type": "markdown",
      "source": [
        "Python offers three fundamental types of flow control:\n",
        "- **Conditional Statements:** Control the flow of execution based on specific conditions\n",
        "\n",
        "- **Transfer Statements** -  Alter the flow of execution by transferring control from one part of the program to another\n",
        "\n",
        "- **Iterative Statements** - Allow the execution of a block of code repeatedly."
      ],
      "metadata": {
        "id": "mM8pb-8TZjbm"
      }
    },
    {
      "cell_type": "markdown",
      "source": [
        "![image.png](data:image/png;base64,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)"
      ],
      "metadata": {
        "id": "4JbMAztKhxYs"
      }
    },
    {
      "cell_type": "markdown",
      "source": [
        "## 1.Conditional Statements"
      ],
      "metadata": {
        "id": "dn-1aGyrO-Zq"
      }
    },
    {
      "cell_type": "markdown",
      "source": [
        "- Conditional statements allow your program to make decisions based on certain conditions.\n",
        "- Python supports if, elif, and else statements for this purpose.\n",
        "\n"
      ],
      "metadata": {
        "id": "P3pn-oK0p02G"
      }
    },
    {
      "cell_type": "markdown",
      "source": [
        "###**1.1 if Statement**"
      ],
      "metadata": {
        "id": "dTbrFMlPPFRe"
      }
    },
    {
      "cell_type": "markdown",
      "source": [
        "- The if statement evaluates a condition and executes a block of code if the condition is True.\n",
        "\n"
      ],
      "metadata": {
        "id": "K1D-5cTMp4Pj"
      }
    },
    {
      "cell_type": "markdown",
      "source": [
        "Syntax"
      ],
      "metadata": {
        "id": "sNtarAG6qRQ5"
      }
    },
    {
      "cell_type": "markdown",
      "source": [
        "```\n",
        "if condition:\n",
        "    # code to execute if condition is True\n",
        "```"
      ],
      "metadata": {
        "id": "EC0c-lruybeI"
      }
    },
    {
      "cell_type": "markdown",
      "source": [
        "Example"
      ],
      "metadata": {
        "id": "X9heNo_yqOo8"
      }
    },
    {
      "cell_type": "code",
      "source": [
        "age = 18\n",
        "if age >= 18:\n",
        "    print(\"You are eligible to vote.\")\n",
        "\n",
        "a =10\n",
        "if a>0:\n",
        "  print(\"+ve number\")\n"
      ],
      "metadata": {
        "colab": {
          "base_uri": "https://localhost:8080/"
        },
        "id": "xPHX9u7bqTqU",
        "outputId": "0a78e5f3-b1b0-4a80-db4e-8dfb0e6596cc"
      },
      "execution_count": null,
      "outputs": [
        {
          "output_type": "stream",
          "name": "stdout",
          "text": [
            "You are eligible to vote.\n",
            "+ve number\n",
            "1 0\n",
            "2 0\n",
            "2 1\n"
          ]
        }
      ]
    },
    {
      "cell_type": "code",
      "source": [
        "num = int(input(\"enter number to find +ve/-ve/0 =  \"))\n",
        "if num>0:\n",
        "  print(\"number is positive\")\n",
        "print(\"outside if\")"
      ],
      "metadata": {
        "id": "SiRosVF751fn",
        "outputId": "fbdb662d-42eb-4e5a-e889-026add41847e",
        "colab": {
          "base_uri": "https://localhost:8080/"
        }
      },
      "execution_count": null,
      "outputs": [
        {
          "output_type": "stream",
          "name": "stdout",
          "text": [
            "enter number to find +ve/-ve/0 =  123\n",
            "number is positive\n",
            "outside if\n"
          ]
        }
      ]
    },
    {
      "cell_type": "code",
      "source": [
        "def GCD(A, B):\n",
        "\n",
        "  if B == 0:\n",
        "    return A\n",
        "  else:\n",
        "    return GCD(B, A % B)\n",
        "\n",
        "  print(GCD(48,18))\n"
      ],
      "metadata": {
        "id": "etgCkX4UTAUW"
      },
      "execution_count": null,
      "outputs": []
    },
    {
      "cell_type": "markdown",
      "source": [
        "###**1.2 elif Statement**"
      ],
      "metadata": {
        "id": "ZNag_1XNPJYu"
      }
    },
    {
      "cell_type": "markdown",
      "source": [
        "- The elif (else if) statement allows you to check multiple conditions.\n",
        "- If the preceding if condition is False, the program checks the next elif condition."
      ],
      "metadata": {
        "id": "7dea6VplqYF7"
      }
    },
    {
      "cell_type": "markdown",
      "source": [
        "Syntax"
      ],
      "metadata": {
        "id": "TSjb-8NUqklJ"
      }
    },
    {
      "cell_type": "markdown",
      "source": [
        "```\n",
        "if condition1:\n",
        "    # code to execute if condition1 is True\n",
        "elif condition2:\n",
        "    # code to execute if condition2 is True\n",
        "```"
      ],
      "metadata": {
        "id": "acCabfdnyffM"
      }
    },
    {
      "cell_type": "markdown",
      "source": [
        "Example"
      ],
      "metadata": {
        "id": "ZSZ1EHM9qogd"
      }
    },
    {
      "cell_type": "code",
      "source": [
        "marks = int(input(\"marks : \"))\n",
        "if marks>=90:\n",
        "    print(\"Grade: A\")\n",
        "elif marks>=80:\n",
        "  print(\"Grade: b\")\n",
        "elif marks>=70:\n",
        "  print(\"Grade: c\")\n",
        "else:\n",
        "  print"
      ],
      "metadata": {
        "colab": {
          "base_uri": "https://localhost:8080/"
        },
        "id": "n1XCzX0gqpCk",
        "outputId": "893a5dbc-bbae-453e-8639-ef2316dd60de"
      },
      "execution_count": null,
      "outputs": [
        {
          "output_type": "stream",
          "name": "stdout",
          "text": [
            "marks : 75\n",
            "Grade: c\n"
          ]
        }
      ]
    },
    {
      "cell_type": "code",
      "source": [
        "num = int(input(\"enter number to find +ve/-ve/0 \"))\n",
        "if num==0:\n",
        "  print(\"number is zero\")\n",
        "elif num>0:\n",
        "  print(\"number is positive\")\n",
        "elif num<0:\n",
        "  print(\"number is negative\")\n",
        "print(\"outside if\")"
      ],
      "metadata": {
        "id": "HB50OIit6Y8D",
        "outputId": "b01a5582-9fbd-4e9d-81ba-fe80236cc3a8",
        "colab": {
          "base_uri": "https://localhost:8080/"
        }
      },
      "execution_count": null,
      "outputs": [
        {
          "output_type": "stream",
          "name": "stdout",
          "text": [
            "enter number to find +ve/-ve/0 0\n",
            "number is zero\n",
            "outside if\n"
          ]
        }
      ]
    },
    {
      "cell_type": "code",
      "source": [
        "name = input(\"enter ur name ? \")\n",
        "if name == \"shivi\":\n",
        "  print(\"correct name\")\n",
        "elif name ==\"abha\":\n",
        "  print(\"frnds name\")\n",
        "else :\n",
        "  print(\"unknown\")"
      ],
      "metadata": {
        "colab": {
          "base_uri": "https://localhost:8080/"
        },
        "id": "76IVvz5WqsSv",
        "outputId": "fb0769a6-50fe-496e-ac16-e141771b4689"
      },
      "execution_count": null,
      "outputs": [
        {
          "output_type": "stream",
          "name": "stdout",
          "text": [
            "enter ur name ? abha\n",
            "frnds name\n"
          ]
        }
      ]
    },
    {
      "cell_type": "markdown",
      "source": [
        "### **1.3 else Statement**"
      ],
      "metadata": {
        "id": "D4Dir_I8PQX7"
      }
    },
    {
      "cell_type": "markdown",
      "source": [
        "- The else statement executes a block of code if none of the preceding conditions are True."
      ],
      "metadata": {
        "id": "w8teO6TKqsn_"
      }
    },
    {
      "cell_type": "markdown",
      "source": [
        "Syntax"
      ],
      "metadata": {
        "id": "sygvIVxAqygD"
      }
    },
    {
      "cell_type": "markdown",
      "source": [
        "```\n",
        "if condition1:\n",
        "    # code to execute if condition1 is True\n",
        "elif condition2:\n",
        "    # code to execute if condition2 is True\n",
        "else:\n",
        "    # code to execute if both condition1 and condition2 are False\n",
        "```"
      ],
      "metadata": {
        "id": "i5CYsWpxyuMn"
      }
    },
    {
      "cell_type": "markdown",
      "source": [
        "Example"
      ],
      "metadata": {
        "id": "Uv-NLWgsq4iB"
      }
    },
    {
      "cell_type": "code",
      "source": [
        "temperature = float(input(\"enter temperature ? \"))\n",
        "if temperature > 30:\n",
        "    print(\"It's a hot day.\")\n",
        "elif temperature < 10:\n",
        "    print(\"It's a cold day.\")\n",
        "else:\n",
        "    print(\"It's a pleasant day.\")\n"
      ],
      "metadata": {
        "colab": {
          "base_uri": "https://localhost:8080/"
        },
        "id": "8CETqNRGq6FM",
        "outputId": "8e35beb2-4e7a-4f28-ee87-4b1b6e3c5029"
      },
      "execution_count": null,
      "outputs": [
        {
          "output_type": "stream",
          "name": "stdout",
          "text": [
            "enter temperature ? 29.9\n",
            "It's a pleasant day.\n"
          ]
        }
      ]
    },
    {
      "cell_type": "markdown",
      "source": [
        "## Examples Based of Conditional Statements"
      ],
      "metadata": {
        "id": "wNuE_GM3QIMm"
      }
    },
    {
      "cell_type": "markdown",
      "source": [
        "Check if entered number is greater than 0 or not."
      ],
      "metadata": {
        "id": "2nawx0Y2QQ8M"
      }
    },
    {
      "cell_type": "code",
      "source": [
        "num = float(input (\"enter number : \"))\n",
        "if num >=0:\n",
        "  print(f\"{num} is a positive number\")\n",
        "else:\n",
        "  print(f\"{num} is a negative number\")"
      ],
      "metadata": {
        "colab": {
          "base_uri": "https://localhost:8080/"
        },
        "id": "E2CCckrBX6oC",
        "outputId": "113f19f3-59dd-4d9f-afcb-18fe9342f0ac"
      },
      "execution_count": null,
      "outputs": [
        {
          "output_type": "stream",
          "name": "stdout",
          "text": [
            "enter number : -0.99999\n",
            "-0.99999 is a negative number\n"
          ]
        }
      ]
    },
    {
      "cell_type": "code",
      "source": [
        "number = int(input('Enter a number: '))\n",
        "\n",
        "# check if number is greater than 0\n",
        "if number > 0:\n",
        "    print(f'{number} is a positive number.')\n",
        "print('A statement outside the if statement.')"
      ],
      "metadata": {
        "colab": {
          "base_uri": "https://localhost:8080/"
        },
        "id": "J0O1i3O6QLwe",
        "outputId": "d50ca25f-f3b6-46c2-b0b5-4aecc2cff1e6"
      },
      "execution_count": null,
      "outputs": [
        {
          "output_type": "stream",
          "name": "stdout",
          "text": [
            "Enter a number: -90\n",
            "A statement outside the if statement.\n"
          ]
        }
      ]
    },
    {
      "cell_type": "markdown",
      "source": [
        "### Example: Python if Statement"
      ],
      "metadata": {
        "id": "eggUapqpQeut"
      }
    },
    {
      "cell_type": "markdown",
      "source": [
        "Give x and total if x is not equal to 0 then add x in total and then print total."
      ],
      "metadata": {
        "id": "dXtquA0JQlTz"
      }
    },
    {
      "cell_type": "markdown",
      "source": [
        "### Python if...else Statement"
      ],
      "metadata": {
        "id": "aeNEnSh6Qywf"
      }
    },
    {
      "cell_type": "code",
      "source": [
        "x = int(input(\"enter value of x : \"))\n",
        "total =0\n",
        "if x!=0:\n",
        "  total +=x\n",
        "  print(f\"total = {total}\")\n",
        "else :\n",
        "  print(f\"total = {total}\")\n"
      ],
      "metadata": {
        "id": "TZdSwhqR65yD",
        "outputId": "4def3419-ce14-4376-9f88-e803f9b14337",
        "colab": {
          "base_uri": "https://localhost:8080/"
        }
      },
      "execution_count": null,
      "outputs": [
        {
          "output_type": "stream",
          "name": "stdout",
          "text": [
            "enter value of x : -9000\n",
            "-9000\n"
          ]
        }
      ]
    },
    {
      "cell_type": "code",
      "source": [
        "x = 1\n",
        "total = 0\n",
        "\n",
        "# start of the if statement\n",
        "if x != 0:\n",
        "    total += x\n",
        "    print(total)\n",
        "# end of the if statement\n",
        "\n",
        "print(\"This is always executed.\")"
      ],
      "metadata": {
        "colab": {
          "base_uri": "https://localhost:8080/"
        },
        "id": "vIa77JBPQV9k",
        "outputId": "6e11e281-63df-4441-ee56-b0e181a7e493"
      },
      "execution_count": null,
      "outputs": [
        {
          "output_type": "stream",
          "name": "stdout",
          "text": [
            "1\n",
            "This is always executed.\n"
          ]
        }
      ]
    },
    {
      "cell_type": "markdown",
      "source": [
        "### Python if…elif…else Statement"
      ],
      "metadata": {
        "id": "h5FXgJgOQ_6R"
      }
    },
    {
      "cell_type": "markdown",
      "source": [
        "Check if entered number is Positive, negative or zero."
      ],
      "metadata": {
        "id": "peFzXNV5RFMF"
      }
    },
    {
      "cell_type": "code",
      "source": [
        "number = -5\n",
        "\n",
        "if number > 0:\n",
        "    print('Positive number')\n",
        "\n",
        "elif number < 0:\n",
        "    print('Negative number')\n",
        "\n",
        "else:\n",
        "    print('Zero')\n",
        "\n",
        "print('This statement is always executed')"
      ],
      "metadata": {
        "colab": {
          "base_uri": "https://localhost:8080/"
        },
        "id": "5A94H2S7Q8BZ",
        "outputId": "da3f958e-6f30-4cf9-a31e-28b260672037"
      },
      "execution_count": null,
      "outputs": [
        {
          "output_type": "stream",
          "name": "stdout",
          "text": [
            "Negative number\n",
            "This statement is always executed\n"
          ]
        }
      ]
    },
    {
      "cell_type": "markdown",
      "source": [
        "### Python Nested if Statements"
      ],
      "metadata": {
        "id": "PTiyoZtZRNvH"
      }
    },
    {
      "cell_type": "markdown",
      "source": [
        "Check if entered number is Positive, negative or zero."
      ],
      "metadata": {
        "id": "nXsx3YiORUAv"
      }
    },
    {
      "cell_type": "code",
      "source": [
        "number = float(input('Enter a number: '))\n",
        "\n",
        "if number>=0:\n",
        "  if number ==0:\n",
        "    print(\"its equal to zero\")\n",
        "  else:\n",
        "    print(\"its a positive number\")\n",
        "else:\n",
        "  print(\"its a negative number\")"
      ],
      "metadata": {
        "colab": {
          "base_uri": "https://localhost:8080/"
        },
        "id": "3aowIZLKRKBx",
        "outputId": "0346ff99-7d2b-4551-f4b1-304d8e3eea7c"
      },
      "execution_count": null,
      "outputs": [
        {
          "output_type": "stream",
          "name": "stdout",
          "text": [
            "Enter a number: 0.000\n",
            "its equal to zero\n"
          ]
        }
      ]
    },
    {
      "cell_type": "markdown",
      "source": [
        "### Example: Finding the Largest of Three Numbers"
      ],
      "metadata": {
        "id": "xwW88-LdRqA8"
      }
    },
    {
      "cell_type": "markdown",
      "source": [
        "This example demonstrates the use of nested if-else statements to determine the largest of three given numbers. This is useful in scenarios where comparisons between multiple variables are required."
      ],
      "metadata": {
        "id": "oDN748mgRtQQ"
      }
    },
    {
      "cell_type": "code",
      "source": [
        " #Taking three numbers as input from the user\n",
        "a = float(input(\"Enter the first number: \"))\n",
        "b = float(input(\"Enter the second number: \"))\n",
        "c = float(input(\"Enter the third number: \"))\n",
        "\n",
        "if a>=b and b>=c:\n",
        "  print(f\"{a} is largest\")\n",
        "elif b>=a and b>=c:\n",
        "  print(f\"{b} is largest\")\n",
        "else :\n",
        "  print(f\"{c} is largest\")\n",
        "\n",
        "\n"
      ],
      "metadata": {
        "colab": {
          "base_uri": "https://localhost:8080/"
        },
        "id": "D_-6lgs7tRC6",
        "outputId": "01baca18-819f-45c7-ac58-2ffdb1242850"
      },
      "execution_count": null,
      "outputs": [
        {
          "output_type": "stream",
          "name": "stdout",
          "text": [
            "Enter the first number: 10\n",
            "Enter the second number: 20\n",
            "Enter the third number: 20\n",
            "20.0 is largest\n"
          ]
        }
      ]
    },
    {
      "cell_type": "code",
      "source": [
        "# Taking three numbers as input from the user\n",
        "num1 = float(input(\"Enter the first number: \"))\n",
        "num2 = float(input(\"Enter the second number: \"))\n",
        "num3 = float(input(\"Enter the third number: \"))\n",
        "\n",
        "\n",
        "\n",
        "\n",
        "if num1 >= num2:\n",
        "    if num1 >= num3:\n",
        "        largest = num1\n",
        "        print(f\"1: {largest}\")\n",
        "    else:\n",
        "        largest = num3\n",
        "        print(f\"3: {largest}\")\n",
        "else:\n",
        "    if num2 >= num3:\n",
        "        largest = num2\n",
        "        print(f\"2: {largest}\")\n",
        "    else:\n",
        "        largest = num3\n",
        "        print(f\"3: {largest}\")\n",
        "\n",
        "print(f\"The largest number is {largest}\")\n"
      ],
      "metadata": {
        "colab": {
          "base_uri": "https://localhost:8080/"
        },
        "id": "Wj8wIMZ4HbXw",
        "outputId": "c68c8fc4-ae29-44e8-b6ac-7803402fea8b"
      },
      "execution_count": null,
      "outputs": [
        {
          "output_type": "stream",
          "name": "stdout",
          "text": [
            "Enter the first number: 100\n",
            "Enter the second number: -120\n",
            "Enter the third number: 120\n",
            "3: 120.0\n",
            "The largest number is 120.0\n"
          ]
        }
      ]
    },
    {
      "cell_type": "markdown",
      "source": [
        "### Example: Grading System"
      ],
      "metadata": {
        "id": "GANJEISqR0I1"
      }
    },
    {
      "cell_type": "markdown",
      "source": [
        "This example shows how to implement a grading system using if-elif-else statements. Based on the marks obtained, the program assigns a grade to the student."
      ],
      "metadata": {
        "id": "QCK7yOlfR26s"
      }
    },
    {
      "cell_type": "code",
      "source": [
        "# Taking the marks as input from the user\n",
        "marks = float(input(\"Enter the marks: \"))\n",
        "\n",
        "# Assigning grades based on the marks\n",
        "if marks >= 90:\n",
        "    grade = 'A'\n",
        "elif marks >= 80:\n",
        "    grade = 'B'\n",
        "elif marks >= 70:\n",
        "    grade = 'C'\n",
        "elif marks >= 60:\n",
        "    grade = 'D'\n",
        "elif marks >= 50:\n",
        "    grade = 'E'\n",
        "else:\n",
        "    grade = 'F'\n",
        "\n",
        "print(f'Your grade is {grade}')"
      ],
      "metadata": {
        "colab": {
          "base_uri": "https://localhost:8080/"
        },
        "id": "f1J6TFnbRwal",
        "outputId": "8b73b8c4-e72c-49dd-b6ab-a9e552f08d3b"
      },
      "execution_count": null,
      "outputs": [
        {
          "output_type": "stream",
          "name": "stdout",
          "text": [
            "Enter the marks: 98.090\n",
            "Your grade is A\n"
          ]
        }
      ]
    },
    {
      "cell_type": "markdown",
      "source": [
        "### Example: Check Leap Year"
      ],
      "metadata": {
        "id": "5K0r9NjDR8OD"
      }
    },
    {
      "cell_type": "markdown",
      "source": [
        "- This example illustrates the use of if-elif-else statements to check if a given year is a leap year.\n",
        "- A leap year is exactly divisible by 4 except for years that are exactly divisible by 100.\n",
        "- The centurial years are leap years only if they are exactly divisible by 400."
      ],
      "metadata": {
        "id": "OXZGHjzbR-Ru"
      }
    },
    {
      "cell_type": "code",
      "source": [
        "year =int(input(\"enter year to find leap year: \"))\n",
        "\n",
        "if year %4==0:\n",
        "  if year %100==0:\n",
        "    if year%400==0:\n",
        "      print(f\"its a leap year {year}\")\n",
        "    else:\n",
        "      print(f\"its not a leap year {year}\")\n",
        "  else:\n",
        "    print(f\"its a leap year {year}\")\n",
        "else:\n",
        "  print(f\"its not a leap year {year}\")"
      ],
      "metadata": {
        "colab": {
          "base_uri": "https://localhost:8080/"
        },
        "id": "59fM51mSQWFT",
        "outputId": "34a2ca5c-7f8a-4f28-c0a0-6e2c8dd53735"
      },
      "execution_count": null,
      "outputs": [
        {
          "output_type": "stream",
          "name": "stdout",
          "text": [
            "enter year to find leap year: 360\n",
            "its a leap year 360\n"
          ]
        }
      ]
    },
    {
      "cell_type": "code",
      "source": [
        "if (year % 4 == 0 and year % 100 != 0) or (year % 400 == 0):\n",
        "    print(f\"its a leap year {year}\")\n",
        "else:\n",
        "    print(f\"its not a leap year {year}\")"
      ],
      "metadata": {
        "colab": {
          "base_uri": "https://localhost:8080/"
        },
        "id": "_VVxPzCpyMzI",
        "outputId": "80861281-cd47-4d5f-f891-f9675b76c675"
      },
      "execution_count": null,
      "outputs": [
        {
          "output_type": "stream",
          "name": "stdout",
          "text": [
            "its a leap year 360\n"
          ]
        }
      ]
    },
    {
      "cell_type": "markdown",
      "source": [
        "### Example: Menu-Driven Program for Simple Calculator"
      ],
      "metadata": {
        "id": "a_tkT8VcSKm5"
      }
    },
    {
      "cell_type": "markdown",
      "source": [
        "- This example presents a menu-driven program that performs basic arithmetic operations (addition, subtraction, multiplication, and division) based on the user's choice.\n",
        "- It demonstrates the practical use of if-elif-else statements in creating interactive programs."
      ],
      "metadata": {
        "id": "5u-OE0VkSMqX"
      }
    },
    {
      "cell_type": "code",
      "source": [
        "# Displaying the menu\n",
        "print(\"Simple Calculator\")\n",
        "print(\"1. Addition\")\n",
        "print(\"2. Subtraction\")\n",
        "print(\"3. Multiplication\")\n",
        "print(\"4. Division\")\n",
        "\n",
        "# Taking the user's choice\n",
        "choice = int(input(\"Enter your choice (1-4): \"))\n",
        "\n",
        "# Taking two numbers as input from the user\n",
        "num1 = float(input(\"Enter the first number: \"))\n",
        "num2 = float(input(\"Enter the second number: \"))\n",
        "\n",
        "# Performing the corresponding arithmetic operation\n",
        "if choice == 1:\n",
        "    result = num1 + num2\n",
        "    operation = \"Addition\"\n",
        "elif choice == 2:\n",
        "    result = num1 - num2\n",
        "    operation = \"Subtraction\"\n",
        "elif choice == 3:\n",
        "    result = num1 * num2\n",
        "    operation = \"Multiplication\"\n",
        "elif choice == 4:\n",
        "    if num2 != 0:\n",
        "        result = num1 / num2\n",
        "        operation = \"Division\"\n",
        "    else:\n",
        "        result = \"undefined (division by zero)\"\n",
        "        operation = \"Division\"\n",
        "else:\n",
        "    result = \"Invalid choice\"\n",
        "    operation = \"None\"\n",
        "\n",
        "print(f'The result of the {operation} is {result}')"
      ],
      "metadata": {
        "colab": {
          "base_uri": "https://localhost:8080/",
          "height": 349
        },
        "id": "gih1hHBzSET6",
        "outputId": "76892720-1b2b-49a0-beb8-b39ac2e4a6fc"
      },
      "execution_count": null,
      "outputs": [
        {
          "name": "stdout",
          "output_type": "stream",
          "text": [
            "Simple Calculator\n",
            "1. Addition\n",
            "2. Subtraction\n",
            "3. Multiplication\n",
            "4. Division\n",
            "Enter your choice (1-4): 4\n",
            "Enter the first number: 10\n",
            "Enter the second number: 0\n"
          ]
        },
        {
          "output_type": "error",
          "ename": "ZeroDivisionError",
          "evalue": "float division by zero",
          "traceback": [
            "\u001b[0;31m---------------------------------------------------------------------------\u001b[0m",
            "\u001b[0;31mZeroDivisionError\u001b[0m                         Traceback (most recent call last)",
            "\u001b[0;32m<ipython-input-44-a7621d6885c9>\u001b[0m in \u001b[0;36m<cell line: 0>\u001b[0;34m()\u001b[0m\n\u001b[1;32m     28\u001b[0m         \u001b[0moperation\u001b[0m \u001b[0;34m=\u001b[0m \u001b[0;34m\"Division\"\u001b[0m\u001b[0;34m\u001b[0m\u001b[0;34m\u001b[0m\u001b[0m\n\u001b[1;32m     29\u001b[0m     \u001b[0;32melse\u001b[0m\u001b[0;34m:\u001b[0m\u001b[0;34m\u001b[0m\u001b[0;34m\u001b[0m\u001b[0m\n\u001b[0;32m---> 30\u001b[0;31m         \u001b[0mresult\u001b[0m \u001b[0;34m=\u001b[0m\u001b[0mnum1\u001b[0m \u001b[0;34m/\u001b[0m \u001b[0mnum2\u001b[0m\u001b[0;34m\u001b[0m\u001b[0;34m\u001b[0m\u001b[0m\n\u001b[0m\u001b[1;32m     31\u001b[0m         \u001b[0moperation\u001b[0m \u001b[0;34m=\u001b[0m \u001b[0;34m\"Division\"\u001b[0m\u001b[0;34m\u001b[0m\u001b[0;34m\u001b[0m\u001b[0m\n\u001b[1;32m     32\u001b[0m \u001b[0;32melse\u001b[0m\u001b[0;34m:\u001b[0m\u001b[0;34m\u001b[0m\u001b[0;34m\u001b[0m\u001b[0m\n",
            "\u001b[0;31mZeroDivisionError\u001b[0m: float division by zero"
          ]
        }
      ]
    },
    {
      "cell_type": "markdown",
      "source": [
        "##QUESTIONS\n"
      ],
      "metadata": {
        "id": "GXcLA-urIAv_"
      }
    },
    {
      "cell_type": "markdown",
      "source": [
        "1. take 2 numbers are find which is the greater one\n",
        "2. Check if a person is eligible to donate blood. A person must be older than 18 and weigh more than 50 kg to be eligible.\n",
        "3. Write a program to check if a number is positive, negative, or zero. Additionally, if the number is positive, check if it is even or odd.\n",
        "4. Write a program to check if a number x = 45 lies within these ranges:\n",
        "0 to 20: Print \"Low range\"\n",
        "21 to 50: Print \"Medium range\"\n",
        "Above 50: Print \"High range\"\n",
        "5. Write a program to categorize a person’s BMI (Body Mass Index) based on the following:\n",
        "BMI < 18.5: \"Underweight\"\n"
      ],
      "metadata": {
        "id": "jtITzsj26Bz0"
      }
    },
    {
      "cell_type": "code",
      "source": [
        "a = int(input(\"enter value of a = \"))\n",
        "b = int(input(\"enter value of b = \"))\n",
        "if a>=b:\n",
        "  if b==a:\n",
        "    print(f\"value of a is equals to b\")\n",
        "  else:\n",
        "      print(f\"value of a is greater than b --> {a} > {b}\")\n",
        "else:\n",
        "  print(f\"value of b is greater than a --> {a} > {b}\")\n",
        "\n"
      ],
      "metadata": {
        "colab": {
          "base_uri": "https://localhost:8080/"
        },
        "id": "1lxt6pJF6Fb7",
        "outputId": "7e67d322-9c00-4bbf-eac8-456d56571efc"
      },
      "execution_count": 1,
      "outputs": [
        {
          "output_type": "stream",
          "name": "stdout",
          "text": [
            "enter value of a = 90\n",
            "enter value of b = 900\n",
            "value of b is greater than a --> 90 > 900\n"
          ]
        }
      ]
    },
    {
      "cell_type": "code",
      "source": [
        "age = float(input(\"enter value of age = \"))\n",
        "weight = float(input(\"enter value of wt = \"))\n",
        "if age > 18:\n",
        "  if weight > 50:\n",
        "    print(\"eligible to donate blood\")\n",
        "  else:\n",
        "    print(\"not eligible to donate blood\")\n",
        "else:\n",
        "  print(\"not eligible to donate blood\")\n",
        "\n",
        "\n",
        "age = float(input(\"enter value of age = \"))\n",
        "weight = float(input(\"enter value of wt = \"))\n",
        "if (age > 18 and weight >= 50):\n",
        "  print(\"eligible to donate blood\")\n",
        "else:\n",
        "  print(\"not eligible to donate blood\")"
      ],
      "metadata": {
        "colab": {
          "base_uri": "https://localhost:8080/"
        },
        "id": "CWHtgJAF62An",
        "outputId": "4cf5175d-bb17-4d47-f5d7-2b9669d21187"
      },
      "execution_count": 2,
      "outputs": [
        {
          "output_type": "stream",
          "name": "stdout",
          "text": [
            "enter value of age = 19\n",
            "enter value of wt = 27\n",
            "not eligible to donate blood\n",
            "enter value of age = 19\n",
            "enter value of wt = 50\n",
            "not eligible to donate blood\n"
          ]
        }
      ]
    },
    {
      "cell_type": "code",
      "source": [
        "#Write a program to check if a number is positive, negative, or zero. Additionally, if the number is positive, check if it is even or odd.\n",
        "a =int(input(\"value of a \"))\n",
        "\n",
        "if a>0:\n",
        "  print(\"positive\")\n",
        "  if a%2==0:\n",
        "    print(\"even\")\n",
        "  else :\n",
        "    print(\"odd\")\n",
        "elif a==0:\n",
        "  print(\"zero\")\n",
        "else:\n",
        "  print(\"negative\")"
      ],
      "metadata": {
        "colab": {
          "base_uri": "https://localhost:8080/"
        },
        "id": "axn9tsdB7EBs",
        "outputId": "7331148c-f2c7-4898-dc5c-77bd52db238d"
      },
      "execution_count": 3,
      "outputs": [
        {
          "output_type": "stream",
          "name": "stdout",
          "text": [
            "value of a 120\n",
            "positive\n",
            "even\n"
          ]
        }
      ]
    },
    {
      "cell_type": "code",
      "source": [
        "\"\"\"Write a program to check if a number x = 45\n",
        "lies within these ranges: 0 to 20: Print \"Low range\" 21 to 50: Print \"Medium range\" Above 50: Print \"High range\"\"\"\n",
        "\n",
        "x =45\n",
        "if x>=0 and x<=20:\n",
        "  print(\"low range\")\n",
        "elif x>=21 and x<=50:\n",
        "  print(\"medium range\")\n",
        "else:\n",
        "  print(\"high range\")\n"
      ],
      "metadata": {
        "colab": {
          "base_uri": "https://localhost:8080/"
        },
        "id": "dZ3yr3557dMt",
        "outputId": "633332aa-265b-4ab5-d680-e06d631113c9"
      },
      "execution_count": null,
      "outputs": [
        {
          "output_type": "stream",
          "name": "stdout",
          "text": [
            "medium range\n"
          ]
        }
      ]
    },
    {
      "cell_type": "code",
      "source": [
        "## Write a program to categorize a person’s BMI (Body Mass Index) based on the following: BMI < 18.5: \"Underweight\"\n",
        "''' BMI < 18.5: \"Underweight\"\n",
        "18.5 <= BMI < 25: \"Normal weight\"\n",
        "25 <= BMI < 30: \"Overweight\"\n",
        "BMI >= 30: \"Obesity\" '''\n",
        "\n",
        "BMI_input =float(input(\"value of bmi \"))\n",
        "if BMI_input<18.5:\n",
        "  print(\"Underweight\")\n",
        "elif 18.5 <= BMI_input < 25:\n",
        "  print(\"Normal weight\")\n",
        "elif 25 <= BMI_input < 30:\n",
        "  print(\"Overweight\")\n",
        "elif BMI_input >=30 :\n",
        "  print(\"Obesity\")\n",
        "\n"
      ],
      "metadata": {
        "colab": {
          "base_uri": "https://localhost:8080/"
        },
        "id": "4UCXHZxc76go",
        "outputId": "54320f68-39b0-47e0-ead0-4cb2d78d0dab"
      },
      "execution_count": null,
      "outputs": [
        {
          "output_type": "stream",
          "name": "stdout",
          "text": [
            "value of bmi -90\n",
            "Underweight\n"
          ]
        }
      ]
    },
    {
      "cell_type": "markdown",
      "source": [
        "## using and or together"
      ],
      "metadata": {
        "id": "lsUvUcxOU09L"
      }
    },
    {
      "cell_type": "code",
      "source": [
        "attendance = 90\n",
        "assignment =70\n",
        "sports = True\n",
        "if attendance>=75 and assignment>=70:\n",
        " if sports:\n",
        "  print(\"exam eligible and grace+10\")\n",
        " else:\n",
        "  print(\"exam  eligible with  no grace\")\n",
        "else :\n",
        "  print(\"not eligible for exam\")\n",
        "print('outside if')"
      ],
      "metadata": {
        "id": "Gdcx_bYET6mD",
        "colab": {
          "base_uri": "https://localhost:8080/"
        },
        "outputId": "ee6cb47e-6f2d-44ef-f384-ea0e9137cb35"
      },
      "execution_count": 4,
      "outputs": [
        {
          "output_type": "stream",
          "name": "stdout",
          "text": [
            "exam eligible and grace+10\n",
            "outside if\n"
          ]
        }
      ]
    },
    {
      "cell_type": "code",
      "source": [
        "marks = 30\n",
        "attend=80\n",
        "\n",
        "if marks>55:\n",
        "  if attend >75:\n",
        "    print(\"pass and 1st div\")\n",
        "  else:\n",
        "      print(\"pass but not 1st division\")\n",
        "else:\n",
        "  print(\"fail\")\n",
        "\n",
        "#print(\"result not declared\")"
      ],
      "metadata": {
        "colab": {
          "base_uri": "https://localhost:8080/"
        },
        "id": "9Yf5eXz8ykXE",
        "outputId": "2379d851-1df8-47db-a1d1-fdfd552545d2"
      },
      "execution_count": null,
      "outputs": [
        {
          "output_type": "stream",
          "name": "stdout",
          "text": [
            "fail\n",
            "result not declared\n"
          ]
        }
      ]
    },
    {
      "cell_type": "markdown",
      "source": [
        "## class question\n",
        "\n",
        "\n"
      ],
      "metadata": {
        "id": "fo_qxKqT4SiN"
      }
    },
    {
      "cell_type": "markdown",
      "source": [
        "### 1.Write a program to calculate the average of three subjects' marks entered by the user. Print \"Pass\" if the average is >= 40, otherwise print \"Fail.\"\n"
      ],
      "metadata": {
        "id": "5Momt5pE4_hA"
      }
    },
    {
      "cell_type": "code",
      "source": [
        "marks1 = float(input(\"enter mark for subject 1 = \"))\n",
        "marks2 = float(input(\"enter mark for subject 2 =  \"))\n",
        "marks3 = float(input(\"enter mark for subject 3 = \"))\n",
        "avg = (marks1+marks2+marks3)/3\n",
        "\n",
        "if avg>=40:\n",
        "  print(f\"pass and average is {avg}\")\n",
        "else:\n",
        "  print(f\"fail and average is {avg}\")\n"
      ],
      "metadata": {
        "id": "2aNurRhS5Q6S",
        "outputId": "1c224ae4-afa3-4f73-c5f2-29a05f2afcec",
        "colab": {
          "base_uri": "https://localhost:8080/"
        }
      },
      "execution_count": null,
      "outputs": [
        {
          "output_type": "stream",
          "name": "stdout",
          "text": [
            "enter mark for subject 1 = 40\n",
            "enter mark for subject 2 =  43\n",
            "enter mark for subject 3 = 42\n",
            "pass and average is 41.666666666666664\n"
          ]
        }
      ]
    },
    {
      "cell_type": "markdown",
      "source": [
        "### 2. Write a program to take two numbers as input and print whether they are equal, the first is greater, or the second is greater.\n"
      ],
      "metadata": {
        "id": "55XxCb4C5ROR"
      }
    },
    {
      "cell_type": "code",
      "source": [
        "num1 = float(input(\"enter num1 = \"))\n",
        "num2 = float(input(\"enter num2 =  \"))\n",
        "\n",
        "if num1 ==num2:\n",
        "  print(f\"numbers are equal \")\n",
        "elif num1>num2:\n",
        "  print(\"num1 is greater\")\n",
        "else:\n",
        "   print(\"num2 is greater\")\n"
      ],
      "metadata": {
        "id": "xms6INQ15TZ_",
        "outputId": "936dfef6-2292-4454-fc37-2c11d12f36aa",
        "colab": {
          "base_uri": "https://localhost:8080/"
        }
      },
      "execution_count": null,
      "outputs": [
        {
          "output_type": "stream",
          "name": "stdout",
          "text": [
            "enter num1 = 13\n",
            "enter num2 =  12\n",
            "num1 is greater\n"
          ]
        }
      ]
    },
    {
      "cell_type": "markdown",
      "source": [
        "### 3.Ask the user to input a number. Print \"Divisible by both 3 and 5\" if true, otherwise print \"Not divisible by both.\"\n"
      ],
      "metadata": {
        "id": "SdVx_lae5Vsv"
      }
    },
    {
      "cell_type": "code",
      "source": [
        "num = float(input(\"enter num = \"))\n",
        "if num%5==0 and num%3==0:\n",
        "  print(\"Divisible by both 3 and 5\")\n",
        "else:\n",
        "  print(\"not Divisible by both 3 and 5\")"
      ],
      "metadata": {
        "id": "daWEDoTA5XxP",
        "outputId": "d65d6ac9-8c60-4a9a-be30-98d60cbc6ef6",
        "colab": {
          "base_uri": "https://localhost:8080/"
        }
      },
      "execution_count": null,
      "outputs": [
        {
          "output_type": "stream",
          "name": "stdout",
          "text": [
            "enter num = 21\n",
            "not Divisible by both 3 and 5\n"
          ]
        }
      ]
    },
    {
      "cell_type": "markdown",
      "source": [
        "### 4.Take three angles of a triangle as input. Print \"Valid triangle\" if the sum is 180, otherwise print \"Invalid triangle.\"\n"
      ],
      "metadata": {
        "id": "Q4A0aF2F5YNl"
      }
    },
    {
      "cell_type": "code",
      "source": [
        "num1 = float(input(\"enter mark for num 1 = \"))\n",
        "num2 = float(input(\"enter mark for num 2 =  \"))\n",
        "num3 = float(input(\"enter mark for num 3 = \"))\n",
        "sum = num1+num2+num3\n",
        "\n",
        "if sum>=180:\n",
        "  print(\"its a valid triangle\")\n",
        "else:\n",
        "  print(\"its not a valid triangle\")"
      ],
      "metadata": {
        "id": "rokL2mXm5aN6",
        "outputId": "afe68481-3774-4461-ab1f-b8c2db4979c1",
        "colab": {
          "base_uri": "https://localhost:8080/"
        }
      },
      "execution_count": null,
      "outputs": [
        {
          "output_type": "stream",
          "name": "stdout",
          "text": [
            "enter mark for num 1 = 12\n",
            "enter mark for num 2 =  90\n",
            "enter mark for num 3 = 89\n",
            "its a valid traingle\n"
          ]
        }
      ]
    },
    {
      "cell_type": "markdown",
      "source": [
        "### 5.Take a number (1-7) as input and print the corresponding day of the week.\n"
      ],
      "metadata": {
        "id": "9wODQJN15alU"
      }
    },
    {
      "cell_type": "code",
      "source": [
        "day = int(input(\"enter day to find = \"))\n",
        "\n",
        "if day ==1:\n",
        "  print(\"its monday\")\n",
        "elif day ==2:\n",
        "  print(\"its tuesday\")\n",
        "elif day ==3:\n",
        "  print(\"its wednesday\")\n",
        "elif day ==4:\n",
        "  print(\"its thursday\")\n",
        "elif day ==5:\n",
        "  print(\"its friday\")\n",
        "elif day ==6:\n",
        "  print(\"its saturday\")\n",
        "elif day ==7:\n",
        "  print(\"its sunday\")\n",
        "else:\n",
        "  print(\"enter a valid day\")"
      ],
      "metadata": {
        "id": "XiBGr_Rk5c0_",
        "outputId": "c07959a9-6d01-4f27-f325-43133342fb6e",
        "colab": {
          "base_uri": "https://localhost:8080/"
        }
      },
      "execution_count": null,
      "outputs": [
        {
          "output_type": "stream",
          "name": "stdout",
          "text": [
            "enter day to find = 9\n",
            "enter a valid day\n"
          ]
        }
      ]
    },
    {
      "cell_type": "markdown",
      "source": [
        "### 6.Calculate the electricity bill based on:\n",
        "₹5/unit for the first 50 units\n",
        "₹7/unit for the next 100 units (51-150)\n",
        "₹10/unit beyond 150 units\n",
        "\n"
      ],
      "metadata": {
        "id": "V2sjPw5F5dKz"
      }
    },
    {
      "cell_type": "code",
      "source": [
        "units = int(input(\"Enter the number of units consumed: \"))\n",
        "\n",
        "if units <= 50:\n",
        "  bill = units * 5\n",
        "elif units <= 150:\n",
        "  bill = (50 * 5) + ((units - 50) * 7)\n",
        "else:\n",
        "  bill = (50 * 5) + (100 * 7) + ((units - 150) * 10)\n",
        "\n",
        "print(\"Total electricity bill: ₹\", bill)"
      ],
      "metadata": {
        "id": "_d8viTHl5fq4",
        "outputId": "937e2776-865a-48a9-d293-373b64605dfc",
        "colab": {
          "base_uri": "https://localhost:8080/"
        }
      },
      "execution_count": 6,
      "outputs": [
        {
          "output_type": "stream",
          "name": "stdout",
          "text": [
            "Enter the number of units consumed: 90\n",
            "Total electricity bill: ₹ 530\n"
          ]
        }
      ]
    }
  ]
}