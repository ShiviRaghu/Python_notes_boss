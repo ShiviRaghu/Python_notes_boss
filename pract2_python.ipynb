{
  "cells": [
    {
      "cell_type": "markdown",
      "metadata": {
        "id": "view-in-github",
        "colab_type": "text"
      },
      "source": [
        "<a href=\"https://colab.research.google.com/github/ShiviRaghu/boss/blob/practice/pract2_python.ipynb\" target=\"_parent\"><img src=\"https://colab.research.google.com/assets/colab-badge.svg\" alt=\"Open In Colab\"/></a>"
      ]
    },
    {
      "cell_type": "markdown",
      "metadata": {
        "id": "DVmVcM1LIXDE"
      },
      "source": [
        "**\n",
        "1.Reserved words in Python\n",
        "2. User input\n",
        "3. type casting | type conversion\n",
        "4. Memory block\n",
        "5. Operators\n",
        "6. Binary conversion\n",
        "**"
      ]
    },
    {
      "cell_type": "markdown",
      "metadata": {
        "id": "AB4pfW1HoReZ"
      },
      "source": [
        "## Reserved words in Python\n",
        "\n",
        "https://docs.python.org/2.5/ref/keywords.html\n",
        "\n",
        "1. We should not use reserved words as variable names\n",
        "2. Also python doesn't restrict the user to use reserved keywords as variable names\n",
        "\n",
        "and       del       from      not       while    \n",
        "as        elif      global    or        with     \n",
        "assert    else      if        pass      yield    \n",
        "break     except    import    print              \n",
        "class     exec      in        raise              \n",
        "continue  finally   is        return             \n",
        " def       for       lambda    try"
      ]
    },
    {
      "cell_type": "code",
      "execution_count": null,
      "metadata": {
        "colab": {
          "base_uri": "https://localhost:8080/"
        },
        "id": "qDOWZ_AzoTzr",
        "outputId": "cbdcf039-5d1e-4466-9617-d10d39a1ebd9"
      },
      "outputs": [
        {
          "data": {
            "text/plain": [
              "str"
            ]
          },
          "execution_count": 5,
          "metadata": {},
          "output_type": "execute_result"
        }
      ],
      "source": [
        "print = \"hi\"\n",
        "type(print)\n",
        "##print(print)\n",
        "\n",
        "#print(\"hi\")"
      ]
    },
    {
      "cell_type": "code",
      "execution_count": null,
      "metadata": {
        "id": "ePoJNznGpk-C"
      },
      "outputs": [],
      "source": [
        "del print  ##del --to retrieve print or use restart"
      ]
    },
    {
      "cell_type": "code",
      "source": [
        "import keyword\n",
        "reserved_words = keyword.kwlist\n",
        "print(reserved_words)"
      ],
      "metadata": {
        "id": "swHOG7EAT8Us",
        "outputId": "31ff828c-2fb6-436a-a9b8-b2f2346d2eff",
        "colab": {
          "base_uri": "https://localhost:8080/"
        }
      },
      "execution_count": null,
      "outputs": [
        {
          "output_type": "stream",
          "name": "stdout",
          "text": [
            "['False', 'None', 'True', 'and', 'as', 'assert', 'async', 'await', 'break', 'class', 'continue', 'def', 'del', 'elif', 'else', 'except', 'finally', 'for', 'from', 'global', 'if', 'import', 'in', 'is', 'lambda', 'nonlocal', 'not', 'or', 'pass', 'raise', 'return', 'try', 'while', 'with', 'yield']\n"
          ]
        }
      ]
    },
    {
      "cell_type": "markdown",
      "metadata": {
        "id": "hTQU39nbrXdS"
      },
      "source": [
        "## User input\n",
        "\n",
        "user takes in form of string therefore we need to convert to int etc"
      ]
    },
    {
      "cell_type": "code",
      "execution_count": null,
      "metadata": {
        "id": "HpETUdhWrcNk",
        "colab": {
          "base_uri": "https://localhost:8080/"
        },
        "outputId": "1dce6529-73a9-43b6-bced-a1bdc850ec4c"
      },
      "outputs": [
        {
          "output_type": "stream",
          "name": "stdout",
          "text": [
            "enter today's date : 2024-12-11\n",
            "todays day : wed\n",
            "today's date is 2024-12-11 and day is wed\n"
          ]
        }
      ],
      "source": [
        "date = input(\"enter today's date : \")\n",
        "day = input(\"todays day : \")\n",
        "print(f\"today's date is {date} and day is {day}\")"
      ]
    },
    {
      "cell_type": "code",
      "execution_count": null,
      "metadata": {
        "id": "EtWNoDvYT_ne",
        "colab": {
          "base_uri": "https://localhost:8080/"
        },
        "outputId": "19b3bfff-0528-4c62-8b70-7df3835b780c"
      },
      "outputs": [
        {
          "output_type": "stream",
          "name": "stdout",
          "text": [
            " value of a = 233\n",
            "value of b = shj\n",
            "sum of a + b = 233shj\n",
            "<class 'str'> <class 'str'>\n"
          ]
        }
      ],
      "source": [
        "a ,b = input(\" value of a = \") , input(\"value of b = \")\n",
        "print(f\"sum of a + b = {a + b}\")\n",
        "print(type(a),type(b))\n"
      ]
    },
    {
      "cell_type": "code",
      "source": [
        "name,offc,age = input(\"enter ur name : \"),input(\"enter ur ofc address : \"),input(\"enter ur age : \")\n",
        "print (f\"\"\"my name is {name}\n",
        "my ofc address is {offc}\n",
        "my age is {age}\"\"\")\n"
      ],
      "metadata": {
        "id": "cA12EBH9Y1VU",
        "outputId": "4221614b-a3b9-4a25-bfd7-db877d16a8b7",
        "colab": {
          "base_uri": "https://localhost:8080/"
        }
      },
      "execution_count": null,
      "outputs": [
        {
          "output_type": "stream",
          "name": "stdout",
          "text": [
            "enter ur name : iok90\n",
            "enter ur ofc address : 98^&(\n",
            "enter ur age : 90opl;[]\n",
            "my name is iok90\n",
            "my ofc address is 98^&(\n",
            "my age is 90opl;[]\n"
          ]
        }
      ]
    },
    {
      "cell_type": "markdown",
      "metadata": {
        "id": "5KhikjTOsvoz"
      },
      "source": [
        "## Explicit casting |type casting | type conversion"
      ]
    },
    {
      "cell_type": "code",
      "execution_count": null,
      "metadata": {
        "id": "b4VPkXcgs0MP",
        "colab": {
          "base_uri": "https://localhost:8080/",
          "height": 228
        },
        "outputId": "bd32a1af-ef64-4fc1-fcbb-3922f38709aa"
      },
      "outputs": [
        {
          "name": "stdout",
          "output_type": "stream",
          "text": [
            "enter num a 10\n",
            "enter num b 10.00\n"
          ]
        },
        {
          "output_type": "error",
          "ename": "ValueError",
          "evalue": "invalid literal for int() with base 10: '10.00'",
          "traceback": [
            "\u001b[0;31m---------------------------------------------------------------------------\u001b[0m",
            "\u001b[0;31mValueError\u001b[0m                                Traceback (most recent call last)",
            "\u001b[0;32m<ipython-input-23-009b8aa85c7c>\u001b[0m in \u001b[0;36m<cell line: 2>\u001b[0;34m()\u001b[0m\n\u001b[1;32m      1\u001b[0m \u001b[0ma\u001b[0m \u001b[0;34m=\u001b[0m \u001b[0mint\u001b[0m\u001b[0;34m(\u001b[0m\u001b[0minput\u001b[0m \u001b[0;34m(\u001b[0m\u001b[0;34m\"enter num a \"\u001b[0m\u001b[0;34m)\u001b[0m\u001b[0;34m)\u001b[0m\u001b[0;34m\u001b[0m\u001b[0;34m\u001b[0m\u001b[0m\n\u001b[0;32m----> 2\u001b[0;31m \u001b[0mb\u001b[0m \u001b[0;34m=\u001b[0m \u001b[0mint\u001b[0m\u001b[0;34m(\u001b[0m\u001b[0minput\u001b[0m\u001b[0;34m(\u001b[0m\u001b[0;34m\"enter num b \"\u001b[0m\u001b[0;34m)\u001b[0m\u001b[0;34m)\u001b[0m\u001b[0;34m\u001b[0m\u001b[0;34m\u001b[0m\u001b[0m\n\u001b[0m\u001b[1;32m      3\u001b[0m \u001b[0mprint\u001b[0m\u001b[0;34m(\u001b[0m\u001b[0mtype\u001b[0m\u001b[0;34m(\u001b[0m\u001b[0ma\u001b[0m\u001b[0;34m)\u001b[0m\u001b[0;34m,\u001b[0m\u001b[0mtype\u001b[0m\u001b[0;34m(\u001b[0m\u001b[0mb\u001b[0m\u001b[0;34m)\u001b[0m\u001b[0;34m)\u001b[0m\u001b[0;34m\u001b[0m\u001b[0;34m\u001b[0m\u001b[0m\n\u001b[1;32m      4\u001b[0m \u001b[0mprint\u001b[0m \u001b[0;34m(\u001b[0m\u001b[0;34mf\"sum of num is {a+b}\"\u001b[0m\u001b[0;34m)\u001b[0m\u001b[0;34m\u001b[0m\u001b[0;34m\u001b[0m\u001b[0m\n",
            "\u001b[0;31mValueError\u001b[0m: invalid literal for int() with base 10: '10.00'"
          ]
        }
      ],
      "source": [
        "a = int(input (\"enter num a \"))\n",
        "b = int(input(\"enter num b \"))\n",
        "print(type(a),type(b))\n",
        "print (f\"sum of num is {a+b}\")"
      ]
    },
    {
      "cell_type": "code",
      "source": [
        "a = int(input(\"enter value of \"))\n",
        "type(a)"
      ],
      "metadata": {
        "colab": {
          "base_uri": "https://localhost:8080/"
        },
        "id": "cbWgOwgvTKsk",
        "outputId": "484bd53d-f1f0-46bc-ba62-6dbaf47fd2e6"
      },
      "execution_count": null,
      "outputs": [
        {
          "name": "stdout",
          "output_type": "stream",
          "text": [
            "enter value of 00\n"
          ]
        },
        {
          "output_type": "execute_result",
          "data": {
            "text/plain": [
              "int"
            ]
          },
          "metadata": {},
          "execution_count": 27
        }
      ]
    },
    {
      "cell_type": "code",
      "execution_count": null,
      "metadata": {
        "colab": {
          "base_uri": "https://localhost:8080/"
        },
        "id": "I5DmBcOQtKRo",
        "outputId": "1ef9e164-a3e8-472a-c724-2d23070f30ef"
      },
      "outputs": [
        {
          "output_type": "stream",
          "name": "stdout",
          "text": [
            "enter num a 10.00\n",
            "enter num b 90\n",
            "<class 'float'> <class 'int'>\n",
            "sum of num is 100.0\n"
          ]
        }
      ],
      "source": [
        "a = float(input (\"enter num a \"))\n",
        "b = int(input(\"enter num b \"))\n",
        "print(type(a),type(b))\n",
        "print (f\"sum of num is {a+b}\")"
      ]
    },
    {
      "cell_type": "code",
      "execution_count": null,
      "metadata": {
        "colab": {
          "base_uri": "https://localhost:8080/"
        },
        "id": "zvxgGhs4WUm8",
        "outputId": "6a19f45a-ca0a-4620-9f37-21a667d65151"
      },
      "outputs": [
        {
          "output_type": "stream",
          "name": "stdout",
          "text": [
            "enter value of a = 1\n",
            "enter value of b = 2\n",
            "sum of a + b = 3\n"
          ]
        }
      ],
      "source": [
        "a = int(input(\"enter value of a = \"))\n",
        "b = int(input (\"enter value of b = \"))\n",
        "print(f\"sum of a + b = {a+b}\")"
      ]
    },
    {
      "cell_type": "markdown",
      "source": [
        "### String ----> to integer, float====only numbers\n"
      ],
      "metadata": {
        "id": "-gZF6am4d62J"
      }
    },
    {
      "cell_type": "code",
      "execution_count": null,
      "metadata": {
        "colab": {
          "base_uri": "https://localhost:8080/"
        },
        "id": "yTf9nMTXtSH4",
        "outputId": "51d6e6c8-7fc6-45cb-ea1f-d0a4ad9c1a7c"
      },
      "outputs": [
        {
          "name": "stdout",
          "output_type": "stream",
          "text": [
            "data type before: <class 'str'>, value of A: 100\n",
            "data type after: <class 'int'>, value of A: 100\n"
          ]
        }
      ],
      "source": [
        "### String ----> to integer====only numbers\n",
        "A = \"100\"\n",
        "print(f\"data type before: {type(A)}, value of A: {A}\")\n",
        "A = int(A)\n",
        "print(f\"data type after: {type(A)}, value of A: {A}\")"
      ]
    },
    {
      "cell_type": "code",
      "execution_count": null,
      "metadata": {
        "colab": {
          "base_uri": "https://localhost:8080/",
          "height": 245
        },
        "id": "Eg7hhy4_w5lc",
        "outputId": "de65e2c3-c077-472b-ba56-fa0b90c0da2c"
      },
      "outputs": [
        {
          "name": "stdout",
          "output_type": "stream",
          "text": [
            "data type before: <class 'str'>, value of A: abc\n"
          ]
        },
        {
          "ename": "ValueError",
          "evalue": "ignored",
          "output_type": "error",
          "traceback": [
            "\u001b[0;31m---------------------------------------------------------------------------\u001b[0m",
            "\u001b[0;31mValueError\u001b[0m                                Traceback (most recent call last)",
            "\u001b[0;32m<ipython-input-13-f935f93588e0>\u001b[0m in \u001b[0;36m<cell line: 4>\u001b[0;34m()\u001b[0m\n\u001b[1;32m      2\u001b[0m \u001b[0mA\u001b[0m \u001b[0;34m=\u001b[0m \u001b[0;34m\"abc\"\u001b[0m\u001b[0;34m\u001b[0m\u001b[0;34m\u001b[0m\u001b[0m\n\u001b[1;32m      3\u001b[0m \u001b[0mprint\u001b[0m\u001b[0;34m(\u001b[0m\u001b[0;34mf\"data type before: {type(A)}, value of A: {A}\"\u001b[0m\u001b[0;34m)\u001b[0m\u001b[0;34m\u001b[0m\u001b[0;34m\u001b[0m\u001b[0m\n\u001b[0;32m----> 4\u001b[0;31m \u001b[0mA\u001b[0m \u001b[0;34m=\u001b[0m \u001b[0mint\u001b[0m\u001b[0;34m(\u001b[0m\u001b[0mA\u001b[0m\u001b[0;34m)\u001b[0m\u001b[0;34m\u001b[0m\u001b[0;34m\u001b[0m\u001b[0m\n\u001b[0m\u001b[1;32m      5\u001b[0m \u001b[0mprint\u001b[0m\u001b[0;34m(\u001b[0m\u001b[0;34mf\"data type after: {type(A)}, value of A: {A}\"\u001b[0m\u001b[0;34m)\u001b[0m\u001b[0;34m\u001b[0m\u001b[0;34m\u001b[0m\u001b[0m\n",
            "\u001b[0;31mValueError\u001b[0m: invalid literal for int() with base 10: 'abc'"
          ]
        }
      ],
      "source": [
        "### String ----> to integer\n",
        "A = \"abc\"\n",
        "print(f\"data type before: {type(A)}, value of A: {A}\")\n",
        "A = int(A)\n",
        "print(f\"data type after: {type(A)}, value of A: {A}\")"
      ]
    },
    {
      "cell_type": "code",
      "execution_count": null,
      "metadata": {
        "colab": {
          "base_uri": "https://localhost:8080/",
          "height": 211
        },
        "id": "uLle7wwbuhKo",
        "outputId": "8c3b8a94-174f-4a98-ac07-24635be04220"
      },
      "outputs": [
        {
          "output_type": "stream",
          "name": "stdout",
          "text": [
            "data type before: <class 'str'>, value of A: 50.23\n"
          ]
        },
        {
          "output_type": "error",
          "ename": "ValueError",
          "evalue": "invalid literal for int() with base 10: '50.23'",
          "traceback": [
            "\u001b[0;31m---------------------------------------------------------------------------\u001b[0m",
            "\u001b[0;31mValueError\u001b[0m                                Traceback (most recent call last)",
            "\u001b[0;32m<ipython-input-33-c09e096ae3ee>\u001b[0m in \u001b[0;36m<cell line: 4>\u001b[0;34m()\u001b[0m\n\u001b[1;32m      2\u001b[0m \u001b[0mA\u001b[0m \u001b[0;34m=\u001b[0m \u001b[0;34m\"50.23\"\u001b[0m\u001b[0;34m\u001b[0m\u001b[0;34m\u001b[0m\u001b[0m\n\u001b[1;32m      3\u001b[0m \u001b[0mprint\u001b[0m\u001b[0;34m(\u001b[0m\u001b[0;34mf\"data type before: {type(A)}, value of A: {A}\"\u001b[0m\u001b[0;34m)\u001b[0m\u001b[0;34m\u001b[0m\u001b[0;34m\u001b[0m\u001b[0m\n\u001b[0;32m----> 4\u001b[0;31m \u001b[0mA\u001b[0m \u001b[0;34m=\u001b[0m \u001b[0mint\u001b[0m\u001b[0;34m(\u001b[0m\u001b[0mA\u001b[0m\u001b[0;34m)\u001b[0m\u001b[0;34m\u001b[0m\u001b[0;34m\u001b[0m\u001b[0m\n\u001b[0m\u001b[1;32m      5\u001b[0m \u001b[0mprint\u001b[0m\u001b[0;34m(\u001b[0m\u001b[0;34mf\"data type after: {type(A)}, value of A: {A}\"\u001b[0m\u001b[0;34m)\u001b[0m\u001b[0;34m\u001b[0m\u001b[0;34m\u001b[0m\u001b[0m\n",
            "\u001b[0;31mValueError\u001b[0m: invalid literal for int() with base 10: '50.23'"
          ]
        }
      ],
      "source": [
        "# String==in form of float to integer=====not possible\n",
        "A = \"50.23\"\n",
        "print(f\"data type before: {type(A)}, value of A: {A}\")\n",
        "A = int(A)\n",
        "print(f\"data type after: {type(A)}, value of A: {A}\")"
      ]
    },
    {
      "cell_type": "markdown",
      "source": [
        "### Float to integer\n",
        "### integer to float\n",
        "### integer/float to boolean\n",
        "###integer to boolean===for zero value will give you false\n",
        "###empty String to boolean=====false value"
      ],
      "metadata": {
        "id": "NfYxDt7WeLxQ"
      }
    },
    {
      "cell_type": "code",
      "execution_count": null,
      "metadata": {
        "colab": {
          "base_uri": "https://localhost:8080/"
        },
        "id": "nY3gj1fJuqAD",
        "outputId": "3e1c20e4-2c26-4afc-97d7-7041beb543d0"
      },
      "outputs": [
        {
          "output_type": "stream",
          "name": "stdout",
          "text": [
            "data type before <class 'float'>, value of a : 13.34234 \n",
            "data type after: <class 'int'>, value of A: 13\n"
          ]
        }
      ],
      "source": [
        "# Float to integer\n",
        "A = 13.34234\n",
        "print(f\"data type before {type(A)}, value of a : {A} \")\n",
        "A = int(A)\n",
        "print(f\"data type after: {type(A)}, value of A: {A}\")"
      ]
    },
    {
      "cell_type": "code",
      "execution_count": null,
      "metadata": {
        "colab": {
          "base_uri": "https://localhost:8080/"
        },
        "id": "Wou0sGKpu8KU",
        "outputId": "e250e0a1-c857-4a3d-e9ce-b4d7477507af"
      },
      "outputs": [
        {
          "output_type": "stream",
          "name": "stdout",
          "text": [
            "data type before: <class 'int'>, value of A: 50\n",
            "data type after: <class 'float'>, value of A: 50.0\n"
          ]
        }
      ],
      "source": [
        "# integer to float\n",
        "A = 50\n",
        "print(f\"data type before: {type(A)}, value of A: {A}\")\n",
        "A = float(A)\n",
        "print(f\"data type after: {type(A)}, value of A: {A}\")"
      ]
    },
    {
      "cell_type": "code",
      "execution_count": null,
      "metadata": {
        "colab": {
          "base_uri": "https://localhost:8080/"
        },
        "id": "voAv0utevX24",
        "outputId": "af524b66-bbcd-4f31-f6e2-5654c236baec"
      },
      "outputs": [
        {
          "output_type": "stream",
          "name": "stdout",
          "text": [
            "data type before: <class 'float'>, value of A: 50.9\n",
            "data type after: <class 'bool'>, value of A: True\n"
          ]
        }
      ],
      "source": [
        "# integer to boolean\n",
        "A = 50.90\n",
        "print(f\"data type before: {type(A)}, value of A: {A}\")\n",
        "A = bool(A)\n",
        "print(f\"data type after: {type(A)}, value of A: {A}\")"
      ]
    },
    {
      "cell_type": "code",
      "execution_count": null,
      "metadata": {
        "colab": {
          "base_uri": "https://localhost:8080/"
        },
        "id": "fNLtZ5Savh3t",
        "outputId": "293a6a75-4266-4a96-d460-a189022e134f"
      },
      "outputs": [
        {
          "output_type": "stream",
          "name": "stdout",
          "text": [
            "data type before: <class 'float'>, value of A: 0.0\n",
            "data type after: <class 'bool'>, value of A: False\n"
          ]
        }
      ],
      "source": [
        "##integer to boolean===for zero value will give you false\n",
        "A = 0.00\n",
        "print(f\"data type before: {type(A)}, value of A: {A}\")\n",
        "A = bool(A)\n",
        "print(f\"data type after: {type(A)}, value of A: {A}\")"
      ]
    },
    {
      "cell_type": "code",
      "execution_count": null,
      "metadata": {
        "colab": {
          "base_uri": "https://localhost:8080/"
        },
        "id": "XFA_qGhAvqR3",
        "outputId": "855883ff-6cdd-4436-e134-88d8cb102869"
      },
      "outputs": [
        {
          "output_type": "stream",
          "name": "stdout",
          "text": [
            "data type before: <class 'int'>, value of A: -7890\n",
            "data type after: <class 'bool'>, value of A: True\n"
          ]
        }
      ],
      "source": [
        "##integer to boolean\n",
        "A = -7890\n",
        "print(f\"data type before: {type(A)}, value of A: {A}\")\n",
        "A = bool(A)\n",
        "print(f\"data type after: {type(A)}, value of A: {A}\")"
      ]
    },
    {
      "cell_type": "code",
      "execution_count": null,
      "metadata": {
        "colab": {
          "base_uri": "https://localhost:8080/"
        },
        "id": "y9NlAcgnvzCK",
        "outputId": "5eba095a-5d42-4317-9820-3b2d0348e660"
      },
      "outputs": [
        {
          "output_type": "stream",
          "name": "stdout",
          "text": [
            "data type before: <class 'str'>, value of A: ada\n",
            "data type after: <class 'bool'>, value of A: True\n"
          ]
        }
      ],
      "source": [
        "##String to boolean\n",
        "A = \"ada\"\n",
        "print(f\"data type before: {type(A)}, value of A: {A}\")\n",
        "A = bool(A)\n",
        "print(f\"data type after: {type(A)}, value of A: {A}\")"
      ]
    },
    {
      "cell_type": "code",
      "execution_count": null,
      "metadata": {
        "colab": {
          "base_uri": "https://localhost:8080/"
        },
        "id": "ZgLACavlv5_I",
        "outputId": "a2120281-1a8e-4a42-9703-e1d75256fd05"
      },
      "outputs": [
        {
          "output_type": "stream",
          "name": "stdout",
          "text": [
            "data type before: <class 'str'>, value of A: True\n",
            "data type after: <class 'bool'>, value of A: True\n"
          ]
        }
      ],
      "source": [
        "##String to boolean\n",
        "A = \"True\"\n",
        "print(f\"data type before: {type(A)}, value of A: {A}\")\n",
        "A = bool(A)\n",
        "print(f\"data type after: {type(A)}, value of A: {A}\")"
      ]
    },
    {
      "cell_type": "code",
      "execution_count": null,
      "metadata": {
        "colab": {
          "base_uri": "https://localhost:8080/"
        },
        "id": "pggZzrQOv-6S",
        "outputId": "aadb1dae-2540-472e-85d1-de4e509237fd"
      },
      "outputs": [
        {
          "output_type": "stream",
          "name": "stdout",
          "text": [
            "data type before: <class 'str'>, value of A: 123\n",
            "data type after: <class 'bool'>, value of A: True\n"
          ]
        }
      ],
      "source": [
        "##String to boolean\n",
        "A = \"123\"\n",
        "print(f\"data type before: {type(A)}, value of A: {A}\")\n",
        "A = bool(A)\n",
        "print(f\"data type after: {type(A)}, value of A: {A}\")"
      ]
    },
    {
      "cell_type": "code",
      "execution_count": null,
      "metadata": {
        "colab": {
          "base_uri": "https://localhost:8080/"
        },
        "id": "5j-LRcqgwHlY",
        "outputId": "78aa8f0f-3c91-46d2-cc6b-82104e8ef040"
      },
      "outputs": [
        {
          "output_type": "stream",
          "name": "stdout",
          "text": [
            "data type before: <class 'str'>, value of A: \n",
            "data type after: <class 'bool'>, value of A: False\n"
          ]
        }
      ],
      "source": [
        "##empty String to boolean=====false value\n",
        "A = \"\"\n",
        "print(f\"data type before: {type(A)}, value of A: {A}\")\n",
        "A = bool(A)\n",
        "print(f\"data type after: {type(A)}, value of A: {A}\")"
      ]
    },
    {
      "cell_type": "code",
      "source": [
        "##empty String to int=====false value\n",
        "A = \"\"\n",
        "print(f\"data type before: {type(A)}, value of A: {A}\")\n",
        "A = int(A)\n",
        "print(f\"data type after: {type(A)}, value of A: {A}\")"
      ],
      "metadata": {
        "id": "k9W1FIR5U7KO"
      },
      "execution_count": null,
      "outputs": []
    },
    {
      "cell_type": "markdown",
      "metadata": {
        "id": "xrqTS6HZwhKe"
      },
      "source": [
        "NOTE: Converting any non zero number and string values into boolean will give True as an answer\n",
        "\n",
        "NOTE: Empty string \"\" and 00 int will give False as an answer after converting from string to boolean"
      ]
    },
    {
      "cell_type": "code",
      "execution_count": null,
      "metadata": {
        "colab": {
          "base_uri": "https://localhost:8080/"
        },
        "id": "RL1pjQHCwo--",
        "outputId": "0de1435f-e932-4f3b-c799-9d9057238487"
      },
      "outputs": [
        {
          "output_type": "stream",
          "name": "stdout",
          "text": [
            "data type before: <class 'float'>, value of A: 1.234\n",
            "data type after: <class 'int'>, value of A: 1\n"
          ]
        }
      ],
      "source": [
        "##float to int\n",
        "A = 1.234\n",
        "print(f\"data type before: {type(A)}, value of A: {A}\")\n",
        "A = int(A)\n",
        "print(f\"data type after: {type(A)}, value of A: {A}\")"
      ]
    },
    {
      "cell_type": "code",
      "execution_count": null,
      "metadata": {
        "colab": {
          "base_uri": "https://localhost:8080/"
        },
        "id": "zp-IaNohwyvv",
        "outputId": "24ca432b-2287-4653-e6ba-651cdae5fdaa"
      },
      "outputs": [
        {
          "name": "stdout",
          "output_type": "stream",
          "text": [
            "name : shi\n",
            "city: sfsd\n",
            "dob: 1997\n",
            "my name is shi\n",
            "my city is 26\n",
            "my age is sfsd\n",
            "my current age is : 26 \n"
          ]
        }
      ],
      "source": [
        "name,city,dob =input(\"name : \"),input(\"city: \"),input(\"dob: \")\n",
        "age = 2023 - int(dob)\n",
        "print(f\"\"\"my name is {name}\n",
        "my city is {age}\n",
        "my age is {city}\n",
        "my current age is : {age} \"\"\")"
      ]
    },
    {
      "cell_type": "code",
      "execution_count": null,
      "metadata": {
        "colab": {
          "base_uri": "https://localhost:8080/"
        },
        "id": "daZcrSxmXTR6",
        "outputId": "0afe224a-0a3d-4626-a5f7-eec6431dd969"
      },
      "outputs": [
        {
          "name": "stdout",
          "output_type": "stream",
          "text": [
            "value of a = 12\n",
            "value of b = 123\n",
            "sum a + b =  135\n"
          ]
        }
      ],
      "source": [
        "a = input(\"value of a = \")\n",
        "b = input (\"value of b = \")\n",
        "print(f\"sum a + b =  {int(a) + int (b)}\" )"
      ]
    },
    {
      "cell_type": "markdown",
      "metadata": {
        "id": "-YjiSkuFpRGN"
      },
      "source": [
        "## memory block"
      ]
    },
    {
      "cell_type": "code",
      "execution_count": null,
      "metadata": {
        "colab": {
          "base_uri": "https://localhost:8080/"
        },
        "id": "4DH_aab0BMUU",
        "outputId": "5aa381df-0615-4d95-f4f0-6a40e0db4083"
      },
      "outputs": [
        {
          "name": "stdout",
          "output_type": "stream",
          "text": [
            "140209328309168\n",
            "140208900116400\n",
            "140209328309168\n"
          ]
        }
      ],
      "source": [
        "a =23\n",
        "b =1324\n",
        "c = 23\n",
        "print(id(a))\n",
        "print(id(b))\n",
        "print(id(c))"
      ]
    },
    {
      "cell_type": "markdown",
      "metadata": {
        "id": "QMH4BvoVqKhI"
      },
      "source": []
    },
    {
      "cell_type": "markdown",
      "source": [],
      "metadata": {
        "id": "RHnFQEU23BzP"
      }
    },
    {
      "cell_type": "markdown",
      "source": [
        "## Equality operators\n",
        "\n",
        "Operator | uses | Meaning\n",
        "- | - | -\n",
        "is | A is B=> | return True if A and B points to the same object== same memory\n",
        "is not | A is not B | returns True if A and B do not points to the same object\n",
        "== | A == B | A is equal to B\n",
        "!= | A != B | A is not equal to B\n",
        "\n",
        "When using `is` then we are also comparing memory location\n",
        "When using `is not` then we are also comparing memory location\n",
        "\n",
        "== and != is only checking value of the variables [Used more offently or frequently]\n"
      ],
      "metadata": {
        "id": "rZ8qiUphbefq"
      }
    },
    {
      "cell_type": "code",
      "source": [
        "a =1\n",
        "b = 1\n",
        "print(id(a),id(b))\n",
        "if a is b:\n",
        "  print(\"points to same location\")\n",
        "else:\n",
        "  print(\"points to diff location\")"
      ],
      "metadata": {
        "colab": {
          "base_uri": "https://localhost:8080/"
        },
        "id": "ol8RRpXMbdUX",
        "outputId": "4d3fc16d-fe7d-400c-becb-d8ea3e5f2400"
      },
      "execution_count": null,
      "outputs": [
        {
          "output_type": "stream",
          "name": "stdout",
          "text": [
            "134067314999536 134067314999536\n",
            "points to same location\n"
          ]
        }
      ]
    },
    {
      "cell_type": "code",
      "source": [
        "a =1\n",
        "b =input(\"value of b = \")\n",
        "print(type(b))\n",
        "print(a is b)\n",
        "b =int(input(\"value of b = \"))\n",
        "print(type(a),type(b))\n",
        "print (id(a),id(b))\n",
        "a is b"
      ],
      "metadata": {
        "colab": {
          "base_uri": "https://localhost:8080/"
        },
        "id": "m9xSVFocdtyi",
        "outputId": "074c9392-72b5-4fe2-f7be-c2f4adff97fd"
      },
      "execution_count": null,
      "outputs": [
        {
          "output_type": "stream",
          "name": "stdout",
          "text": [
            "value of b = 1\n",
            "<class 'str'>\n",
            "False\n",
            "value of b = 2\n",
            "<class 'int'> <class 'int'>\n",
            "134067314999536 134067314999568\n"
          ]
        },
        {
          "output_type": "execute_result",
          "data": {
            "text/plain": [
              "False"
            ]
          },
          "metadata": {},
          "execution_count": 28
        }
      ]
    },
    {
      "cell_type": "code",
      "source": [
        "a =1\n",
        "b =1\n",
        "if a == b:\n",
        "  print(\"points to same value\")\n",
        "else:\n",
        "  print(\"points to diff value\")"
      ],
      "metadata": {
        "colab": {
          "base_uri": "https://localhost:8080/"
        },
        "id": "_CSku7SxcuBh",
        "outputId": "91c9f41a-937b-4341-fcb2-5c14c640826b"
      },
      "execution_count": null,
      "outputs": [
        {
          "output_type": "stream",
          "name": "stdout",
          "text": [
            "points to same value\n"
          ]
        }
      ]
    },
    {
      "cell_type": "code",
      "source": [
        "a =[1,2,34]   ###python array is known as list  ##and they have diff location in python\n",
        "b =[1,2,34]\n",
        "print(id(a))\n",
        "print(id(b))\n",
        "print(a is b)\n",
        "a==b"
      ],
      "metadata": {
        "colab": {
          "base_uri": "https://localhost:8080/"
        },
        "id": "4HqGE0iQdKPk",
        "outputId": "811a2da8-5769-45da-8293-586777f215e3"
      },
      "execution_count": null,
      "outputs": [
        {
          "output_type": "stream",
          "name": "stdout",
          "text": [
            "134066030935040\n",
            "134066030913408\n",
            "False\n"
          ]
        },
        {
          "output_type": "execute_result",
          "data": {
            "text/plain": [
              "True"
            ]
          },
          "metadata": {},
          "execution_count": 20
        }
      ]
    },
    {
      "cell_type": "markdown",
      "source": [
        "### Try to understand the following examples and answer the question based on it -\n",
        "    \n",
        "**Arithmatic Operators**\n",
        "\n",
        "|Operation|Meaning|\n",
        "|:-:|:-:|\n",
        "| **+** |addition|\n",
        "| **-** |subtraction|\n",
        "| **\\*** |multiplication|\n",
        "| **/** |true division|\n",
        "| **//** |integer division|\n",
        "| **%** |the modulo operator|\n",
        "\n",
        "\n",
        "Here `+`, `-`, `*`, `/` are regular arithmatic operators. Lets look at the `//` and `%` operators\n",
        "\n",
        "Usecase or examples -\n",
        "    \n",
        "```python\n",
        "var_a = 5\n",
        "var_b = 25\n",
        "integer_division = var_b // var_a\n",
        "print(f\"integer division: {var_b}/{var_a}={integer_division}\")\n",
        "```\n",
        "\n",
        "OUTPUT: integer division: 25/5=5\n",
        "\n",
        "```python\n",
        "var_a = 3\n",
        "var_b = 25\n",
        "integer_division = var_b // var_a\n",
        "print(f\"integer division: {var_b}/{var_a}={integer_division}\")\n",
        "```\n",
        "\n",
        "OUTPUT: integer division: 25/3=8\n",
        "\n",
        "```python\n",
        "var_a = 5\n",
        "var_b = 25\n",
        "remainder = var_b % var_a\n",
        "print(f\"remainder: {var_b}/{var_a} is {remainder}\")\n",
        "```\n",
        "\n",
        "OUTPUT: remainder: 25/5 is 0\n",
        "\n",
        "```python\n",
        "var_a = 3\n",
        "var_b = 25\n",
        "remainder = var_b % var_a\n",
        "print(f\"remainder: {var_b}/{var_a} is {remainder}\")\n",
        "```\n",
        "\n",
        "OUTPUT: remainder: 25/3 is 1\n",
        "\n"
      ],
      "metadata": {
        "id": "a_4kbBVWNY-4"
      }
    },
    {
      "cell_type": "code",
      "source": [
        "var_a = 5\n",
        "var_b = 23\n",
        "integer_division = var_b // var_a\n",
        "float_devision = var_b / var_a\n",
        "remainder = var_b % var_a\n",
        "print(f\"integer division: {var_b}//{var_a}={integer_division}\")\n",
        "print(f\"float division: {var_b}/{var_a}={float_devision}\")\n",
        "print(f\"remainder division: {var_b}%{var_a}={remainder}\")\n",
        "print (type(integer_division))\n",
        "print (type(float_devision))\n",
        "print (type(remainder))"
      ],
      "metadata": {
        "colab": {
          "base_uri": "https://localhost:8080/"
        },
        "id": "pSFC-IxTMpny",
        "outputId": "df3c2968-dd3a-4dfe-dcb7-2e71dd14dbdb"
      },
      "execution_count": null,
      "outputs": [
        {
          "output_type": "stream",
          "name": "stdout",
          "text": [
            "integer division: 23//5=4\n",
            "float division: 23/5=4.6\n",
            "remainder division: 23%5=3\n",
            "<class 'int'>\n",
            "<class 'float'>\n",
            "<class 'int'>\n"
          ]
        }
      ]
    },
    {
      "cell_type": "markdown",
      "source": [
        "### Comparision\n",
        "\n",
        "Operation | Meaning\n",
        "- | -\n",
        "< | A < B\n",
        "<= | A <= B\n",
        "> | A > B\n",
        ">= | A >= B"
      ],
      "metadata": {
        "id": "7snhIpNfadam"
      }
    },
    {
      "cell_type": "code",
      "source": [
        "a =5\n",
        "b =10/2\n",
        "print(type(a),type(b))\n",
        "print(a==b)\n",
        "print(a is b)\n",
        "print(\"--------\")\n",
        "a =5\n",
        "b =int(10/2)\n",
        "print(type(a),type(b))\n",
        "print(a==b)\n",
        "print(a is b)"
      ],
      "metadata": {
        "colab": {
          "base_uri": "https://localhost:8080/"
        },
        "id": "64tCiR4F6F6U",
        "outputId": "3f809236-fed0-45a6-f26e-0ae84d5e2347"
      },
      "execution_count": 1,
      "outputs": [
        {
          "output_type": "stream",
          "name": "stdout",
          "text": [
            "<class 'int'> <class 'float'>\n",
            "True\n",
            "False\n",
            "--------\n",
            "<class 'int'> <class 'int'>\n",
            "True\n",
            "True\n"
          ]
        }
      ]
    },
    {
      "cell_type": "code",
      "source": [],
      "metadata": {
        "id": "FI3W6PadNRAo"
      },
      "execution_count": null,
      "outputs": []
    }
  ],
  "metadata": {
    "colab": {
      "provenance": [],
      "include_colab_link": true
    },
    "kernelspec": {
      "display_name": "Python 3",
      "name": "python3"
    },
    "language_info": {
      "name": "python"
    }
  },
  "nbformat": 4,
  "nbformat_minor": 0
}