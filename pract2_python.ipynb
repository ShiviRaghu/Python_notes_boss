{
  "cells": [
    {
      "cell_type": "markdown",
      "metadata": {
        "id": "view-in-github",
        "colab_type": "text"
      },
      "source": [
        "<a href=\"https://colab.research.google.com/github/ShiviRaghu/boss/blob/practice/pract2_python.ipynb\" target=\"_parent\"><img src=\"https://colab.research.google.com/assets/colab-badge.svg\" alt=\"Open In Colab\"/></a>"
      ]
    },
    {
      "cell_type": "markdown",
      "metadata": {
        "id": "DVmVcM1LIXDE"
      },
      "source": [
        "1. Reserved words in Python\n",
        "2. User input\n",
        "3. type casting | type conversion\n",
        "4. Memory block\n",
        "5. Operators\n",
        "6. Binary conversion\n"
      ]
    },
    {
      "cell_type": "markdown",
      "metadata": {
        "id": "AB4pfW1HoReZ"
      },
      "source": [
        "## Reserved words in Python\n",
        "\n",
        "https://docs.python.org/2.5/ref/keywords.html\n",
        "\n",
        "1. We should not use reserved words as variable names\n",
        "2. Also python doesn't restrict the user to use reserved keywords as variable names\n",
        "\n",
        "and       del       from      not       while    \n",
        "as        elif      global    or        with     \n",
        "assert    else      if        pass      yield    \n",
        "break     except    import    print              \n",
        "class     exec      in        raise              \n",
        "continue  finally   is        return             \n",
        " def       for       lambda    try"
      ]
    },
    {
      "cell_type": "code",
      "execution_count": null,
      "metadata": {
        "colab": {
          "base_uri": "https://localhost:8080/"
        },
        "id": "qDOWZ_AzoTzr",
        "outputId": "cbdcf039-5d1e-4466-9617-d10d39a1ebd9"
      },
      "outputs": [
        {
          "data": {
            "text/plain": [
              "str"
            ]
          },
          "execution_count": 5,
          "metadata": {},
          "output_type": "execute_result"
        }
      ],
      "source": [
        "print = \"hi\"\n",
        "type(print)\n",
        "##print(print)\n",
        "\n",
        "#print(\"hi\")"
      ]
    },
    {
      "cell_type": "code",
      "execution_count": null,
      "metadata": {
        "id": "ePoJNznGpk-C"
      },
      "outputs": [],
      "source": [
        "del print  ##del --to retrieve print or use restart"
      ]
    },
    {
      "cell_type": "code",
      "source": [
        "import keyword\n",
        "reserved_words = keyword.kwlist\n",
        "print(reserved_words)"
      ],
      "metadata": {
        "id": "swHOG7EAT8Us",
        "outputId": "31ff828c-2fb6-436a-a9b8-b2f2346d2eff",
        "colab": {
          "base_uri": "https://localhost:8080/"
        }
      },
      "execution_count": null,
      "outputs": [
        {
          "output_type": "stream",
          "name": "stdout",
          "text": [
            "['False', 'None', 'True', 'and', 'as', 'assert', 'async', 'await', 'break', 'class', 'continue', 'def', 'del', 'elif', 'else', 'except', 'finally', 'for', 'from', 'global', 'if', 'import', 'in', 'is', 'lambda', 'nonlocal', 'not', 'or', 'pass', 'raise', 'return', 'try', 'while', 'with', 'yield']\n"
          ]
        }
      ]
    },
    {
      "cell_type": "markdown",
      "metadata": {
        "id": "hTQU39nbrXdS"
      },
      "source": [
        "## User input\n",
        "\n",
        "user takes in form of string therefore we need to convert to int etc"
      ]
    },
    {
      "cell_type": "code",
      "execution_count": null,
      "metadata": {
        "id": "HpETUdhWrcNk",
        "colab": {
          "base_uri": "https://localhost:8080/"
        },
        "outputId": "1dce6529-73a9-43b6-bced-a1bdc850ec4c"
      },
      "outputs": [
        {
          "output_type": "stream",
          "name": "stdout",
          "text": [
            "enter today's date : 2024-12-11\n",
            "todays day : wed\n",
            "today's date is 2024-12-11 and day is wed\n"
          ]
        }
      ],
      "source": [
        "date = input(\"enter today's date : \")\n",
        "day = input(\"todays day : \")\n",
        "print(f\"today's date is {date} and day is {day}\")"
      ]
    },
    {
      "cell_type": "code",
      "execution_count": null,
      "metadata": {
        "id": "EtWNoDvYT_ne",
        "colab": {
          "base_uri": "https://localhost:8080/"
        },
        "outputId": "19b3bfff-0528-4c62-8b70-7df3835b780c"
      },
      "outputs": [
        {
          "output_type": "stream",
          "name": "stdout",
          "text": [
            " value of a = 233\n",
            "value of b = shj\n",
            "sum of a + b = 233shj\n",
            "<class 'str'> <class 'str'>\n"
          ]
        }
      ],
      "source": [
        "a ,b = input(\" value of a = \") , input(\"value of b = \")\n",
        "print(f\"sum of a + b = {a + b}\")\n",
        "print(type(a),type(b))\n"
      ]
    },
    {
      "cell_type": "code",
      "source": [
        "name,offc,age = input(\"enter ur name : \"),input(\"enter ur ofc address : \"),input(\"enter ur age : \")\n",
        "print (f\"\"\"my name is {name}\n",
        "my ofc address is {offc}\n",
        "my age is {age}\"\"\")\n"
      ],
      "metadata": {
        "id": "cA12EBH9Y1VU",
        "outputId": "4221614b-a3b9-4a25-bfd7-db877d16a8b7",
        "colab": {
          "base_uri": "https://localhost:8080/"
        }
      },
      "execution_count": null,
      "outputs": [
        {
          "output_type": "stream",
          "name": "stdout",
          "text": [
            "enter ur name : iok90\n",
            "enter ur ofc address : 98^&(\n",
            "enter ur age : 90opl;[]\n",
            "my name is iok90\n",
            "my ofc address is 98^&(\n",
            "my age is 90opl;[]\n"
          ]
        }
      ]
    },
    {
      "cell_type": "markdown",
      "source": [
        "###**4. List**"
      ],
      "metadata": {
        "id": "2sFXjlWSe7gg"
      }
    },
    {
      "cell_type": "code",
      "source": [
        "# Example input: 1 2 3 4 5\n",
        "user_input = input(\"Enter numbers separated by spaces: \")\n",
        "list_values = user_input.split()  # Split the input string into a list of substrings\n",
        "list_values = ([int(value) for value in list_values] )# Convert substrings to integers\n",
        "print(type(list_values))\n",
        "print(\"List of integers:\", list_values)\n"
      ],
      "metadata": {
        "colab": {
          "base_uri": "https://localhost:8080/"
        },
        "id": "gfHkjv4dexDJ",
        "outputId": "ac7aad57-b6ab-4af1-cf25-c8ab89a05017"
      },
      "execution_count": 10,
      "outputs": [
        {
          "output_type": "stream",
          "name": "stdout",
          "text": [
            "Enter numbers separated by spaces: 1 2 2 2 3 45 333 \n",
            "<class 'list'>\n",
            "List of integers: [1, 2, 2, 2, 3, 45, 333]\n"
          ]
        }
      ]
    },
    {
      "cell_type": "code",
      "source": [
        "inp = input(\"enter comma seperated values : \")\n",
        "list_val = inp.split(',')\n",
        "list_val = [int (v) for v in list_val]\n",
        "print(type(list_val))\n",
        "print(\"List of integers:\", list_val)"
      ],
      "metadata": {
        "id": "o6y4lfLzXXn1",
        "outputId": "181fc026-3d2b-4c92-a540-fa6d00e8efd2",
        "colab": {
          "base_uri": "https://localhost:8080/"
        }
      },
      "execution_count": 2,
      "outputs": [
        {
          "output_type": "stream",
          "name": "stdout",
          "text": [
            "enter comma seperated values : 1,2,3,4,5\n",
            "<class 'list'>\n",
            "List of integers: [1, 2, 3, 4, 5]\n"
          ]
        }
      ]
    },
    {
      "cell_type": "markdown",
      "source": [
        "\n",
        "### **5. Tuple**\n"
      ],
      "metadata": {
        "id": "6kU9O2GpfEjk"
      }
    },
    {
      "cell_type": "code",
      "source": [
        "# Example input: (10, 20, 30)\n",
        "user_input = input(\"Enter a tuple of integers separated by commas: \")\n",
        "tuple_values = user_input.split(',')  # split by comma\n",
        "tuple_values = tuple(int(value) for value in tuple_values)  # Convert to tuple of integers\n",
        "print(\"Tuple of integers:\", tuple_values)"
      ],
      "metadata": {
        "colab": {
          "base_uri": "https://localhost:8080/"
        },
        "id": "rFQ30sWMfNdy",
        "outputId": "91ba6aea-79ae-467d-e904-a4e9e0fd0447"
      },
      "execution_count": 4,
      "outputs": [
        {
          "output_type": "stream",
          "name": "stdout",
          "text": [
            "Enter a tuple of integers separated by commas: 7,9,10\n",
            "Tuple of integers: (7, 9, 10)\n"
          ]
        }
      ]
    },
    {
      "cell_type": "markdown",
      "source": [
        "### **6.Dictionary**"
      ],
      "metadata": {
        "id": "zDBIBTR_fcSY"
      }
    },
    {
      "cell_type": "code",
      "source": [
        "# Example input: {\"name\": \"Alice\", \"age\": 30}\n",
        "import ast\n",
        "user_input = input(\"Enter a dictionary: \")\n",
        "dict_value = ast.literal_eval(user_input)  # Safely evaluate the string to a dictionary\n",
        "print(\"Dictionary value:\", dict_value)\n"
      ],
      "metadata": {
        "colab": {
          "base_uri": "https://localhost:8080/"
        },
        "id": "CLm0Wi_vfroB",
        "outputId": "44b6b395-e00b-4cf4-a832-edbc8101250b"
      },
      "execution_count": 6,
      "outputs": [
        {
          "output_type": "stream",
          "name": "stdout",
          "text": [
            "Enter a dictionary: {\"name\": \"Alice\", \"age\": 30}\n",
            "Dictionary value: {'name': 'Alice', 'age': 30}\n"
          ]
        }
      ]
    },
    {
      "cell_type": "markdown",
      "source": [
        "###**7.Set**\n"
      ],
      "metadata": {
        "id": "oTbiC2JGf2xM"
      }
    },
    {
      "cell_type": "code",
      "source": [
        "# Example input: {1, 2, 3, 4, 5}\n",
        "user_input = input(\"Enter a set of integers separated by commas: \")\n",
        "set_values = set(map(int,user_input.split(',')))  # Remove braces, split by comma, convert to set\n",
        "print(\"Set of integers:\", set_values)"
      ],
      "metadata": {
        "colab": {
          "base_uri": "https://localhost:8080/"
        },
        "id": "rfBayCtNf_BE",
        "outputId": "346d1c48-2d13-4ec7-fb93-561fcdcfc4e7"
      },
      "execution_count": 9,
      "outputs": [
        {
          "output_type": "stream",
          "name": "stdout",
          "text": [
            "Enter a set of integers separated by commas: 1,2,4,4,4,4,48,9,9\n",
            "Set of integers: {1, 2, 4, 9, 48}\n"
          ]
        }
      ]
    },
    {
      "cell_type": "code",
      "source": [
        "user_input = input(\"Enter numbers separated by spaces: \")\n",
        "list_values = user_input.split(',')  # Split the input string into a list of substrings\n",
        "list_values = set(int(value) for value in list_values )# Convert substrings to integers\n",
        "print(type(list_values))\n",
        "print(\"List of integers:\", list_values)"
      ],
      "metadata": {
        "id": "o5XqXiA6Y8X3",
        "outputId": "1b2128cb-df29-4ce5-ae51-3f03d2866d11",
        "colab": {
          "base_uri": "https://localhost:8080/"
        }
      },
      "execution_count": 12,
      "outputs": [
        {
          "output_type": "stream",
          "name": "stdout",
          "text": [
            "Enter numbers separated by spaces: 1,2,3,4,4,5,6,6\n",
            "<class 'set'>\n",
            "List of integers: {1, 2, 3, 4, 5, 6}\n"
          ]
        }
      ]
    },
    {
      "cell_type": "markdown",
      "source": [
        "### **8. Frozen Set**"
      ],
      "metadata": {
        "id": "xO7fkY3PgGwD"
      }
    },
    {
      "cell_type": "code",
      "source": [
        "# Example input: frozenset([1, 2, 3])\n",
        "user_input = input(\"Enter a frozenset of integers separated by commas: \")\n",
        "frozen_set_values = frozenset(map(int, user_input.split(',')))  # Remove frozenset, convert to frozenset\n",
        "print(\"Frozen set of integers:\", frozen_set_values)\n"
      ],
      "metadata": {
        "colab": {
          "base_uri": "https://localhost:8080/"
        },
        "id": "XEoP4OG0gLQd",
        "outputId": "530b3cf6-57c2-4fda-f438-07acfc169784"
      },
      "execution_count": 13,
      "outputs": [
        {
          "output_type": "stream",
          "name": "stdout",
          "text": [
            "Enter a frozenset of integers separated by commas: 1,2,3,4,3,3,33,3\n",
            "Frozen set of integers: frozenset({1, 2, 3, 4, 33})\n"
          ]
        }
      ]
    },
    {
      "cell_type": "markdown",
      "source": [
        "### **9. Boolean**"
      ],
      "metadata": {
        "id": "nLFLJWUjgUR1"
      }
    },
    {
      "cell_type": "code",
      "source": [
        "user_input = input(\"Enter a boolean value (True/False): \")\n",
        "boolean_value = user_input.strip() == 'True'  # Convert input to boolean\n",
        "print(\"Boolean value:\", boolean_value)"
      ],
      "metadata": {
        "colab": {
          "base_uri": "https://localhost:8080/"
        },
        "id": "X2w9KS_sgdnd",
        "outputId": "0b49682f-ee78-4799-c70a-362bd627e649"
      },
      "execution_count": 19,
      "outputs": [
        {
          "output_type": "stream",
          "name": "stdout",
          "text": [
            "Enter a boolean value (True/False): xyz\n",
            "Boolean value: False\n"
          ]
        }
      ]
    },
    {
      "cell_type": "markdown",
      "source": [
        "### **10. None Type**"
      ],
      "metadata": {
        "id": "1eXiGhiggc2p"
      }
    },
    {
      "cell_type": "code",
      "source": [
        "# Example input: None\n",
        "user_input = input(\"Enter 'None': \")\n",
        "none_value = None if user_input.strip() == 'None' else \"not none\"\n",
        "print(\"None value:\", none_value)\n"
      ],
      "metadata": {
        "colab": {
          "base_uri": "https://localhost:8080/"
        },
        "id": "t73RhNaPgs07",
        "outputId": "bb814a06-e960-4865-efe7-564c37808861"
      },
      "execution_count": 23,
      "outputs": [
        {
          "output_type": "stream",
          "name": "stdout",
          "text": [
            "Enter 'None': xyz\n",
            "None value: not none\n"
          ]
        }
      ]
    },
    {
      "cell_type": "markdown",
      "source": [
        "## implict casting -\n",
        " occurs automatically when Python converts one data type to another without the need for explicit intervention by the user."
      ],
      "metadata": {
        "id": "0o7vtgU0YIn0"
      }
    },
    {
      "cell_type": "code",
      "source": [
        "x = 5    # Integer\n",
        "y = 3.0  # Float\n",
        "\n",
        "result = x + y  # x is implicitly converted to float\n",
        "print(result)   # Output: 8.0\n",
        "print(type(result))  # Output: <class 'float'>\n"
      ],
      "metadata": {
        "id": "MMoh3HrsYNHR",
        "outputId": "915d9b3a-b91c-41dc-deff-89e9a9176d5b",
        "colab": {
          "base_uri": "https://localhost:8080/"
        }
      },
      "execution_count": 1,
      "outputs": [
        {
          "output_type": "stream",
          "name": "stdout",
          "text": [
            "8.0\n",
            "<class 'float'>\n"
          ]
        }
      ]
    },
    {
      "cell_type": "markdown",
      "metadata": {
        "id": "5KhikjTOsvoz"
      },
      "source": [
        "## Explicit casting |type casting | type conversion\n",
        "\n",
        "**direct string in form of float to integer is not possible**\n",
        "\n"
      ]
    },
    {
      "cell_type": "code",
      "execution_count": 2,
      "metadata": {
        "id": "b4VPkXcgs0MP",
        "colab": {
          "base_uri": "https://localhost:8080/"
        },
        "outputId": "d9111b45-596c-4501-e29a-fcb04989a7d0"
      },
      "outputs": [
        {
          "output_type": "stream",
          "name": "stdout",
          "text": [
            "enter num a 12\n",
            "enter num b 12\n",
            "<class 'int'> <class 'int'>\n",
            "sum of num is 24\n"
          ]
        }
      ],
      "source": [
        "a = int(input (\"enter num a \"))\n",
        "b = int(input(\"enter num b \"))\n",
        "print(type(a),type(b))\n",
        "print (f\"sum of num is {a+b}\")"
      ]
    },
    {
      "cell_type": "code",
      "source": [
        "a = int(input(\"enter value of \"))\n",
        "type(a)"
      ],
      "metadata": {
        "colab": {
          "base_uri": "https://localhost:8080/"
        },
        "id": "cbWgOwgvTKsk",
        "outputId": "46f77328-3d8f-4ee9-984b-f24332ec6e95"
      },
      "execution_count": 3,
      "outputs": [
        {
          "name": "stdout",
          "output_type": "stream",
          "text": [
            "enter value of 109\n"
          ]
        },
        {
          "output_type": "execute_result",
          "data": {
            "text/plain": [
              "int"
            ]
          },
          "metadata": {},
          "execution_count": 3
        }
      ]
    },
    {
      "cell_type": "code",
      "execution_count": 5,
      "metadata": {
        "colab": {
          "base_uri": "https://localhost:8080/",
          "height": 228
        },
        "id": "I5DmBcOQtKRo",
        "outputId": "b988ffb1-7b41-4e6a-b2c3-e81ec8881c2d"
      },
      "outputs": [
        {
          "name": "stdout",
          "output_type": "stream",
          "text": [
            "enter num a 12\n",
            "enter num b 12.00\n"
          ]
        },
        {
          "output_type": "error",
          "ename": "ValueError",
          "evalue": "invalid literal for int() with base 10: '12.00'",
          "traceback": [
            "\u001b[0;31m---------------------------------------------------------------------------\u001b[0m",
            "\u001b[0;31mValueError\u001b[0m                                Traceback (most recent call last)",
            "\u001b[0;32m<ipython-input-5-b52d1c8d9fe6>\u001b[0m in \u001b[0;36m<cell line: 2>\u001b[0;34m()\u001b[0m\n\u001b[1;32m      1\u001b[0m \u001b[0ma\u001b[0m \u001b[0;34m=\u001b[0m \u001b[0mfloat\u001b[0m\u001b[0;34m(\u001b[0m\u001b[0minput\u001b[0m \u001b[0;34m(\u001b[0m\u001b[0;34m\"enter num a \"\u001b[0m\u001b[0;34m)\u001b[0m\u001b[0;34m)\u001b[0m\u001b[0;34m\u001b[0m\u001b[0;34m\u001b[0m\u001b[0m\n\u001b[0;32m----> 2\u001b[0;31m \u001b[0mb\u001b[0m \u001b[0;34m=\u001b[0m \u001b[0mint\u001b[0m\u001b[0;34m(\u001b[0m\u001b[0minput\u001b[0m\u001b[0;34m(\u001b[0m\u001b[0;34m\"enter num b \"\u001b[0m\u001b[0;34m)\u001b[0m\u001b[0;34m)\u001b[0m\u001b[0;34m\u001b[0m\u001b[0;34m\u001b[0m\u001b[0m\n\u001b[0m\u001b[1;32m      3\u001b[0m \u001b[0mprint\u001b[0m\u001b[0;34m(\u001b[0m\u001b[0mtype\u001b[0m\u001b[0;34m(\u001b[0m\u001b[0ma\u001b[0m\u001b[0;34m)\u001b[0m\u001b[0;34m,\u001b[0m\u001b[0mtype\u001b[0m\u001b[0;34m(\u001b[0m\u001b[0mb\u001b[0m\u001b[0;34m)\u001b[0m\u001b[0;34m)\u001b[0m\u001b[0;34m\u001b[0m\u001b[0;34m\u001b[0m\u001b[0m\n\u001b[1;32m      4\u001b[0m \u001b[0mprint\u001b[0m \u001b[0;34m(\u001b[0m\u001b[0;34mf\"sum of num is {a+b}\"\u001b[0m\u001b[0;34m)\u001b[0m\u001b[0;34m\u001b[0m\u001b[0;34m\u001b[0m\u001b[0m\n",
            "\u001b[0;31mValueError\u001b[0m: invalid literal for int() with base 10: '12.00'"
          ]
        }
      ],
      "source": [
        "a = float(input (\"enter num a \"))\n",
        "b = int(input(\"enter num b \"))\n",
        "print(type(a),type(b))\n",
        "print (f\"sum of num is {a+b}\")"
      ]
    },
    {
      "cell_type": "code",
      "execution_count": null,
      "metadata": {
        "colab": {
          "base_uri": "https://localhost:8080/"
        },
        "id": "zvxgGhs4WUm8",
        "outputId": "6a19f45a-ca0a-4620-9f37-21a667d65151"
      },
      "outputs": [
        {
          "output_type": "stream",
          "name": "stdout",
          "text": [
            "enter value of a = 1\n",
            "enter value of b = 2\n",
            "sum of a + b = 3\n"
          ]
        }
      ],
      "source": [
        "a = int(input(\"enter value of a = \"))\n",
        "b = int(input (\"enter value of b = \"))\n",
        "print(f\"sum of a + b = {a+b}\")"
      ]
    },
    {
      "cell_type": "markdown",
      "source": [
        "### String ----> to integer, float====only numbers\n"
      ],
      "metadata": {
        "id": "-gZF6am4d62J"
      }
    },
    {
      "cell_type": "code",
      "execution_count": null,
      "metadata": {
        "colab": {
          "base_uri": "https://localhost:8080/"
        },
        "id": "yTf9nMTXtSH4",
        "outputId": "51d6e6c8-7fc6-45cb-ea1f-d0a4ad9c1a7c"
      },
      "outputs": [
        {
          "name": "stdout",
          "output_type": "stream",
          "text": [
            "data type before: <class 'str'>, value of A: 100\n",
            "data type after: <class 'int'>, value of A: 100\n"
          ]
        }
      ],
      "source": [
        "### String ----> to integer====only numbers\n",
        "A = \"100\"\n",
        "print(f\"data type before: {type(A)}, value of A: {A}\")\n",
        "A = int(A)\n",
        "print(f\"data type after: {type(A)}, value of A: {A}\")"
      ]
    },
    {
      "cell_type": "code",
      "execution_count": null,
      "metadata": {
        "colab": {
          "base_uri": "https://localhost:8080/",
          "height": 245
        },
        "id": "Eg7hhy4_w5lc",
        "outputId": "de65e2c3-c077-472b-ba56-fa0b90c0da2c"
      },
      "outputs": [
        {
          "name": "stdout",
          "output_type": "stream",
          "text": [
            "data type before: <class 'str'>, value of A: abc\n"
          ]
        },
        {
          "ename": "ValueError",
          "evalue": "ignored",
          "output_type": "error",
          "traceback": [
            "\u001b[0;31m---------------------------------------------------------------------------\u001b[0m",
            "\u001b[0;31mValueError\u001b[0m                                Traceback (most recent call last)",
            "\u001b[0;32m<ipython-input-13-f935f93588e0>\u001b[0m in \u001b[0;36m<cell line: 4>\u001b[0;34m()\u001b[0m\n\u001b[1;32m      2\u001b[0m \u001b[0mA\u001b[0m \u001b[0;34m=\u001b[0m \u001b[0;34m\"abc\"\u001b[0m\u001b[0;34m\u001b[0m\u001b[0;34m\u001b[0m\u001b[0m\n\u001b[1;32m      3\u001b[0m \u001b[0mprint\u001b[0m\u001b[0;34m(\u001b[0m\u001b[0;34mf\"data type before: {type(A)}, value of A: {A}\"\u001b[0m\u001b[0;34m)\u001b[0m\u001b[0;34m\u001b[0m\u001b[0;34m\u001b[0m\u001b[0m\n\u001b[0;32m----> 4\u001b[0;31m \u001b[0mA\u001b[0m \u001b[0;34m=\u001b[0m \u001b[0mint\u001b[0m\u001b[0;34m(\u001b[0m\u001b[0mA\u001b[0m\u001b[0;34m)\u001b[0m\u001b[0;34m\u001b[0m\u001b[0;34m\u001b[0m\u001b[0m\n\u001b[0m\u001b[1;32m      5\u001b[0m \u001b[0mprint\u001b[0m\u001b[0;34m(\u001b[0m\u001b[0;34mf\"data type after: {type(A)}, value of A: {A}\"\u001b[0m\u001b[0;34m)\u001b[0m\u001b[0;34m\u001b[0m\u001b[0;34m\u001b[0m\u001b[0m\n",
            "\u001b[0;31mValueError\u001b[0m: invalid literal for int() with base 10: 'abc'"
          ]
        }
      ],
      "source": [
        "### String ----> to integer\n",
        "A = \"abc\"\n",
        "print(f\"data type before: {type(A)}, value of A: {A}\")\n",
        "A = int(A)\n",
        "print(f\"data type after: {type(A)}, value of A: {A}\")"
      ]
    },
    {
      "cell_type": "code",
      "execution_count": null,
      "metadata": {
        "colab": {
          "base_uri": "https://localhost:8080/",
          "height": 211
        },
        "id": "uLle7wwbuhKo",
        "outputId": "8c3b8a94-174f-4a98-ac07-24635be04220"
      },
      "outputs": [
        {
          "output_type": "stream",
          "name": "stdout",
          "text": [
            "data type before: <class 'str'>, value of A: 50.23\n"
          ]
        },
        {
          "output_type": "error",
          "ename": "ValueError",
          "evalue": "invalid literal for int() with base 10: '50.23'",
          "traceback": [
            "\u001b[0;31m---------------------------------------------------------------------------\u001b[0m",
            "\u001b[0;31mValueError\u001b[0m                                Traceback (most recent call last)",
            "\u001b[0;32m<ipython-input-33-c09e096ae3ee>\u001b[0m in \u001b[0;36m<cell line: 4>\u001b[0;34m()\u001b[0m\n\u001b[1;32m      2\u001b[0m \u001b[0mA\u001b[0m \u001b[0;34m=\u001b[0m \u001b[0;34m\"50.23\"\u001b[0m\u001b[0;34m\u001b[0m\u001b[0;34m\u001b[0m\u001b[0m\n\u001b[1;32m      3\u001b[0m \u001b[0mprint\u001b[0m\u001b[0;34m(\u001b[0m\u001b[0;34mf\"data type before: {type(A)}, value of A: {A}\"\u001b[0m\u001b[0;34m)\u001b[0m\u001b[0;34m\u001b[0m\u001b[0;34m\u001b[0m\u001b[0m\n\u001b[0;32m----> 4\u001b[0;31m \u001b[0mA\u001b[0m \u001b[0;34m=\u001b[0m \u001b[0mint\u001b[0m\u001b[0;34m(\u001b[0m\u001b[0mA\u001b[0m\u001b[0;34m)\u001b[0m\u001b[0;34m\u001b[0m\u001b[0;34m\u001b[0m\u001b[0m\n\u001b[0m\u001b[1;32m      5\u001b[0m \u001b[0mprint\u001b[0m\u001b[0;34m(\u001b[0m\u001b[0;34mf\"data type after: {type(A)}, value of A: {A}\"\u001b[0m\u001b[0;34m)\u001b[0m\u001b[0;34m\u001b[0m\u001b[0;34m\u001b[0m\u001b[0m\n",
            "\u001b[0;31mValueError\u001b[0m: invalid literal for int() with base 10: '50.23'"
          ]
        }
      ],
      "source": [
        "# String==in form of float to integer=====not possible\n",
        "A = \"50.23\"\n",
        "print(f\"data type before: {type(A)}, value of A: {A}\")\n",
        "A = int(A)\n",
        "print(f\"data type after: {type(A)}, value of A: {A}\")"
      ]
    },
    {
      "cell_type": "markdown",
      "source": [
        "### Float to integer\n",
        "### integer to float\n",
        "### integer/float to boolean\n",
        "###integer to boolean===for zero value will give you false\n",
        "###empty String to boolean=====false value"
      ],
      "metadata": {
        "id": "NfYxDt7WeLxQ"
      }
    },
    {
      "cell_type": "code",
      "execution_count": null,
      "metadata": {
        "colab": {
          "base_uri": "https://localhost:8080/"
        },
        "id": "nY3gj1fJuqAD",
        "outputId": "3e1c20e4-2c26-4afc-97d7-7041beb543d0"
      },
      "outputs": [
        {
          "output_type": "stream",
          "name": "stdout",
          "text": [
            "data type before <class 'float'>, value of a : 13.34234 \n",
            "data type after: <class 'int'>, value of A: 13\n"
          ]
        }
      ],
      "source": [
        "# Float to integer\n",
        "A = 13.34234\n",
        "print(f\"data type before {type(A)}, value of a : {A} \")\n",
        "A = int(A)\n",
        "print(f\"data type after: {type(A)}, value of A: {A}\")"
      ]
    },
    {
      "cell_type": "code",
      "execution_count": null,
      "metadata": {
        "colab": {
          "base_uri": "https://localhost:8080/"
        },
        "id": "Wou0sGKpu8KU",
        "outputId": "e250e0a1-c857-4a3d-e9ce-b4d7477507af"
      },
      "outputs": [
        {
          "output_type": "stream",
          "name": "stdout",
          "text": [
            "data type before: <class 'int'>, value of A: 50\n",
            "data type after: <class 'float'>, value of A: 50.0\n"
          ]
        }
      ],
      "source": [
        "# integer to float\n",
        "A = 50\n",
        "print(f\"data type before: {type(A)}, value of A: {A}\")\n",
        "A = float(A)\n",
        "print(f\"data type after: {type(A)}, value of A: {A}\")"
      ]
    },
    {
      "cell_type": "code",
      "execution_count": null,
      "metadata": {
        "colab": {
          "base_uri": "https://localhost:8080/"
        },
        "id": "voAv0utevX24",
        "outputId": "af524b66-bbcd-4f31-f6e2-5654c236baec"
      },
      "outputs": [
        {
          "output_type": "stream",
          "name": "stdout",
          "text": [
            "data type before: <class 'float'>, value of A: 50.9\n",
            "data type after: <class 'bool'>, value of A: True\n"
          ]
        }
      ],
      "source": [
        "# integer to boolean\n",
        "A = 50.90\n",
        "print(f\"data type before: {type(A)}, value of A: {A}\")\n",
        "A = bool(A)\n",
        "print(f\"data type after: {type(A)}, value of A: {A}\")"
      ]
    },
    {
      "cell_type": "code",
      "execution_count": null,
      "metadata": {
        "colab": {
          "base_uri": "https://localhost:8080/"
        },
        "id": "fNLtZ5Savh3t",
        "outputId": "293a6a75-4266-4a96-d460-a189022e134f"
      },
      "outputs": [
        {
          "output_type": "stream",
          "name": "stdout",
          "text": [
            "data type before: <class 'float'>, value of A: 0.0\n",
            "data type after: <class 'bool'>, value of A: False\n"
          ]
        }
      ],
      "source": [
        "##integer to boolean===for zero value will give you false\n",
        "A = 0.00\n",
        "print(f\"data type before: {type(A)}, value of A: {A}\")\n",
        "A = bool(A)\n",
        "print(f\"data type after: {type(A)}, value of A: {A}\")"
      ]
    },
    {
      "cell_type": "code",
      "execution_count": null,
      "metadata": {
        "colab": {
          "base_uri": "https://localhost:8080/"
        },
        "id": "XFA_qGhAvqR3",
        "outputId": "855883ff-6cdd-4436-e134-88d8cb102869"
      },
      "outputs": [
        {
          "output_type": "stream",
          "name": "stdout",
          "text": [
            "data type before: <class 'int'>, value of A: -7890\n",
            "data type after: <class 'bool'>, value of A: True\n"
          ]
        }
      ],
      "source": [
        "##integer to boolean\n",
        "A = -7890\n",
        "print(f\"data type before: {type(A)}, value of A: {A}\")\n",
        "A = bool(A)\n",
        "print(f\"data type after: {type(A)}, value of A: {A}\")"
      ]
    },
    {
      "cell_type": "code",
      "execution_count": null,
      "metadata": {
        "colab": {
          "base_uri": "https://localhost:8080/"
        },
        "id": "y9NlAcgnvzCK",
        "outputId": "5eba095a-5d42-4317-9820-3b2d0348e660"
      },
      "outputs": [
        {
          "output_type": "stream",
          "name": "stdout",
          "text": [
            "data type before: <class 'str'>, value of A: ada\n",
            "data type after: <class 'bool'>, value of A: True\n"
          ]
        }
      ],
      "source": [
        "##String to boolean\n",
        "A = \"ada\"\n",
        "print(f\"data type before: {type(A)}, value of A: {A}\")\n",
        "A = bool(A)\n",
        "print(f\"data type after: {type(A)}, value of A: {A}\")"
      ]
    },
    {
      "cell_type": "code",
      "execution_count": null,
      "metadata": {
        "colab": {
          "base_uri": "https://localhost:8080/"
        },
        "id": "ZgLACavlv5_I",
        "outputId": "a2120281-1a8e-4a42-9703-e1d75256fd05"
      },
      "outputs": [
        {
          "output_type": "stream",
          "name": "stdout",
          "text": [
            "data type before: <class 'str'>, value of A: True\n",
            "data type after: <class 'bool'>, value of A: True\n"
          ]
        }
      ],
      "source": [
        "##String to boolean\n",
        "A = \"True\"\n",
        "print(f\"data type before: {type(A)}, value of A: {A}\")\n",
        "A = bool(A)\n",
        "print(f\"data type after: {type(A)}, value of A: {A}\")"
      ]
    },
    {
      "cell_type": "code",
      "execution_count": null,
      "metadata": {
        "colab": {
          "base_uri": "https://localhost:8080/"
        },
        "id": "pggZzrQOv-6S",
        "outputId": "aadb1dae-2540-472e-85d1-de4e509237fd"
      },
      "outputs": [
        {
          "output_type": "stream",
          "name": "stdout",
          "text": [
            "data type before: <class 'str'>, value of A: 123\n",
            "data type after: <class 'bool'>, value of A: True\n"
          ]
        }
      ],
      "source": [
        "##String to boolean\n",
        "A = \"123\"\n",
        "print(f\"data type before: {type(A)}, value of A: {A}\")\n",
        "A = bool(A)\n",
        "print(f\"data type after: {type(A)}, value of A: {A}\")"
      ]
    },
    {
      "cell_type": "code",
      "execution_count": null,
      "metadata": {
        "colab": {
          "base_uri": "https://localhost:8080/"
        },
        "id": "5j-LRcqgwHlY",
        "outputId": "78aa8f0f-3c91-46d2-cc6b-82104e8ef040"
      },
      "outputs": [
        {
          "output_type": "stream",
          "name": "stdout",
          "text": [
            "data type before: <class 'str'>, value of A: \n",
            "data type after: <class 'bool'>, value of A: False\n"
          ]
        }
      ],
      "source": [
        "##empty String to boolean=====false value\n",
        "A = \"\"\n",
        "print(f\"data type before: {type(A)}, value of A: {A}\")\n",
        "A = bool(A)\n",
        "print(f\"data type after: {type(A)}, value of A: {A}\")"
      ]
    },
    {
      "cell_type": "code",
      "source": [
        "##empty String to int=====false value\n",
        "A = \"\"\n",
        "print(f\"data type before: {type(A)}, value of A: {A}\")\n",
        "A = int(A)\n",
        "print(f\"data type after: {type(A)}, value of A: {A}\")"
      ],
      "metadata": {
        "id": "k9W1FIR5U7KO"
      },
      "execution_count": null,
      "outputs": []
    },
    {
      "cell_type": "markdown",
      "metadata": {
        "id": "xrqTS6HZwhKe"
      },
      "source": [
        "NOTE: Converting any non zero number and string values into boolean will give True as an answer\n",
        "\n",
        "NOTE: Empty string \"\" and 00 int will give False as an answer after converting from string to boolean"
      ]
    },
    {
      "cell_type": "code",
      "execution_count": null,
      "metadata": {
        "colab": {
          "base_uri": "https://localhost:8080/"
        },
        "id": "RL1pjQHCwo--",
        "outputId": "0de1435f-e932-4f3b-c799-9d9057238487"
      },
      "outputs": [
        {
          "output_type": "stream",
          "name": "stdout",
          "text": [
            "data type before: <class 'float'>, value of A: 1.234\n",
            "data type after: <class 'int'>, value of A: 1\n"
          ]
        }
      ],
      "source": [
        "##float to int\n",
        "A = 1.234\n",
        "print(f\"data type before: {type(A)}, value of A: {A}\")\n",
        "A = int(A)\n",
        "print(f\"data type after: {type(A)}, value of A: {A}\")"
      ]
    },
    {
      "cell_type": "code",
      "execution_count": 6,
      "metadata": {
        "colab": {
          "base_uri": "https://localhost:8080/"
        },
        "id": "zp-IaNohwyvv",
        "outputId": "fc74451e-e178-4f88-de96-2a3dc25ea3b9"
      },
      "outputs": [
        {
          "output_type": "stream",
          "name": "stdout",
          "text": [
            "name : shivi\n",
            "city: npl\n",
            "dob: 1996\n",
            "my name is shivi\n",
            "my city is 27\n",
            "my age is npl\n",
            "my current age is : 27 \n"
          ]
        }
      ],
      "source": [
        "name,city,dob =input(\"name : \"),input(\"city: \"),input(\"dob: \")\n",
        "age = 2023 - int(dob)\n",
        "print(f\"\"\"my name is {name}\n",
        "my city is {age}\n",
        "my age is {city}\n",
        "my current age is : {age} \"\"\")"
      ]
    },
    {
      "cell_type": "code",
      "execution_count": null,
      "metadata": {
        "colab": {
          "base_uri": "https://localhost:8080/"
        },
        "id": "daZcrSxmXTR6",
        "outputId": "0afe224a-0a3d-4626-a5f7-eec6431dd969"
      },
      "outputs": [
        {
          "name": "stdout",
          "output_type": "stream",
          "text": [
            "value of a = 12\n",
            "value of b = 123\n",
            "sum a + b =  135\n"
          ]
        }
      ],
      "source": [
        "a = input(\"value of a = \")\n",
        "b = input (\"value of b = \")\n",
        "print(f\"sum a + b =  {int(a) + int (b)}\" )"
      ]
    },
    {
      "cell_type": "code",
      "source": [
        "a,b = b,a"
      ],
      "metadata": {
        "id": "Vw0wYyXqF7Fe"
      },
      "execution_count": null,
      "outputs": []
    },
    {
      "cell_type": "markdown",
      "source": [
        "string"
      ],
      "metadata": {
        "id": "_KsH10DtaPWt"
      }
    },
    {
      "cell_type": "code",
      "source": [
        "# String to List\n",
        "m = \"hello\"\n",
        "n = list(m)\n",
        "print(n)  # Output: ['h', 'e', 'l', 'l', 'o']\n",
        "print(type(n))  # Output: <class 'list'>\n",
        "\n",
        "# List to String\n",
        "x= ['h', 'e', 'l', 'l', 'o']\n",
        "print(type(x))\n",
        "x = str(x)\n",
        "print(type(x))\n",
        "print(x)\n",
        "\n",
        "# Tuple to List\n",
        "o = (1, 2, 3)\n",
        "p = list(o)\n",
        "print(p)  # Output: [1, 2, 3]\n",
        "print(type(p))  # Output: <class 'list'>\n"
      ],
      "metadata": {
        "colab": {
          "base_uri": "https://localhost:8080/"
        },
        "id": "4leWVFHDHLLn",
        "outputId": "584e4ec7-c5e5-4fd8-edbf-cea943d9705a"
      },
      "execution_count": 8,
      "outputs": [
        {
          "output_type": "stream",
          "name": "stdout",
          "text": [
            "['h', 'e', 'l', 'l', 'o']\n",
            "<class 'list'>\n",
            "<class 'list'>\n",
            "<class 'str'>\n",
            "['h', 'e', 'l', 'l', 'o']\n",
            "[1, 2, 3]\n",
            "<class 'list'>\n"
          ]
        }
      ]
    },
    {
      "cell_type": "code",
      "source": [
        "# List to Tuple\n",
        "q = [1, 2, 3]\n",
        "r = tuple(q)\n",
        "print(r)  # Output: (1, 2, 3)\n",
        "print(type(r))  # Output: <class 'tuple'>\n",
        "\n",
        "# String to Tuple\n",
        "s = \"hello\"\n",
        "t = tuple(s)\n",
        "print(t)  # Output: ('h', 'e', 'l', 'l', 'o')\n",
        "print(type(t))  # Output: <class 'tuple'>\n"
      ],
      "metadata": {
        "colab": {
          "base_uri": "https://localhost:8080/"
        },
        "id": "j-s_85WzHNhK",
        "outputId": "ec96ac38-c548-4eb9-a5dc-cec96daab3a4"
      },
      "execution_count": null,
      "outputs": [
        {
          "output_type": "stream",
          "name": "stdout",
          "text": [
            "(1, 2, 3)\n",
            "<class 'tuple'>\n",
            "('h', 'e', 'l', 'l', 'o')\n",
            "<class 'tuple'>\n"
          ]
        }
      ]
    },
    {
      "cell_type": "code",
      "source": [
        "# List to Set\n",
        "u = [1, 2, 2, 3]\n",
        "v = set(u)\n",
        "print(v)  # Output: {1, 2, 3}\n",
        "print(type(v))  # Output: <class 'set'>\n",
        "\n",
        "# String to Set\n",
        "w = \"hello\"\n",
        "x = set(w)\n",
        "print(x)  # Output: {'h', 'e', 'l', 'o'}\n",
        "print(type(x))  # Output: <class 'set'>\n"
      ],
      "metadata": {
        "colab": {
          "base_uri": "https://localhost:8080/"
        },
        "id": "23Xdc8ZEHRFr",
        "outputId": "cc9feb2b-99da-446c-c1ae-0dbb3a65ff75"
      },
      "execution_count": null,
      "outputs": [
        {
          "output_type": "stream",
          "name": "stdout",
          "text": [
            "{1, 2, 3}\n",
            "<class 'set'>\n",
            "{'o', 'e', 'h', 'l'}\n",
            "<class 'set'>\n"
          ]
        }
      ]
    },
    {
      "cell_type": "code",
      "source": [
        "# List of Tuples to Dictionary\n",
        "y = [('a', 1), ('b', 2)]\n",
        "z = dict(y)\n",
        "print(z)  # Output: {'a': 1, 'b': 2}\n",
        "print(type(z))  # Output: <class 'dict'>\n",
        "\n",
        "\n",
        "x = [('name' ,'shivani') ,('age',28)]\n",
        "x = dict(x)\n",
        "print(x)\n",
        "print(type(x))\n"
      ],
      "metadata": {
        "colab": {
          "base_uri": "https://localhost:8080/"
        },
        "id": "m1XjuaKfHUpi",
        "outputId": "c16f5344-e0cf-402d-9494-94ed62838439"
      },
      "execution_count": null,
      "outputs": [
        {
          "output_type": "stream",
          "name": "stdout",
          "text": [
            "{'a': 1, 'b': 2}\n",
            "<class 'dict'>\n",
            "{'name': 'shivani', 'age': 28}\n",
            "<class 'dict'>\n"
          ]
        }
      ]
    },
    {
      "cell_type": "code",
      "source": [
        "# Integer to Boolean\n",
        "aa = 0\n",
        "bb = bool(aa)\n",
        "print(bb)  # Output: False\n",
        "print(type(bb))  # Output: <class 'bool'>\n",
        "\n",
        "\n",
        "aa = ''\n",
        "bb = bool(aa)\n",
        "print(bb)  # Output: False\n",
        "print(type(bb))  # Output: <class 'bool'>\n",
        "\n",
        "# String to Boolean\n",
        "cc = \"True\"\n",
        "dd = bool(cc)\n",
        "print(dd)  # Output: True\n",
        "print(type(dd))  # Output: <class 'bool'>\n"
      ],
      "metadata": {
        "colab": {
          "base_uri": "https://localhost:8080/"
        },
        "id": "oBS_J0v1HYFu",
        "outputId": "51a4f075-5541-4568-af26-eb9145dfc2c6"
      },
      "execution_count": null,
      "outputs": [
        {
          "output_type": "stream",
          "name": "stdout",
          "text": [
            "False\n",
            "<class 'bool'>\n",
            "False\n",
            "<class 'bool'>\n",
            "True\n",
            "<class 'bool'>\n"
          ]
        }
      ]
    },
    {
      "cell_type": "markdown",
      "metadata": {
        "id": "-YjiSkuFpRGN"
      },
      "source": [
        "## memory block"
      ]
    },
    {
      "cell_type": "code",
      "execution_count": null,
      "metadata": {
        "colab": {
          "base_uri": "https://localhost:8080/"
        },
        "id": "4DH_aab0BMUU",
        "outputId": "5aa381df-0615-4d95-f4f0-6a40e0db4083"
      },
      "outputs": [
        {
          "name": "stdout",
          "output_type": "stream",
          "text": [
            "140209328309168\n",
            "140208900116400\n",
            "140209328309168\n"
          ]
        }
      ],
      "source": [
        "a =23\n",
        "b =1324\n",
        "c = 23\n",
        "print(id(a))\n",
        "print(id(b))\n",
        "print(id(c))"
      ]
    },
    {
      "cell_type": "markdown",
      "source": [
        "## OPERATORS"
      ],
      "metadata": {
        "id": "Ci13v-AUa6BD"
      }
    },
    {
      "cell_type": "markdown",
      "source": [
        "### **1.Arthmetic Operators**\n",
        "\n",
        "|Operation|Meaning|\n",
        "|:-:|:-:|\n",
        "| **+** |addition|\n",
        "| **-** |subtraction|\n",
        "| **\\*** |multiplication|\n",
        "| **/** |true division|\n",
        "| **//** |integer/FLOOR division|\n",
        "| **%** |the modulo operator|\n",
        "Exponentiation **: Raises the left operand to the power of the right operand.\n",
        "\n",
        "Here `+`, `-`, `*`, `/` are regular arithmatic operators. Lets look at the `//` and `%` operators\n",
        "\n",
        "Usecase or examples -\n",
        "    \n",
        "```python\n",
        "var_a = 5\n",
        "var_b = 25\n",
        "integer_division = var_b // var_a\n",
        "print(f\"integer division: {var_b}/{var_a}={integer_division}\")\n",
        "```\n",
        "\n",
        "OUTPUT: integer division: 25/5=5\n",
        "\n",
        "```python\n",
        "var_a = 3\n",
        "var_b = 25\n",
        "integer_division = var_b // var_a\n",
        "print(f\"integer division: {var_b}/{var_a}={integer_division}\")\n",
        "```\n",
        "\n",
        "OUTPUT: integer division: 25/3=8\n",
        "\n",
        "```python\n",
        "var_a = 5\n",
        "var_b = 25\n",
        "remainder = var_b % var_a\n",
        "print(f\"remainder: {var_b}/{var_a} is {remainder}\")\n",
        "```\n",
        "\n",
        "OUTPUT: remainder: 25/5 is 0\n",
        "\n",
        "```python\n",
        "var_a = 3\n",
        "var_b = 25\n",
        "remainder = var_b % var_a\n",
        "print(f\"remainder: {var_b}/{var_a} is {remainder}\")\n",
        "```\n",
        "\n",
        "OUTPUT: remainder: 25/3 is 1\n",
        "\n"
      ],
      "metadata": {
        "id": "a_4kbBVWNY-4"
      }
    },
    {
      "cell_type": "code",
      "source": [
        "a = 5\n",
        "b = 23\n",
        "print(a+b)\n",
        "print(a-b)\n",
        "print(a*b)\n",
        "print(b/a)    ##float\n",
        "print(b//a)\n",
        "print(b%a)\n",
        "print(5**5)"
      ],
      "metadata": {
        "id": "otPTPiJlbnsg",
        "outputId": "d0e084f7-68ab-43ad-b979-444922cc6bed",
        "colab": {
          "base_uri": "https://localhost:8080/"
        }
      },
      "execution_count": 26,
      "outputs": [
        {
          "output_type": "stream",
          "name": "stdout",
          "text": [
            "28\n",
            "-18\n",
            "115\n",
            "4.6\n",
            "4\n",
            "3\n",
            "3125\n"
          ]
        }
      ]
    },
    {
      "cell_type": "code",
      "source": [
        "var_a = 5\n",
        "var_b = 23\n",
        "integer_division = var_b // var_a\n",
        "float_devision = var_b / var_a\n",
        "remainder = var_b % var_a\n",
        "print(f\"integer division: {var_b}//{var_a}={integer_division}\")\n",
        "print(f\"float division: {var_b}/{var_a}={float_devision}\")\n",
        "print(f\"remainder division: {var_b}%{var_a}={remainder}\")\n",
        "print (type(integer_division))\n",
        "print (type(float_devision))\n",
        "print (type(remainder))"
      ],
      "metadata": {
        "colab": {
          "base_uri": "https://localhost:8080/"
        },
        "id": "pSFC-IxTMpny",
        "outputId": "a1717dbc-a636-4186-c983-6a8242bfb168"
      },
      "execution_count": 24,
      "outputs": [
        {
          "output_type": "stream",
          "name": "stdout",
          "text": [
            "integer division: 23//5=4\n",
            "float division: 23/5=4.6\n",
            "remainder division: 23%5=3\n",
            "<class 'int'>\n",
            "<class 'float'>\n",
            "<class 'int'>\n"
          ]
        }
      ]
    },
    {
      "cell_type": "markdown",
      "source": [
        "### 2.Comparision operators\n",
        "\n",
        "Operation | Meaning\n",
        "- | -\n",
        "< | A < B\n",
        "<= | A <= B\n",
        "> | A > B\n",
        ">= | A >= B"
      ],
      "metadata": {
        "id": "7snhIpNfadam"
      }
    },
    {
      "cell_type": "code",
      "source": [
        "print(5>3)\n",
        "print(5<3)\n",
        "print(5>=3)\n",
        "print(5<=3)\n",
        "print(3<=5<=8)\n",
        "print(5==5.0)\n",
        "print(5 is 5.0)\n"
      ],
      "metadata": {
        "id": "YZggAKNWcd1Y",
        "outputId": "ab29a605-542f-4381-9db9-48689a4727cd",
        "colab": {
          "base_uri": "https://localhost:8080/"
        }
      },
      "execution_count": 34,
      "outputs": [
        {
          "output_type": "stream",
          "name": "stdout",
          "text": [
            "True\n",
            "False\n",
            "True\n",
            "False\n",
            "True\n",
            "True\n",
            "False\n"
          ]
        },
        {
          "output_type": "stream",
          "name": "stderr",
          "text": [
            "<>:7: SyntaxWarning: \"is\" with a literal. Did you mean \"==\"?\n",
            "<>:7: SyntaxWarning: \"is\" with a literal. Did you mean \"==\"?\n",
            "<ipython-input-34-54cab07230cd>:7: SyntaxWarning: \"is\" with a literal. Did you mean \"==\"?\n",
            "  print(5 is 5.0)\n"
          ]
        }
      ]
    },
    {
      "cell_type": "markdown",
      "source": [
        "1. == only compares value\n",
        "2. is compares data type also\n",
        "3. operator overloading"
      ],
      "metadata": {
        "id": "0UL_qIDOdKCB"
      }
    },
    {
      "cell_type": "code",
      "source": [
        "a =5\n",
        "b =10/2\n",
        "print(type(a),type(b))\n",
        "print(a==b)\n",
        "print(a is b)\n",
        "print(\"--------\")\n",
        "\n",
        "a =5\n",
        "b =10//2\n",
        "print(type(a),type(b))\n",
        "print(a==b)\n",
        "print(a is b)"
      ],
      "metadata": {
        "colab": {
          "base_uri": "https://localhost:8080/"
        },
        "id": "64tCiR4F6F6U",
        "outputId": "2b6254eb-1d41-4c00-fac5-a81b974c538d"
      },
      "execution_count": 28,
      "outputs": [
        {
          "output_type": "stream",
          "name": "stdout",
          "text": [
            "<class 'int'> <class 'float'>\n",
            "True\n",
            "False\n",
            "--------\n",
            "<class 'int'> <class 'int'>\n",
            "True\n",
            "True\n"
          ]
        }
      ]
    },
    {
      "cell_type": "code",
      "source": [
        "# division opeartor returns result in float data type\n",
        "# // --> floor division - returns nearest integer possible which is less\n",
        "# than or equal to the quotient"
      ],
      "metadata": {
        "id": "FI3W6PadNRAo"
      },
      "execution_count": null,
      "outputs": []
    },
    {
      "cell_type": "code",
      "execution_count": null,
      "metadata": {
        "id": "bd2bd23c"
      },
      "outputs": [],
      "source": [
        "# operator overloading"
      ]
    },
    {
      "cell_type": "code",
      "execution_count": null,
      "metadata": {
        "id": "deb1327f",
        "outputId": "5997b4fb-ec94-4952-c258-3dcfe460e08b"
      },
      "outputs": [
        {
          "data": {
            "text/plain": [
              "'abcabcabc'"
            ]
          },
          "execution_count": 50,
          "metadata": {},
          "output_type": "execute_result"
        }
      ],
      "source": [
        "'abc' * 3"
      ]
    },
    {
      "cell_type": "markdown",
      "source": [
        "### 3.logical operators\n",
        "and\n",
        "or\n",
        "not"
      ],
      "metadata": {
        "id": "3jJnyB0seG7v"
      }
    },
    {
      "cell_type": "code",
      "execution_count": null,
      "metadata": {
        "id": "73a64080",
        "outputId": "8d5a554c-7ae4-4eca-d593-be0e5a868ebe"
      },
      "outputs": [
        {
          "data": {
            "text/plain": [
              "6"
            ]
          },
          "execution_count": 66,
          "metadata": {},
          "output_type": "execute_result"
        }
      ],
      "source": [
        "a"
      ]
    },
    {
      "cell_type": "code",
      "execution_count": null,
      "metadata": {
        "id": "98fc997a",
        "outputId": "961a0f80-7bf5-4f82-a147-0090b66e1f40"
      },
      "outputs": [
        {
          "data": {
            "text/plain": [
              "9"
            ]
          },
          "execution_count": 67,
          "metadata": {},
          "output_type": "execute_result"
        }
      ],
      "source": [
        "b"
      ]
    },
    {
      "cell_type": "code",
      "execution_count": null,
      "metadata": {
        "id": "c5bd749b",
        "outputId": "07f77d49-9695-4404-d804-c57b9a3aa99f"
      },
      "outputs": [
        {
          "data": {
            "text/plain": [
              "False"
            ]
          },
          "execution_count": 68,
          "metadata": {},
          "output_type": "execute_result"
        }
      ],
      "source": [
        "a>4 and b>11"
      ]
    },
    {
      "cell_type": "code",
      "execution_count": null,
      "metadata": {
        "id": "91f3e172",
        "outputId": "925cd3a4-fd10-4675-bacc-a2de92ee2a12"
      },
      "outputs": [
        {
          "data": {
            "text/plain": [
              "True"
            ]
          },
          "execution_count": 69,
          "metadata": {},
          "output_type": "execute_result"
        }
      ],
      "source": [
        "4>5 or 6<7"
      ]
    },
    {
      "cell_type": "code",
      "execution_count": null,
      "metadata": {
        "id": "38781fe4",
        "outputId": "c514e008-a294-4ee7-8791-a98d55945dc9"
      },
      "outputs": [
        {
          "data": {
            "text/plain": [
              "False"
            ]
          },
          "execution_count": 70,
          "metadata": {},
          "output_type": "execute_result"
        }
      ],
      "source": [
        "not(10>5)"
      ]
    },
    {
      "cell_type": "code",
      "execution_count": null,
      "metadata": {
        "id": "220fad73",
        "outputId": "bb5aec84-17b3-435f-ca46-bf604afdc1af"
      },
      "outputs": [
        {
          "data": {
            "text/plain": [
              "True"
            ]
          },
          "execution_count": 71,
          "metadata": {},
          "output_type": "execute_result"
        }
      ],
      "source": [
        "10>5"
      ]
    },
    {
      "cell_type": "markdown",
      "source": [
        "### 4.assignment operators"
      ],
      "metadata": {
        "id": "8QbOa_m8eyDD"
      }
    },
    {
      "cell_type": "code",
      "execution_count": 36,
      "metadata": {
        "id": "d54f3607"
      },
      "outputs": [],
      "source": [
        "a = 13"
      ]
    },
    {
      "cell_type": "code",
      "execution_count": 37,
      "metadata": {
        "id": "476890cd",
        "outputId": "81aa6d6a-6511-42c9-cdb0-aef385c36fe0",
        "colab": {
          "base_uri": "https://localhost:8080/"
        }
      },
      "outputs": [
        {
          "output_type": "execute_result",
          "data": {
            "text/plain": [
              "14"
            ]
          },
          "metadata": {},
          "execution_count": 37
        }
      ],
      "source": [
        "a+=1\n",
        "a"
      ]
    },
    {
      "cell_type": "code",
      "execution_count": null,
      "metadata": {
        "id": "6dd29b04"
      },
      "outputs": [],
      "source": [
        "# addition assignment -> adding 1 to a and assigning it back to a\n",
        "# a = a+1"
      ]
    },
    {
      "cell_type": "code",
      "execution_count": 38,
      "metadata": {
        "id": "2f95d458",
        "outputId": "4b8adbdd-1cd4-4176-86fc-8bd02df90f6c",
        "colab": {
          "base_uri": "https://localhost:8080/"
        }
      },
      "outputs": [
        {
          "output_type": "execute_result",
          "data": {
            "text/plain": [
              "12"
            ]
          },
          "metadata": {},
          "execution_count": 38
        }
      ],
      "source": [
        "a-=2\n",
        "a"
      ]
    },
    {
      "cell_type": "code",
      "execution_count": null,
      "metadata": {
        "id": "07888cd7"
      },
      "outputs": [],
      "source": [
        "# subtraction assignment -> a = a-2"
      ]
    },
    {
      "cell_type": "code",
      "execution_count": 39,
      "metadata": {
        "id": "b527928d",
        "outputId": "2e84b2ad-5b0a-481d-da66-8a9829f2d4f7",
        "colab": {
          "base_uri": "https://localhost:8080/"
        }
      },
      "outputs": [
        {
          "output_type": "execute_result",
          "data": {
            "text/plain": [
              "36"
            ]
          },
          "metadata": {},
          "execution_count": 39
        }
      ],
      "source": [
        "a*=3\n",
        "a"
      ]
    },
    {
      "cell_type": "code",
      "execution_count": 40,
      "metadata": {
        "id": "d71e85a3",
        "outputId": "781f1cc8-e342-4cc1-dd79-0b4f56fa57fe",
        "colab": {
          "base_uri": "https://localhost:8080/"
        }
      },
      "outputs": [
        {
          "output_type": "execute_result",
          "data": {
            "text/plain": [
              "18.0"
            ]
          },
          "metadata": {},
          "execution_count": 40
        }
      ],
      "source": [
        "a/=2\n",
        "a"
      ]
    },
    {
      "cell_type": "code",
      "execution_count": null,
      "metadata": {
        "id": "c218e712"
      },
      "outputs": [],
      "source": [
        "# a = a/2"
      ]
    },
    {
      "cell_type": "code",
      "execution_count": 41,
      "metadata": {
        "id": "b0ad7fe2",
        "outputId": "42f6db7a-b342-411c-f23a-046dcb364cfc",
        "colab": {
          "base_uri": "https://localhost:8080/"
        }
      },
      "outputs": [
        {
          "output_type": "execute_result",
          "data": {
            "text/plain": [
              "9.0"
            ]
          },
          "metadata": {},
          "execution_count": 41
        }
      ],
      "source": [
        "a//=2\n",
        "a"
      ]
    },
    {
      "cell_type": "code",
      "execution_count": null,
      "metadata": {
        "id": "f2d4d2fb"
      },
      "outputs": [],
      "source": [
        "# a = a//2"
      ]
    },
    {
      "cell_type": "code",
      "execution_count": null,
      "metadata": {
        "id": "887f121d"
      },
      "outputs": [],
      "source": [
        "# data type preservation"
      ]
    },
    {
      "cell_type": "code",
      "execution_count": null,
      "metadata": {
        "id": "9b39d3e3",
        "outputId": "6decb6b6-934a-4d8c-8d7c-f3c160fefe6d"
      },
      "outputs": [
        {
          "data": {
            "text/plain": [
              "9"
            ]
          },
          "execution_count": 91,
          "metadata": {},
          "output_type": "execute_result"
        }
      ],
      "source": [
        "18//2"
      ]
    },
    {
      "cell_type": "code",
      "execution_count": null,
      "metadata": {
        "id": "63fe71cb",
        "outputId": "5624ec71-4020-4160-fa0c-1cc02394e9ef"
      },
      "outputs": [
        {
          "data": {
            "text/plain": [
              "9.0"
            ]
          },
          "execution_count": 92,
          "metadata": {},
          "output_type": "execute_result"
        }
      ],
      "source": [
        "a"
      ]
    },
    {
      "cell_type": "code",
      "execution_count": null,
      "metadata": {
        "id": "a03b3faa",
        "outputId": "37188083-effe-4fa2-d3cc-8619e30b034c"
      },
      "outputs": [
        {
          "data": {
            "text/plain": [
              "1.0"
            ]
          },
          "execution_count": 93,
          "metadata": {},
          "output_type": "execute_result"
        }
      ],
      "source": [
        "a%=2\n",
        "a"
      ]
    },
    {
      "cell_type": "code",
      "execution_count": null,
      "metadata": {
        "id": "39bd995c",
        "outputId": "b9d81379-61a4-470c-c431-e85589f585f8"
      },
      "outputs": [
        {
          "data": {
            "text/plain": [
              "1.0"
            ]
          },
          "execution_count": 94,
          "metadata": {},
          "output_type": "execute_result"
        }
      ],
      "source": [
        "a**=3\n",
        "a"
      ]
    },
    {
      "cell_type": "markdown",
      "source": [
        "###  5.membership operator - in/ not in\n",
        "checks if a values exists in a sequence of values"
      ],
      "metadata": {
        "id": "c3FHMMt7fQ5P"
      }
    },
    {
      "cell_type": "code",
      "execution_count": null,
      "metadata": {
        "id": "79a4d10e",
        "outputId": "403de2c5-40a6-4f2d-8e13-74e3305e817e"
      },
      "outputs": [
        {
          "data": {
            "text/plain": [
              "True"
            ]
          },
          "execution_count": 98,
          "metadata": {},
          "output_type": "execute_result"
        }
      ],
      "source": [
        "'a' in 'apple'"
      ]
    },
    {
      "cell_type": "code",
      "execution_count": null,
      "metadata": {
        "id": "af2df6f2",
        "outputId": "6a499d8b-07c0-4374-9976-dddede0badcd"
      },
      "outputs": [
        {
          "data": {
            "text/plain": [
              "False"
            ]
          },
          "execution_count": 99,
          "metadata": {},
          "output_type": "execute_result"
        }
      ],
      "source": [
        "'x' in 'apple'"
      ]
    },
    {
      "cell_type": "code",
      "execution_count": null,
      "metadata": {
        "id": "a07699fd",
        "outputId": "9cae6d67-4fc5-4ff0-926f-d40d60962e20"
      },
      "outputs": [
        {
          "data": {
            "text/plain": [
              "False"
            ]
          },
          "execution_count": 100,
          "metadata": {},
          "output_type": "execute_result"
        }
      ],
      "source": [
        "'p' not in 'apple'"
      ]
    },
    {
      "cell_type": "code",
      "source": [
        "num =[1,2,3,'abc','@1223']\n",
        "print('abc' in num)\n",
        "print('a' in num)\n",
        "print('12' in num)"
      ],
      "metadata": {
        "id": "F7FMgKhZfjog",
        "outputId": "c7df456b-a963-4fb5-9f89-4a256c7582b2",
        "colab": {
          "base_uri": "https://localhost:8080/"
        }
      },
      "execution_count": 46,
      "outputs": [
        {
          "output_type": "stream",
          "name": "stdout",
          "text": [
            "True\n",
            "False\n",
            "False\n"
          ]
        }
      ]
    },
    {
      "cell_type": "markdown",
      "source": [
        "###6.Equality operators / Identity operator(is ,isnot)\n",
        "\n",
        "Operator | uses | Meaning\n",
        "- | - | -\n",
        "is | A is B=> | return True if A and B points to the same object== same memory\n",
        "is not | A is not B | returns True if A and B do not points to the same object\n",
        "== | A == B | A is equal to B\n",
        "!= | A != B | A is not equal to B\n",
        "\n",
        "When using `is` then we are also comparing memory location\n",
        "When using `is not` then we are also comparing memory location\n",
        "\n",
        "== and != is only checking value of the variables [Used more offently or frequently]\n"
      ],
      "metadata": {
        "id": "rZ8qiUphbefq"
      }
    },
    {
      "cell_type": "code",
      "source": [
        "a =1\n",
        "b = 1\n",
        "print(id(a),id(b))\n",
        "if a is b:\n",
        "  print(\"points to same location\")\n",
        "else:\n",
        "  print(\"points to diff location\")"
      ],
      "metadata": {
        "colab": {
          "base_uri": "https://localhost:8080/"
        },
        "id": "ol8RRpXMbdUX",
        "outputId": "d221e7d9-398b-49b6-a7e3-aec4593c3560"
      },
      "execution_count": 47,
      "outputs": [
        {
          "output_type": "stream",
          "name": "stdout",
          "text": [
            "137967511896304 137967511896304\n",
            "points to same location\n"
          ]
        }
      ]
    },
    {
      "cell_type": "code",
      "source": [
        "a =1\n",
        "b =input(\"value of b = \")\n",
        "print(type(b))\n",
        "print(a is b)\n",
        "\n",
        "print(\"-----------------\")\n",
        "\n",
        "b =int(input(\"value of b = \"))\n",
        "print(type(a),type(b))\n",
        "print (id(a),id(b))\n",
        "a is b"
      ],
      "metadata": {
        "colab": {
          "base_uri": "https://localhost:8080/"
        },
        "id": "m9xSVFocdtyi",
        "outputId": "7141986d-2fb9-4653-9f1b-2bca0758cd1b"
      },
      "execution_count": 49,
      "outputs": [
        {
          "output_type": "stream",
          "name": "stdout",
          "text": [
            "value of b = 1\n",
            "<class 'str'>\n",
            "False\n",
            "-----------------\n",
            "value of b = 1\n",
            "<class 'int'> <class 'int'>\n",
            "137967511896304 137967511896304\n"
          ]
        },
        {
          "output_type": "execute_result",
          "data": {
            "text/plain": [
              "True"
            ]
          },
          "metadata": {},
          "execution_count": 49
        }
      ]
    },
    {
      "cell_type": "code",
      "source": [
        "a =1\n",
        "b =1\n",
        "if a == b:\n",
        "  print(\"points to same value\")\n",
        "else:\n",
        "  print(\"points to diff value\")"
      ],
      "metadata": {
        "colab": {
          "base_uri": "https://localhost:8080/"
        },
        "id": "_CSku7SxcuBh",
        "outputId": "5ee0e746-1b5d-4239-8f09-189e8aed2268"
      },
      "execution_count": 50,
      "outputs": [
        {
          "output_type": "stream",
          "name": "stdout",
          "text": [
            "points to same value\n"
          ]
        }
      ]
    },
    {
      "cell_type": "code",
      "source": [
        "a =[1,2,34]   ###python array is known as list  ##and they have diff location in python\n",
        "b =[1,2,34]\n",
        "print(id(a))\n",
        "print(id(b))\n",
        "print(a is b)\n",
        "a==b"
      ],
      "metadata": {
        "colab": {
          "base_uri": "https://localhost:8080/"
        },
        "id": "4HqGE0iQdKPk",
        "outputId": "341293a8-f4a8-4a9b-d7d8-141fbd0e7747"
      },
      "execution_count": 51,
      "outputs": [
        {
          "output_type": "stream",
          "name": "stdout",
          "text": [
            "137966188240640\n",
            "137966186662208\n",
            "False\n"
          ]
        },
        {
          "output_type": "execute_result",
          "data": {
            "text/plain": [
              "True"
            ]
          },
          "metadata": {},
          "execution_count": 51
        }
      ]
    },
    {
      "cell_type": "code",
      "source": [],
      "metadata": {
        "id": "cTgWwolLg5XW"
      },
      "execution_count": null,
      "outputs": []
    },
    {
      "cell_type": "markdown",
      "source": [
        "### **7. Bitwise Operators**"
      ],
      "metadata": {
        "id": "feFrRpuzLqy2"
      }
    },
    {
      "cell_type": "markdown",
      "source": [
        "These operators perform operations on binary representations of integers."
      ],
      "metadata": {
        "id": "60lQJsBAmS1X"
      }
    },
    {
      "cell_type": "markdown",
      "source": [
        "* Bitwise AND (&): Performs a bitwise AND operation."
      ],
      "metadata": {
        "id": "P9IuotUYLuCb"
      }
    },
    {
      "cell_type": "code",
      "source": [
        "a = 12  # binary: 1100\n",
        "b = 5   # binary: 0101\n",
        "result = a & b  # result is 4 (binary: 0100)\n",
        "result"
      ],
      "metadata": {
        "colab": {
          "base_uri": "https://localhost:8080/"
        },
        "id": "u1Y7srCQl8I9",
        "outputId": "87d2745e-cbdd-4343-f145-d487106b994a"
      },
      "execution_count": 52,
      "outputs": [
        {
          "output_type": "execute_result",
          "data": {
            "text/plain": [
              "4"
            ]
          },
          "metadata": {},
          "execution_count": 52
        }
      ]
    },
    {
      "cell_type": "markdown",
      "source": [
        "* Bitwise OR (|): Performs a bitwise OR operation."
      ],
      "metadata": {
        "id": "XAqPAPbBmoBB"
      }
    },
    {
      "cell_type": "code",
      "source": [
        "result = a | b  # result is 13 (binary: 1101)\n",
        "result"
      ],
      "metadata": {
        "colab": {
          "base_uri": "https://localhost:8080/"
        },
        "id": "rf0ZXd2hmjlc",
        "outputId": "857edfc7-7129-4da7-a0c4-d33e6fc96ffb"
      },
      "execution_count": 53,
      "outputs": [
        {
          "output_type": "execute_result",
          "data": {
            "text/plain": [
              "13"
            ]
          },
          "metadata": {},
          "execution_count": 53
        }
      ]
    },
    {
      "cell_type": "markdown",
      "source": [
        "* Bitwise XOR (^): Performs a bitwise XOR operation."
      ],
      "metadata": {
        "id": "SaSHoxv7mxcm"
      }
    },
    {
      "cell_type": "code",
      "source": [
        "result = a ^ b  # result is 9 (binary: 1001)\n",
        "result"
      ],
      "metadata": {
        "colab": {
          "base_uri": "https://localhost:8080/"
        },
        "id": "DwaCniE6mud9",
        "outputId": "ed776408-8130-4594-b2fa-794ad6b93668"
      },
      "execution_count": 54,
      "outputs": [
        {
          "output_type": "execute_result",
          "data": {
            "text/plain": [
              "9"
            ]
          },
          "metadata": {},
          "execution_count": 54
        }
      ]
    },
    {
      "cell_type": "markdown",
      "source": [
        "* Bitwise NOT (~): Performs a bitwise NOT operation (inverts all bits).\n"
      ],
      "metadata": {
        "id": "1iazzOhIm933"
      }
    },
    {
      "cell_type": "code",
      "source": [
        "result = ~a  # result is -13 (binary: inverted bits of 12)\n",
        "result"
      ],
      "metadata": {
        "colab": {
          "base_uri": "https://localhost:8080/"
        },
        "id": "1xn0fQ1qm2iG",
        "outputId": "bad787c1-a3d0-4bd5-d67a-7dbb986df7a8"
      },
      "execution_count": 55,
      "outputs": [
        {
          "output_type": "execute_result",
          "data": {
            "text/plain": [
              "-13"
            ]
          },
          "metadata": {},
          "execution_count": 55
        }
      ]
    },
    {
      "cell_type": "markdown",
      "source": [
        "* Bitwise Left Shift (<<): Shifts the bits of the left operand to the left by the number of positions specified by the right operand."
      ],
      "metadata": {
        "id": "JBTzkxXInIXm"
      }
    },
    {
      "cell_type": "code",
      "source": [
        "result = a << 2  # result is 48 (binary: 110000)\n",
        "result"
      ],
      "metadata": {
        "colab": {
          "base_uri": "https://localhost:8080/"
        },
        "id": "NGCv54K8nO4o",
        "outputId": "926e1fe8-528b-47be-89b7-9cf7137cfaa8"
      },
      "execution_count": null,
      "outputs": [
        {
          "output_type": "execute_result",
          "data": {
            "text/plain": [
              "48"
            ]
          },
          "metadata": {},
          "execution_count": 56
        }
      ]
    },
    {
      "cell_type": "markdown",
      "source": [
        "* Bitwise Right Shift (>>): Shifts the bits of the left operand to the right by the number of positions specified by the right operand."
      ],
      "metadata": {
        "id": "3CZVXDaAnLgb"
      }
    },
    {
      "cell_type": "code",
      "source": [
        "result = a >> 2  # result ??????????\n",
        "result"
      ],
      "metadata": {
        "colab": {
          "base_uri": "https://localhost:8080/"
        },
        "id": "fyacULwWnA60",
        "outputId": "2bcd2ae8-fb54-4f15-e90c-1b50eb800134"
      },
      "execution_count": null,
      "outputs": [
        {
          "output_type": "execute_result",
          "data": {
            "text/plain": [
              "3"
            ]
          },
          "metadata": {},
          "execution_count": 57
        }
      ]
    }
  ],
  "metadata": {
    "colab": {
      "provenance": [],
      "toc_visible": true,
      "include_colab_link": true
    },
    "kernelspec": {
      "display_name": "Python 3",
      "name": "python3"
    },
    "language_info": {
      "name": "python"
    }
  },
  "nbformat": 4,
  "nbformat_minor": 0
}